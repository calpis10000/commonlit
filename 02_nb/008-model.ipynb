{
 "cells": [
  {
   "cell_type": "code",
   "execution_count": 1,
   "id": "casual-chain",
   "metadata": {
    "execution": {
     "iopub.execute_input": "2021-05-22T15:25:18.624137Z",
     "iopub.status.busy": "2021-05-22T15:25:18.622618Z",
     "iopub.status.idle": "2021-05-22T15:25:22.575123Z",
     "shell.execute_reply": "2021-05-22T15:25:22.574308Z",
     "shell.execute_reply.started": "2021-05-22T15:04:29.543843Z"
    },
    "papermill": {
     "duration": 3.984063,
     "end_time": "2021-05-22T15:25:22.575283",
     "exception": false,
     "start_time": "2021-05-22T15:25:18.591220",
     "status": "completed"
    },
    "tags": []
   },
   "outputs": [
    {
     "data": {
      "text/html": [
       "<style type='text/css'>\n",
       ".datatable table.frame { margin-bottom: 0; }\n",
       ".datatable table.frame thead { border-bottom: none; }\n",
       ".datatable table.frame tr.coltypes td {  color: #FFFFFF;  line-height: 6px;  padding: 0 0.5em;}\n",
       ".datatable .bool    { background: #DDDD99; }\n",
       ".datatable .object  { background: #565656; }\n",
       ".datatable .int     { background: #5D9E5D; }\n",
       ".datatable .float   { background: #4040CC; }\n",
       ".datatable .str     { background: #CC4040; }\n",
       ".datatable .row_index {  background: var(--jp-border-color3);  border-right: 1px solid var(--jp-border-color0);  color: var(--jp-ui-font-color3);  font-size: 9px;}\n",
       ".datatable .frame tr.coltypes .row_index {  background: var(--jp-border-color0);}\n",
       ".datatable th:nth-child(2) { padding-left: 12px; }\n",
       ".datatable .hellipsis {  color: var(--jp-cell-editor-border-color);}\n",
       ".datatable .vellipsis {  background: var(--jp-layout-color0);  color: var(--jp-cell-editor-border-color);}\n",
       ".datatable .na {  color: var(--jp-cell-editor-border-color);  font-size: 80%;}\n",
       ".datatable .footer { font-size: 9px; }\n",
       ".datatable .frame_dimensions {  background: var(--jp-border-color3);  border-top: 1px solid var(--jp-border-color0);  color: var(--jp-ui-font-color3);  display: inline-block;  opacity: 0.6;  padding: 1px 10px 1px 5px;}\n",
       "</style>\n"
      ],
      "text/plain": [
       "<IPython.core.display.HTML object>"
      ]
     },
     "metadata": {},
     "output_type": "display_data"
    }
   ],
   "source": [
    "# basic\n",
    "import os\n",
    "import gc\n",
    "import sys\n",
    "import yaml\n",
    "import warnings\n",
    "import random\n",
    "from pathlib import Path\n",
    "from glob import glob\n",
    "from tqdm import tqdm_notebook as tqdm\n",
    "import hashlib\n",
    "import pickle\n",
    "warnings.filterwarnings('ignore')\n",
    "\n",
    "# usual\n",
    "import numpy as np\n",
    "import pandas as pd\n",
    "from datetime import datetime\n",
    "from datetime import timedelta\n",
    "\n",
    "# preprocess\n",
    "from fasttext import load_model\n",
    "from sklearn.feature_extraction.text import TfidfVectorizer\n",
    "from sklearn.decomposition import TruncatedSVD\n",
    "from sklearn.pipeline import Pipeline\n",
    "#import texthero as hero\n",
    "import nltk\n",
    "import collections\n",
    "from gensim.models import word2vec, KeyedVectors\n",
    "import cv2\n",
    "import string\n",
    "import re\n",
    "\n",
    "# LightGBM\n",
    "import lightgbm as lgb\n",
    "#import optuna.integration.lightgbm as lgb  # チューニング用\n",
    "\n",
    "# visualization\n",
    "import matplotlib.pyplot as plt\n",
    "import matplotlib.dates as mdates\n",
    "import seaborn as sns\n",
    "from pandas_profiling import ProfileReport  # profile report を作る用\n",
    "\n",
    "# preprocessing\n",
    "from sklearn.preprocessing import LabelEncoder\n",
    "\n",
    "# plot settings\n",
    "plt.rcParams[\"patch.force_edgecolor\"] = False\n",
    "plt.rcParams['font.family'] = 'sans_serif'\n",
    "sns.set(style=\"whitegrid\",  palette=\"muted\", color_codes=True, rc={'grid.linestyle': '--'})\n",
    "red = sns.xkcd_rgb[\"light red\"]\n",
    "green = sns.xkcd_rgb[\"medium green\"]\n",
    "blue = sns.xkcd_rgb[\"denim blue\"]\n",
    "\n",
    "# plot extentions\n",
    "#import japanize_matplotlib\n",
    "from matplotlib_venn import venn2\n",
    "\n",
    "from tqdm import tqdm\n",
    "tqdm.pandas()"
   ]
  },
  {
   "cell_type": "code",
   "execution_count": 2,
   "id": "inappropriate-sandwich",
   "metadata": {
    "execution": {
     "iopub.execute_input": "2021-05-22T15:25:22.623224Z",
     "iopub.status.busy": "2021-05-22T15:25:22.622424Z",
     "iopub.status.idle": "2021-05-22T15:25:22.625650Z",
     "shell.execute_reply": "2021-05-22T15:25:22.626268Z",
     "shell.execute_reply.started": "2021-05-22T15:04:34.583536Z"
    },
    "papermill": {
     "duration": 0.029411,
     "end_time": "2021-05-22T15:25:22.626465",
     "exception": false,
     "start_time": "2021-05-22T15:25:22.597054",
     "status": "completed"
    },
    "tags": []
   },
   "outputs": [
    {
     "name": "stdout",
     "output_type": "stream",
     "text": [
      "nb007\n",
      "nb007_20210522_152522\n"
     ]
    }
   ],
   "source": [
    "# 試験ID生成\n",
    "trial_prefix = 'nb007'  # ←手動で指定 \n",
    "dttm_now = datetime.now().strftime('%Y%m%d_%H%M%S')\n",
    "trial_id = f'{trial_prefix}_{dttm_now}'\n",
    "\n",
    "print(trial_prefix)\n",
    "print(trial_id)"
   ]
  },
  {
   "cell_type": "code",
   "execution_count": 3,
   "id": "failing-collection",
   "metadata": {
    "execution": {
     "iopub.execute_input": "2021-05-22T15:25:22.672015Z",
     "iopub.status.busy": "2021-05-22T15:25:22.671439Z",
     "iopub.status.idle": "2021-05-22T15:25:22.674983Z",
     "shell.execute_reply": "2021-05-22T15:25:22.675396Z",
     "shell.execute_reply.started": "2021-05-22T15:04:34.593711Z"
    },
    "papermill": {
     "duration": 0.026903,
     "end_time": "2021-05-22T15:25:22.675561",
     "exception": false,
     "start_time": "2021-05-22T15:25:22.648658",
     "status": "completed"
    },
    "tags": []
   },
   "outputs": [],
   "source": [
    "# アウトプットの出力先指定\n",
    "if 'kaggle_web_client' in sys.modules:  # kaggle環境\n",
    "    OUTPUT_DIR = Path(\".\")\n",
    "else:\n",
    "    OUTPUT_DIR = Path(f\"../03_outputs/{trial_prefix}\")\n",
    "    OUTPUT_DIR.mkdir(exist_ok=True, parents=True)"
   ]
  },
  {
   "cell_type": "code",
   "execution_count": 4,
   "id": "different-church",
   "metadata": {
    "execution": {
     "iopub.execute_input": "2021-05-22T15:25:22.719523Z",
     "iopub.status.busy": "2021-05-22T15:25:22.718982Z",
     "iopub.status.idle": "2021-05-22T15:25:22.723794Z",
     "shell.execute_reply": "2021-05-22T15:25:22.723229Z",
     "shell.execute_reply.started": "2021-05-22T15:04:34.612396Z"
    },
    "papermill": {
     "duration": 0.02759,
     "end_time": "2021-05-22T15:25:22.723920",
     "exception": false,
     "start_time": "2021-05-22T15:25:22.696330",
     "status": "completed"
    },
    "tags": []
   },
   "outputs": [],
   "source": [
    "# seed固定\n",
    "def set_seed(seed=2021):\n",
    "    random.seed(seed)\n",
    "    np.random.seed(seed)\n",
    "    os.environ[\"PYTHONHASHSEED\"] = str(seed)\n",
    "\n",
    "SEED = 2021\n",
    "set_seed(SEED)"
   ]
  },
  {
   "cell_type": "code",
   "execution_count": 5,
   "id": "animated-lingerie",
   "metadata": {
    "execution": {
     "iopub.execute_input": "2021-05-22T15:25:22.771161Z",
     "iopub.status.busy": "2021-05-22T15:25:22.770465Z",
     "iopub.status.idle": "2021-05-22T15:25:22.773185Z",
     "shell.execute_reply": "2021-05-22T15:25:22.772651Z",
     "shell.execute_reply.started": "2021-05-22T15:04:34.626171Z"
    },
    "papermill": {
     "duration": 0.028129,
     "end_time": "2021-05-22T15:25:22.773312",
     "exception": false,
     "start_time": "2021-05-22T15:25:22.745183",
     "status": "completed"
    },
    "tags": []
   },
   "outputs": [],
   "source": [
    "# インプットフォルダ指定\n",
    "if 'kaggle_web_client' in sys.modules:  # kaggle環境\n",
    "    DATA_DIR = '../input/commonlitreadabilityprize/'\n",
    "else:\n",
    "    DATA_DIR = '../00_input/commonlitreadabilityprize/'"
   ]
  },
  {
   "cell_type": "code",
   "execution_count": 6,
   "id": "disturbed-saudi",
   "metadata": {
    "execution": {
     "iopub.execute_input": "2021-05-22T15:25:22.819951Z",
     "iopub.status.busy": "2021-05-22T15:25:22.819331Z",
     "iopub.status.idle": "2021-05-22T15:25:22.952757Z",
     "shell.execute_reply": "2021-05-22T15:25:22.952189Z",
     "shell.execute_reply.started": "2021-05-22T15:04:34.639769Z"
    },
    "papermill": {
     "duration": 0.158532,
     "end_time": "2021-05-22T15:25:22.952893",
     "exception": false,
     "start_time": "2021-05-22T15:25:22.794361",
     "status": "completed"
    },
    "tags": []
   },
   "outputs": [],
   "source": [
    "# read_data\n",
    "train_base = pd.read_csv(DATA_DIR + 'train.csv')\n",
    "test_base = pd.read_csv(DATA_DIR + 'test.csv')\n",
    "sample = pd.read_csv(DATA_DIR + 'sample_submission.csv')"
   ]
  },
  {
   "cell_type": "markdown",
   "id": "finite-marketplace",
   "metadata": {
    "papermill": {
     "duration": 0.020462,
     "end_time": "2021-05-22T15:25:22.994301",
     "exception": false,
     "start_time": "2021-05-22T15:25:22.973839",
     "status": "completed"
    },
    "tags": []
   },
   "source": [
    "## 特徴作成_共通処理"
   ]
  },
  {
   "cell_type": "code",
   "execution_count": 7,
   "id": "guilty-stability",
   "metadata": {
    "execution": {
     "iopub.execute_input": "2021-05-22T15:25:23.040345Z",
     "iopub.status.busy": "2021-05-22T15:25:23.039817Z",
     "iopub.status.idle": "2021-05-22T15:25:23.042422Z",
     "shell.execute_reply": "2021-05-22T15:25:23.041993Z",
     "shell.execute_reply.started": "2021-05-22T15:04:34.758005Z"
    },
    "papermill": {
     "duration": 0.027485,
     "end_time": "2021-05-22T15:25:23.042557",
     "exception": false,
     "start_time": "2021-05-22T15:25:23.015072",
     "status": "completed"
    },
    "tags": []
   },
   "outputs": [],
   "source": [
    "# ベースとなる継承元のクラス\n",
    "class BaseBlock(object):\n",
    "    def fit(self, input_df, y=None):\n",
    "        return self.transform(input_df)\n",
    "    def transform(self, input_df):\n",
    "        raise NotImplementedError()"
   ]
  },
  {
   "cell_type": "markdown",
   "id": "explicit-trail",
   "metadata": {
    "papermill": {
     "duration": 0.020277,
     "end_time": "2021-05-22T15:25:23.083858",
     "exception": false,
     "start_time": "2021-05-22T15:25:23.063581",
     "status": "completed"
    },
    "tags": []
   },
   "source": [
    "## テキスト特徴_共通処理"
   ]
  },
  {
   "cell_type": "code",
   "execution_count": 8,
   "id": "august-trout",
   "metadata": {
    "execution": {
     "iopub.execute_input": "2021-05-22T15:25:23.129572Z",
     "iopub.status.busy": "2021-05-22T15:25:23.129000Z",
     "iopub.status.idle": "2021-05-22T15:25:23.131426Z",
     "shell.execute_reply": "2021-05-22T15:25:23.131003Z",
     "shell.execute_reply.started": "2021-05-22T15:04:34.767062Z"
    },
    "papermill": {
     "duration": 0.02709,
     "end_time": "2021-05-22T15:25:23.131564",
     "exception": false,
     "start_time": "2021-05-22T15:25:23.104474",
     "status": "completed"
    },
    "tags": []
   },
   "outputs": [],
   "source": [
    "# ローカルの場合、stopwordsをダウンロード\n",
    "import nltk\n",
    "if 'kaggle_web_client' in sys.modules:  # kaggle環境\n",
    "    pass\n",
    "else:\n",
    "    import nltk\n",
    "    nltk.download('stopwords')\n",
    "    os.listdir(os.path.expanduser('~/nltk_data/corpora/stopwords/'))"
   ]
  },
  {
   "cell_type": "code",
   "execution_count": 9,
   "id": "faced-diamond",
   "metadata": {
    "execution": {
     "iopub.execute_input": "2021-05-22T15:25:23.181697Z",
     "iopub.status.busy": "2021-05-22T15:25:23.181096Z",
     "iopub.status.idle": "2021-05-22T15:25:23.197753Z",
     "shell.execute_reply": "2021-05-22T15:25:23.197236Z",
     "shell.execute_reply.started": "2021-05-22T15:04:34.778926Z"
    },
    "papermill": {
     "duration": 0.045027,
     "end_time": "2021-05-22T15:25:23.197884",
     "exception": false,
     "start_time": "2021-05-22T15:25:23.152857",
     "status": "completed"
    },
    "tags": []
   },
   "outputs": [],
   "source": [
    "# テキスト前処理\n",
    "# https://www.kaggle.com/alaasedeeq/commonlit-readability-eda\n",
    "\n",
    "#filtering the unwanted symbols, spaces, ....etc\n",
    "to_replace_by_space = re.compile('[/(){}\\[\\]|@,;]')\n",
    "punctuation = re.compile(f'([{string.punctuation}“”¨«»®´·º½¾¿¡§£₤‘’])')\n",
    "bad_symbols = re.compile('[^0-9a-z #+_]')\n",
    "stopwords = set(nltk.corpus.stopwords.words('english'))\n",
    "\n",
    "def text_prepare(text):\n",
    "    '''\n",
    "    text: a string\n",
    "    returna modified version of the string\n",
    "    '''\n",
    "    text = text.lower() # lowercase text\n",
    "    text = re.sub(punctuation, '',text)\n",
    "    text = re.sub(to_replace_by_space, \" \", text) # replace REPLACE_BY_SPACE_RE symbols by space in text\n",
    "    text = re.sub(bad_symbols, \"\", text)         # delete symbols which are in BAD_SYMBOLS_RE from text\n",
    "    text = \" \".join([word for word in text.split(\" \") if word not in stopwords]) # delete stopwords from text\n",
    "    text = re.sub(' +', ' ', text)\n",
    "    return text\n"
   ]
  },
  {
   "cell_type": "code",
   "execution_count": 10,
   "id": "crucial-processing",
   "metadata": {
    "execution": {
     "iopub.execute_input": "2021-05-22T15:25:23.244553Z",
     "iopub.status.busy": "2021-05-22T15:25:23.243936Z",
     "iopub.status.idle": "2021-05-22T15:25:23.245891Z",
     "shell.execute_reply": "2021-05-22T15:25:23.246301Z",
     "shell.execute_reply.started": "2021-05-22T15:04:34.812505Z"
    },
    "papermill": {
     "duration": 0.027706,
     "end_time": "2021-05-22T15:25:23.246451",
     "exception": false,
     "start_time": "2021-05-22T15:25:23.218745",
     "status": "completed"
    },
    "tags": []
   },
   "outputs": [],
   "source": [
    "def text_normalization(s:pd.Series):\n",
    "    x = s.apply(text_prepare)\n",
    "    return x\n",
    "\n",
    "# Counterオブジェクトを取得\n",
    "def get_counter(text:str):\n",
    "    text_list = [wrd for wrd in text.split(\" \") if wrd not in ('', '\\n')]\n",
    "    counter = collections.Counter(text_list)\n",
    "    return counter"
   ]
  },
  {
   "cell_type": "markdown",
   "id": "efficient-alberta",
   "metadata": {
    "papermill": {
     "duration": 0.020509,
     "end_time": "2021-05-22T15:25:23.287858",
     "exception": false,
     "start_time": "2021-05-22T15:25:23.267349",
     "status": "completed"
    },
    "tags": []
   },
   "source": [
    "## テキスト特徴_統計量"
   ]
  },
  {
   "cell_type": "code",
   "execution_count": 11,
   "id": "radical-mathematics",
   "metadata": {
    "execution": {
     "iopub.execute_input": "2021-05-22T15:25:23.331826Z",
     "iopub.status.busy": "2021-05-22T15:25:23.331240Z",
     "iopub.status.idle": "2021-05-22T15:25:23.340601Z",
     "shell.execute_reply": "2021-05-22T15:25:23.341011Z",
     "shell.execute_reply.started": "2021-05-22T15:04:34.821066Z"
    },
    "papermill": {
     "duration": 0.032687,
     "end_time": "2021-05-22T15:25:23.341173",
     "exception": false,
     "start_time": "2021-05-22T15:25:23.308486",
     "status": "completed"
    },
    "tags": []
   },
   "outputs": [],
   "source": [
    "class TextDescriptionBlock(BaseBlock):\n",
    "    \"\"\"テキストに関する統計量を返す block\"\"\"\n",
    "    def __init__(self, column: str):\n",
    "        \"\"\"\n",
    "        args:\n",
    "            column: str\n",
    "                変換対象のカラム名\n",
    "        \"\"\"\n",
    "        self.column = column\n",
    "\n",
    "    # 前処理\n",
    "    def preprocess(self, input_df):\n",
    "        x = text_normalization(input_df[self.column])\n",
    "        return x\n",
    "        \n",
    "    def fit(self, input_df, y=None, n_components=50):\n",
    "        self.text = self.preprocess(input_df)\n",
    "        self.counters = self.text.map(get_counter)\n",
    "        return self.transform(input_df)\n",
    "\n",
    "    def transform(self, input_df):\n",
    "        _length = input_df[self.column].fillna('').map(lambda x: len(x) if x!='' else np.nan)\n",
    "        _wrd_cnt = self.counters.map(lambda x: sum(x.values()))\n",
    "        _wrd_nuniq = self.counters.map(lambda x: len(x))\n",
    "        _wrd_mean = self.counters.map(lambda x: np.mean(list(x.values())))\n",
    "        _wrd_max = self.counters.map(lambda x: np.max(list(x.values())))\n",
    "        \n",
    "        word_length = self.counters.map(lambda x: np.array([len(i) for i in x.keys()]))\n",
    "        word_length_desc = word_length.map(lambda x: pd.Series(x.ravel()).describe())\n",
    "        _word_length_desc_df = pd.DataFrame(word_length_desc.tolist()).iloc[:,1:]\n",
    "        _word_length_desc_df = _word_length_desc_df.add_prefix('word_length_')\n",
    "        \n",
    "        out_df = pd.concat([_length, _wrd_cnt, _wrd_nuniq, _wrd_mean, _wrd_max], axis=1)\n",
    "        out_df.columns = ['text_length', 'word_count', 'word_nunique', 'word_appearance_mean', 'word_appearance_max']\n",
    "        out_df = pd.concat([out_df, _word_length_desc_df], axis=1)\n",
    "        return out_df.add_suffix(f'_{self.column}')"
   ]
  },
  {
   "cell_type": "markdown",
   "id": "following-charter",
   "metadata": {
    "papermill": {
     "duration": 0.02059,
     "end_time": "2021-05-22T15:25:23.382904",
     "exception": false,
     "start_time": "2021-05-22T15:25:23.362314",
     "status": "completed"
    },
    "tags": []
   },
   "source": [
    "## テキスト特徴_TF-IDF"
   ]
  },
  {
   "cell_type": "code",
   "execution_count": 12,
   "id": "wrong-trout",
   "metadata": {
    "execution": {
     "iopub.execute_input": "2021-05-22T15:25:23.427756Z",
     "iopub.status.busy": "2021-05-22T15:25:23.427199Z",
     "iopub.status.idle": "2021-05-22T15:25:23.434242Z",
     "shell.execute_reply": "2021-05-22T15:25:23.434722Z",
     "shell.execute_reply.started": "2021-05-22T15:04:34.84216Z"
    },
    "papermill": {
     "duration": 0.03089,
     "end_time": "2021-05-22T15:25:23.434875",
     "exception": false,
     "start_time": "2021-05-22T15:25:23.403985",
     "status": "completed"
    },
    "tags": []
   },
   "outputs": [],
   "source": [
    "# 参考: https://www.guruguru.science/competitions/16/discussions/556029f7-484d-40d4-ad6a-9d86337487e2/\n",
    "\n",
    "class TfidfBlock(BaseBlock):\n",
    "    \"\"\"tfidf x SVD による圧縮を行なう block\"\"\"\n",
    "    def __init__(self, column: str, n_components=50, ngram_range=(1,1)):\n",
    "        \"\"\"\n",
    "        args:\n",
    "            column: str\n",
    "                変換対象のカラム名\n",
    "        \"\"\"\n",
    "        self.column = column\n",
    "        self.n_components=n_components\n",
    "        self.ngram_range=ngram_range\n",
    "\n",
    "    def preprocess(self, input_df):\n",
    "        x = text_normalization(input_df[self.column])\n",
    "        return x\n",
    "\n",
    "    def get_master(self, _master_df):\n",
    "        \"\"\"tdidfを計算するための全体集合を返す.\"\"\"\n",
    "        return _master_df\n",
    "\n",
    "    def fit(self, \n",
    "            input_df, \n",
    "            _master_df=None, \n",
    "            y=None\n",
    "           ):\n",
    "        master_df = input_df if _master_df is None else self.get_master(_master_df)\n",
    "        text = self.preprocess(master_df)\n",
    "        self.pileline_ = Pipeline([\n",
    "            ('tfidf', TfidfVectorizer(max_features=100000, ngram_range=self.ngram_range)),\n",
    "            ('svd', TruncatedSVD(n_components=self.n_components, random_state=SEED)),\n",
    "        ])\n",
    "\n",
    "        self.pileline_.fit(text)\n",
    "        return self.transform(input_df)\n",
    "\n",
    "    def transform(self, input_df):\n",
    "        text = self.preprocess(input_df)\n",
    "        z = self.pileline_.transform(text)\n",
    "\n",
    "        out_df = pd.DataFrame(z)\n",
    "        return out_df.add_prefix(f'{self.column}_tfidf_{\"_\".join([str(i) for i in self.ngram_range])}_')\n"
   ]
  },
  {
   "cell_type": "markdown",
   "id": "surprised-chest",
   "metadata": {
    "papermill": {
     "duration": 0.020948,
     "end_time": "2021-05-22T15:25:23.476898",
     "exception": false,
     "start_time": "2021-05-22T15:25:23.455950",
     "status": "completed"
    },
    "tags": []
   },
   "source": [
    "## テキスト特徴_W2V(平均)"
   ]
  },
  {
   "cell_type": "code",
   "execution_count": 13,
   "id": "cloudy-joshua",
   "metadata": {
    "execution": {
     "iopub.execute_input": "2021-05-22T15:25:23.521684Z",
     "iopub.status.busy": "2021-05-22T15:25:23.521110Z",
     "iopub.status.idle": "2021-05-22T15:25:23.530578Z",
     "shell.execute_reply": "2021-05-22T15:25:23.531032Z",
     "shell.execute_reply.started": "2021-05-22T15:11:01.470516Z"
    },
    "papermill": {
     "duration": 0.03336,
     "end_time": "2021-05-22T15:25:23.531191",
     "exception": false,
     "start_time": "2021-05-22T15:25:23.497831",
     "status": "completed"
    },
    "tags": []
   },
   "outputs": [],
   "source": [
    "# https://www.guruguru.science/competitions/16/discussions/2fafef06-5a26-4d33-b535-a94cc9549ac4/\n",
    "# https://www.guruguru.science/competitions/16/discussions/4a6f5f84-8491-4324-ba69-dec49dc648cd/\n",
    "\n",
    "def hashfxn(x):\n",
    "    return int(hashlib.md5(str(x).encode()).hexdigest(), 16)\n",
    "\n",
    "class W2VTrainBlock(BaseBlock):\n",
    "    \"\"\"Word2Vecを学習し、文書のベクトル表現を得るブロック。\n",
    "       学習済みモデルを使うパターンは、別に作成するものとする。\"\"\"\n",
    "    def __init__(self, \n",
    "                 column: str, \n",
    "                 model_size=50, \n",
    "                 min_count=1, \n",
    "                 window=5,\n",
    "                 n_iter=100\n",
    "                 ):\n",
    "        \"\"\"\n",
    "        args:\n",
    "            column: str\n",
    "                変換対象のカラム名\n",
    "        \"\"\"\n",
    "        self.column = column\n",
    "        self.model_size=model_size\n",
    "        self.min_count=min_count\n",
    "        self.window=window\n",
    "        self.n_iter=n_iter\n",
    "\n",
    "    def preprocess(self, input_df):\n",
    "        x = text_normalization(input_df[self.column])\n",
    "        return x\n",
    "\n",
    "    def get_master(self, _master_df):\n",
    "        \"\"\"Word2Vecを学習するための全体集合を返す.\"\"\"\n",
    "        return _master_df\n",
    "\n",
    "    def fit(self, \n",
    "            input_df, \n",
    "            _master_df=None\n",
    "           ):\n",
    "        master_df = input_df if _master_df is None else self.get_master(_master_df)\n",
    "        text = self.preprocess(master_df)\n",
    "        word_lists = text.map(lambda x: [i for i in x.split(' ') if i not in (' ')])\n",
    "        self.w2v_model = word2vec.Word2Vec(word_lists.values.tolist(),\n",
    "                                      vector_size=self.model_size,\n",
    "                                      min_count=self.min_count,\n",
    "                                      window=self.window,\n",
    "                                      seed=SEED,\n",
    "                                      workers=1,\n",
    "                                      hashfxn=hashfxn)\n",
    "\n",
    "        return self.transform(input_df)\n",
    "\n",
    "    def transform(self, input_df):\n",
    "        text = self.preprocess(input_df)\n",
    "        word_lists = text.map(lambda x: [i for i in x.split(' ') if i not in (' ')])\n",
    "\n",
    "        # 各文章ごとにそれぞれの単語をベクトル表現に直し、平均をとって文章ベクトルにする\n",
    "        sentence_vectors = word_lists.progress_apply(\n",
    "            lambda x: np.mean([self.w2v_model.wv[e] for e in x], axis=0))\n",
    "        sentence_vectors = np.vstack([x for x in sentence_vectors])\n",
    "        sentence_vector_df = pd.DataFrame(sentence_vectors,\n",
    "                                          columns=[f\"{self.column}_w2v_w{self.window}_{i}\"\n",
    "                                                   for i in range(self.model_size)])\n",
    "        \n",
    "        return sentence_vector_df\n"
   ]
  },
  {
   "cell_type": "markdown",
   "id": "tested-problem",
   "metadata": {
    "papermill": {
     "duration": 0.020674,
     "end_time": "2021-05-22T15:25:23.572789",
     "exception": false,
     "start_time": "2021-05-22T15:25:23.552115",
     "status": "completed"
    },
    "tags": []
   },
   "source": [
    "# make_feat"
   ]
  },
  {
   "cell_type": "code",
   "execution_count": 14,
   "id": "brazilian-ability",
   "metadata": {
    "execution": {
     "iopub.execute_input": "2021-05-22T15:25:23.617723Z",
     "iopub.status.busy": "2021-05-22T15:25:23.617217Z",
     "iopub.status.idle": "2021-05-22T15:25:23.632300Z",
     "shell.execute_reply": "2021-05-22T15:25:23.632767Z"
    },
    "papermill": {
     "duration": 0.039162,
     "end_time": "2021-05-22T15:25:23.632930",
     "exception": false,
     "start_time": "2021-05-22T15:25:23.593768",
     "status": "completed"
    },
    "tags": []
   },
   "outputs": [],
   "source": [
    "# 初期化\n",
    "train_feat = pd.DataFrame()\n",
    "test_feat = pd.DataFrame()\n",
    "train_target = train_base['target'].copy()\n",
    "\n",
    "# tfidf作成用のdf作成\n",
    "whole_df = pd.concat([train_base[['id', 'excerpt']], test_base[['id', 'excerpt']]], axis='rows')"
   ]
  },
  {
   "cell_type": "code",
   "execution_count": 15,
   "id": "nervous-mainland",
   "metadata": {
    "execution": {
     "iopub.execute_input": "2021-05-22T15:25:23.677608Z",
     "iopub.status.busy": "2021-05-22T15:25:23.677077Z",
     "iopub.status.idle": "2021-05-22T15:25:23.681404Z",
     "shell.execute_reply": "2021-05-22T15:25:23.681844Z"
    },
    "papermill": {
     "duration": 0.027968,
     "end_time": "2021-05-22T15:25:23.681996",
     "exception": false,
     "start_time": "2021-05-22T15:25:23.654028",
     "status": "completed"
    },
    "tags": []
   },
   "outputs": [],
   "source": [
    "# block初期化\n",
    "text_desc = TextDescriptionBlock('excerpt')\n",
    "\n",
    "tfidf_uni = TfidfBlock('excerpt', ngram_range=(1,1))\n",
    "tfidf_bi = TfidfBlock('excerpt', ngram_range=(2,2))\n",
    "tfidf_uni_bi = TfidfBlock('excerpt', ngram_range=(1,2))\n",
    "\n",
    "w2v_w3 = W2VTrainBlock('excerpt', window=3)\n",
    "w2v_w10 = W2VTrainBlock('excerpt', window=10)\n",
    "w2v_w100 = W2VTrainBlock('excerpt', window=100)"
   ]
  },
  {
   "cell_type": "code",
   "execution_count": 16,
   "id": "dominican-stopping",
   "metadata": {
    "execution": {
     "iopub.execute_input": "2021-05-22T15:25:23.770996Z",
     "iopub.status.busy": "2021-05-22T15:25:23.765793Z",
     "iopub.status.idle": "2021-05-22T15:25:44.792925Z",
     "shell.execute_reply": "2021-05-22T15:25:44.793337Z"
    },
    "papermill": {
     "duration": 21.090441,
     "end_time": "2021-05-22T15:25:44.793489",
     "exception": false,
     "start_time": "2021-05-22T15:25:23.703048",
     "status": "completed"
    },
    "tags": []
   },
   "outputs": [
    {
     "name": "stderr",
     "output_type": "stream",
     "text": [
      "100%|██████████| 2834/2834 [00:00<00:00, 5003.94it/s]\n"
     ]
    }
   ],
   "source": [
    "# fit & trainの特徴作成\n",
    "# 単体で完結するもの\n",
    "train_feat = pd.concat([train_feat, text_desc.fit(train_base)], axis='columns')\n",
    "\n",
    "# 対象dfとは別に、特徴作成用dfを指定するもの\n",
    "train_feat = pd.concat([train_feat, tfidf_uni.fit(train_base, whole_df)], axis='columns')\n",
    "train_feat = pd.concat([train_feat, tfidf_bi.fit(train_base, whole_df)], axis='columns')\n",
    "train_feat = pd.concat([train_feat, tfidf_uni_bi.fit(train_base, whole_df)], axis='columns')\n",
    "\n",
    "train_feat = pd.concat([train_feat, w2v_w3.fit(train_base, whole_df)], axis='columns')\n",
    "#train_feat = pd.concat([train_feat, w2v_w10.fit(train_base, whole_df)], axis='columns')\n",
    "#train_feat = pd.concat([train_feat, w2v_w100.fit(train_base, whole_df)], axis='columns')"
   ]
  },
  {
   "cell_type": "code",
   "execution_count": 17,
   "id": "musical-design",
   "metadata": {
    "execution": {
     "iopub.execute_input": "2021-05-22T15:25:44.850400Z",
     "iopub.status.busy": "2021-05-22T15:25:44.849772Z",
     "iopub.status.idle": "2021-05-22T15:25:44.925708Z",
     "shell.execute_reply": "2021-05-22T15:25:44.926075Z"
    },
    "papermill": {
     "duration": 0.110081,
     "end_time": "2021-05-22T15:25:44.926233",
     "exception": false,
     "start_time": "2021-05-22T15:25:44.816152",
     "status": "completed"
    },
    "tags": []
   },
   "outputs": [
    {
     "name": "stderr",
     "output_type": "stream",
     "text": [
      "100%|██████████| 7/7 [00:00<00:00, 2977.10it/s]\n"
     ]
    }
   ],
   "source": [
    "# testの特徴作成\n",
    "# 単体で完結するもの\n",
    "test_feat = pd.concat([test_feat, text_desc.fit(test_base)], axis='columns')\n",
    "\n",
    "# 対象dfとは別に、特徴作成用dfを指定するもの\n",
    "test_feat = pd.concat([test_feat, tfidf_uni.transform(test_base)], axis='columns')\n",
    "test_feat = pd.concat([test_feat, tfidf_bi.transform(test_base)], axis='columns')\n",
    "test_feat = pd.concat([test_feat, tfidf_uni_bi.transform(test_base)], axis='columns')\n",
    "\n",
    "test_feat = pd.concat([test_feat, w2v_w3.transform(test_base)], axis='columns')\n",
    "#test_feat = pd.concat([test_feat, w2v_w10.transform(test_base)], axis='columns')\n",
    "#test_feat = pd.concat([test_feat, w2v_w100.transform(test_base)], axis='columns')"
   ]
  },
  {
   "cell_type": "code",
   "execution_count": 18,
   "id": "immediate-timothy",
   "metadata": {
    "execution": {
     "iopub.execute_input": "2021-05-22T15:25:44.980299Z",
     "iopub.status.busy": "2021-05-22T15:25:44.979590Z",
     "iopub.status.idle": "2021-05-22T15:25:45.005591Z",
     "shell.execute_reply": "2021-05-22T15:25:45.005964Z"
    },
    "papermill": {
     "duration": 0.056548,
     "end_time": "2021-05-22T15:25:45.006143",
     "exception": false,
     "start_time": "2021-05-22T15:25:44.949595",
     "status": "completed"
    },
    "tags": []
   },
   "outputs": [
    {
     "name": "stdout",
     "output_type": "stream",
     "text": [
      "(2834, 212)\n"
     ]
    },
    {
     "data": {
      "text/html": [
       "<div>\n",
       "<style scoped>\n",
       "    .dataframe tbody tr th:only-of-type {\n",
       "        vertical-align: middle;\n",
       "    }\n",
       "\n",
       "    .dataframe tbody tr th {\n",
       "        vertical-align: top;\n",
       "    }\n",
       "\n",
       "    .dataframe thead th {\n",
       "        text-align: right;\n",
       "    }\n",
       "</style>\n",
       "<table border=\"1\" class=\"dataframe\">\n",
       "  <thead>\n",
       "    <tr style=\"text-align: right;\">\n",
       "      <th></th>\n",
       "      <th>text_length_excerpt</th>\n",
       "      <th>word_count_excerpt</th>\n",
       "      <th>word_nunique_excerpt</th>\n",
       "      <th>word_appearance_mean_excerpt</th>\n",
       "      <th>word_appearance_max_excerpt</th>\n",
       "      <th>word_length_mean_excerpt</th>\n",
       "      <th>word_length_std_excerpt</th>\n",
       "      <th>word_length_min_excerpt</th>\n",
       "      <th>word_length_25%_excerpt</th>\n",
       "      <th>word_length_50%_excerpt</th>\n",
       "      <th>...</th>\n",
       "      <th>excerpt_w2v_w3_40</th>\n",
       "      <th>excerpt_w2v_w3_41</th>\n",
       "      <th>excerpt_w2v_w3_42</th>\n",
       "      <th>excerpt_w2v_w3_43</th>\n",
       "      <th>excerpt_w2v_w3_44</th>\n",
       "      <th>excerpt_w2v_w3_45</th>\n",
       "      <th>excerpt_w2v_w3_46</th>\n",
       "      <th>excerpt_w2v_w3_47</th>\n",
       "      <th>excerpt_w2v_w3_48</th>\n",
       "      <th>excerpt_w2v_w3_49</th>\n",
       "    </tr>\n",
       "  </thead>\n",
       "  <tbody>\n",
       "    <tr>\n",
       "      <th>0</th>\n",
       "      <td>992</td>\n",
       "      <td>89</td>\n",
       "      <td>76</td>\n",
       "      <td>1.171053</td>\n",
       "      <td>4</td>\n",
       "      <td>6.381579</td>\n",
       "      <td>2.039393</td>\n",
       "      <td>3.0</td>\n",
       "      <td>5.0</td>\n",
       "      <td>6.0</td>\n",
       "      <td>...</td>\n",
       "      <td>-0.033123</td>\n",
       "      <td>-0.058183</td>\n",
       "      <td>0.618079</td>\n",
       "      <td>-0.116900</td>\n",
       "      <td>0.496683</td>\n",
       "      <td>-0.562420</td>\n",
       "      <td>0.340908</td>\n",
       "      <td>-0.041877</td>\n",
       "      <td>0.382984</td>\n",
       "      <td>-0.385101</td>\n",
       "    </tr>\n",
       "    <tr>\n",
       "      <th>1</th>\n",
       "      <td>937</td>\n",
       "      <td>85</td>\n",
       "      <td>75</td>\n",
       "      <td>1.133333</td>\n",
       "      <td>4</td>\n",
       "      <td>5.786667</td>\n",
       "      <td>2.225730</td>\n",
       "      <td>2.0</td>\n",
       "      <td>4.0</td>\n",
       "      <td>5.0</td>\n",
       "      <td>...</td>\n",
       "      <td>-0.042879</td>\n",
       "      <td>-0.059586</td>\n",
       "      <td>0.695204</td>\n",
       "      <td>-0.123135</td>\n",
       "      <td>0.565412</td>\n",
       "      <td>-0.631038</td>\n",
       "      <td>0.387538</td>\n",
       "      <td>-0.045683</td>\n",
       "      <td>0.428910</td>\n",
       "      <td>-0.435013</td>\n",
       "    </tr>\n",
       "    <tr>\n",
       "      <th>2</th>\n",
       "      <td>908</td>\n",
       "      <td>83</td>\n",
       "      <td>74</td>\n",
       "      <td>1.121622</td>\n",
       "      <td>4</td>\n",
       "      <td>5.716216</td>\n",
       "      <td>2.205350</td>\n",
       "      <td>2.0</td>\n",
       "      <td>4.0</td>\n",
       "      <td>5.0</td>\n",
       "      <td>...</td>\n",
       "      <td>-0.037535</td>\n",
       "      <td>-0.055210</td>\n",
       "      <td>0.615543</td>\n",
       "      <td>-0.106943</td>\n",
       "      <td>0.496674</td>\n",
       "      <td>-0.556524</td>\n",
       "      <td>0.338272</td>\n",
       "      <td>-0.036284</td>\n",
       "      <td>0.378496</td>\n",
       "      <td>-0.382754</td>\n",
       "    </tr>\n",
       "    <tr>\n",
       "      <th>3</th>\n",
       "      <td>909</td>\n",
       "      <td>91</td>\n",
       "      <td>82</td>\n",
       "      <td>1.109756</td>\n",
       "      <td>2</td>\n",
       "      <td>5.548780</td>\n",
       "      <td>1.873483</td>\n",
       "      <td>3.0</td>\n",
       "      <td>4.0</td>\n",
       "      <td>5.0</td>\n",
       "      <td>...</td>\n",
       "      <td>-0.028812</td>\n",
       "      <td>-0.053986</td>\n",
       "      <td>0.557650</td>\n",
       "      <td>-0.102266</td>\n",
       "      <td>0.448373</td>\n",
       "      <td>-0.507782</td>\n",
       "      <td>0.308729</td>\n",
       "      <td>-0.035056</td>\n",
       "      <td>0.345968</td>\n",
       "      <td>-0.346188</td>\n",
       "    </tr>\n",
       "    <tr>\n",
       "      <th>4</th>\n",
       "      <td>723</td>\n",
       "      <td>70</td>\n",
       "      <td>23</td>\n",
       "      <td>3.043478</td>\n",
       "      <td>12</td>\n",
       "      <td>4.956522</td>\n",
       "      <td>1.918291</td>\n",
       "      <td>3.0</td>\n",
       "      <td>4.0</td>\n",
       "      <td>5.0</td>\n",
       "      <td>...</td>\n",
       "      <td>-0.056288</td>\n",
       "      <td>-0.104191</td>\n",
       "      <td>0.970078</td>\n",
       "      <td>-0.175321</td>\n",
       "      <td>0.777469</td>\n",
       "      <td>-0.873577</td>\n",
       "      <td>0.536181</td>\n",
       "      <td>-0.069616</td>\n",
       "      <td>0.595879</td>\n",
       "      <td>-0.606046</td>\n",
       "    </tr>\n",
       "  </tbody>\n",
       "</table>\n",
       "<p>5 rows × 212 columns</p>\n",
       "</div>"
      ],
      "text/plain": [
       "   text_length_excerpt  word_count_excerpt  word_nunique_excerpt  \\\n",
       "0                  992                  89                    76   \n",
       "1                  937                  85                    75   \n",
       "2                  908                  83                    74   \n",
       "3                  909                  91                    82   \n",
       "4                  723                  70                    23   \n",
       "\n",
       "   word_appearance_mean_excerpt  word_appearance_max_excerpt  \\\n",
       "0                      1.171053                            4   \n",
       "1                      1.133333                            4   \n",
       "2                      1.121622                            4   \n",
       "3                      1.109756                            2   \n",
       "4                      3.043478                           12   \n",
       "\n",
       "   word_length_mean_excerpt  word_length_std_excerpt  word_length_min_excerpt  \\\n",
       "0                  6.381579                 2.039393                      3.0   \n",
       "1                  5.786667                 2.225730                      2.0   \n",
       "2                  5.716216                 2.205350                      2.0   \n",
       "3                  5.548780                 1.873483                      3.0   \n",
       "4                  4.956522                 1.918291                      3.0   \n",
       "\n",
       "   word_length_25%_excerpt  word_length_50%_excerpt  ...  excerpt_w2v_w3_40  \\\n",
       "0                      5.0                      6.0  ...          -0.033123   \n",
       "1                      4.0                      5.0  ...          -0.042879   \n",
       "2                      4.0                      5.0  ...          -0.037535   \n",
       "3                      4.0                      5.0  ...          -0.028812   \n",
       "4                      4.0                      5.0  ...          -0.056288   \n",
       "\n",
       "   excerpt_w2v_w3_41  excerpt_w2v_w3_42  excerpt_w2v_w3_43  excerpt_w2v_w3_44  \\\n",
       "0          -0.058183           0.618079          -0.116900           0.496683   \n",
       "1          -0.059586           0.695204          -0.123135           0.565412   \n",
       "2          -0.055210           0.615543          -0.106943           0.496674   \n",
       "3          -0.053986           0.557650          -0.102266           0.448373   \n",
       "4          -0.104191           0.970078          -0.175321           0.777469   \n",
       "\n",
       "   excerpt_w2v_w3_45  excerpt_w2v_w3_46  excerpt_w2v_w3_47  excerpt_w2v_w3_48  \\\n",
       "0          -0.562420           0.340908          -0.041877           0.382984   \n",
       "1          -0.631038           0.387538          -0.045683           0.428910   \n",
       "2          -0.556524           0.338272          -0.036284           0.378496   \n",
       "3          -0.507782           0.308729          -0.035056           0.345968   \n",
       "4          -0.873577           0.536181          -0.069616           0.595879   \n",
       "\n",
       "   excerpt_w2v_w3_49  \n",
       "0          -0.385101  \n",
       "1          -0.435013  \n",
       "2          -0.382754  \n",
       "3          -0.346188  \n",
       "4          -0.606046  \n",
       "\n",
       "[5 rows x 212 columns]"
      ]
     },
     "execution_count": 18,
     "metadata": {},
     "output_type": "execute_result"
    }
   ],
   "source": [
    "print(train_feat.shape)\n",
    "train_feat.head()"
   ]
  },
  {
   "cell_type": "code",
   "execution_count": 19,
   "id": "intense-egyptian",
   "metadata": {
    "execution": {
     "iopub.execute_input": "2021-05-22T15:25:45.067467Z",
     "iopub.status.busy": "2021-05-22T15:25:45.066908Z",
     "iopub.status.idle": "2021-05-22T15:25:45.081299Z",
     "shell.execute_reply": "2021-05-22T15:25:45.081713Z"
    },
    "papermill": {
     "duration": 0.051672,
     "end_time": "2021-05-22T15:25:45.081865",
     "exception": false,
     "start_time": "2021-05-22T15:25:45.030193",
     "status": "completed"
    },
    "tags": []
   },
   "outputs": [
    {
     "name": "stdout",
     "output_type": "stream",
     "text": [
      "(7, 212)\n"
     ]
    },
    {
     "data": {
      "text/html": [
       "<div>\n",
       "<style scoped>\n",
       "    .dataframe tbody tr th:only-of-type {\n",
       "        vertical-align: middle;\n",
       "    }\n",
       "\n",
       "    .dataframe tbody tr th {\n",
       "        vertical-align: top;\n",
       "    }\n",
       "\n",
       "    .dataframe thead th {\n",
       "        text-align: right;\n",
       "    }\n",
       "</style>\n",
       "<table border=\"1\" class=\"dataframe\">\n",
       "  <thead>\n",
       "    <tr style=\"text-align: right;\">\n",
       "      <th></th>\n",
       "      <th>text_length_excerpt</th>\n",
       "      <th>word_count_excerpt</th>\n",
       "      <th>word_nunique_excerpt</th>\n",
       "      <th>word_appearance_mean_excerpt</th>\n",
       "      <th>word_appearance_max_excerpt</th>\n",
       "      <th>word_length_mean_excerpt</th>\n",
       "      <th>word_length_std_excerpt</th>\n",
       "      <th>word_length_min_excerpt</th>\n",
       "      <th>word_length_25%_excerpt</th>\n",
       "      <th>word_length_50%_excerpt</th>\n",
       "      <th>...</th>\n",
       "      <th>excerpt_w2v_w3_40</th>\n",
       "      <th>excerpt_w2v_w3_41</th>\n",
       "      <th>excerpt_w2v_w3_42</th>\n",
       "      <th>excerpt_w2v_w3_43</th>\n",
       "      <th>excerpt_w2v_w3_44</th>\n",
       "      <th>excerpt_w2v_w3_45</th>\n",
       "      <th>excerpt_w2v_w3_46</th>\n",
       "      <th>excerpt_w2v_w3_47</th>\n",
       "      <th>excerpt_w2v_w3_48</th>\n",
       "      <th>excerpt_w2v_w3_49</th>\n",
       "    </tr>\n",
       "  </thead>\n",
       "  <tbody>\n",
       "    <tr>\n",
       "      <th>0</th>\n",
       "      <td>772</td>\n",
       "      <td>72</td>\n",
       "      <td>65</td>\n",
       "      <td>1.107692</td>\n",
       "      <td>3</td>\n",
       "      <td>5.892308</td>\n",
       "      <td>1.668861</td>\n",
       "      <td>2.0</td>\n",
       "      <td>5.0</td>\n",
       "      <td>6.0</td>\n",
       "      <td>...</td>\n",
       "      <td>-0.046343</td>\n",
       "      <td>-0.064874</td>\n",
       "      <td>0.751327</td>\n",
       "      <td>-0.133178</td>\n",
       "      <td>0.613771</td>\n",
       "      <td>-0.682088</td>\n",
       "      <td>0.418584</td>\n",
       "      <td>-0.043088</td>\n",
       "      <td>0.460264</td>\n",
       "      <td>-0.469405</td>\n",
       "    </tr>\n",
       "    <tr>\n",
       "      <th>1</th>\n",
       "      <td>967</td>\n",
       "      <td>94</td>\n",
       "      <td>72</td>\n",
       "      <td>1.305556</td>\n",
       "      <td>4</td>\n",
       "      <td>5.347222</td>\n",
       "      <td>1.785384</td>\n",
       "      <td>2.0</td>\n",
       "      <td>4.0</td>\n",
       "      <td>5.0</td>\n",
       "      <td>...</td>\n",
       "      <td>-0.051411</td>\n",
       "      <td>-0.078767</td>\n",
       "      <td>0.855158</td>\n",
       "      <td>-0.156722</td>\n",
       "      <td>0.696292</td>\n",
       "      <td>-0.779854</td>\n",
       "      <td>0.478399</td>\n",
       "      <td>-0.061911</td>\n",
       "      <td>0.527895</td>\n",
       "      <td>-0.534213</td>\n",
       "    </tr>\n",
       "    <tr>\n",
       "      <th>2</th>\n",
       "      <td>948</td>\n",
       "      <td>86</td>\n",
       "      <td>79</td>\n",
       "      <td>1.088608</td>\n",
       "      <td>2</td>\n",
       "      <td>5.721519</td>\n",
       "      <td>2.159871</td>\n",
       "      <td>2.0</td>\n",
       "      <td>4.0</td>\n",
       "      <td>6.0</td>\n",
       "      <td>...</td>\n",
       "      <td>-0.032031</td>\n",
       "      <td>-0.052816</td>\n",
       "      <td>0.570726</td>\n",
       "      <td>-0.102666</td>\n",
       "      <td>0.461727</td>\n",
       "      <td>-0.519615</td>\n",
       "      <td>0.317415</td>\n",
       "      <td>-0.035073</td>\n",
       "      <td>0.354531</td>\n",
       "      <td>-0.354162</td>\n",
       "    </tr>\n",
       "    <tr>\n",
       "      <th>3</th>\n",
       "      <td>1144</td>\n",
       "      <td>112</td>\n",
       "      <td>73</td>\n",
       "      <td>1.534247</td>\n",
       "      <td>11</td>\n",
       "      <td>7.164384</td>\n",
       "      <td>2.309483</td>\n",
       "      <td>3.0</td>\n",
       "      <td>6.0</td>\n",
       "      <td>7.0</td>\n",
       "      <td>...</td>\n",
       "      <td>-0.027620</td>\n",
       "      <td>-0.048703</td>\n",
       "      <td>0.575694</td>\n",
       "      <td>-0.112151</td>\n",
       "      <td>0.464843</td>\n",
       "      <td>-0.527949</td>\n",
       "      <td>0.322636</td>\n",
       "      <td>-0.024562</td>\n",
       "      <td>0.363114</td>\n",
       "      <td>-0.356931</td>\n",
       "    </tr>\n",
       "    <tr>\n",
       "      <th>4</th>\n",
       "      <td>1094</td>\n",
       "      <td>103</td>\n",
       "      <td>88</td>\n",
       "      <td>1.170455</td>\n",
       "      <td>7</td>\n",
       "      <td>6.931818</td>\n",
       "      <td>2.372231</td>\n",
       "      <td>2.0</td>\n",
       "      <td>5.0</td>\n",
       "      <td>7.0</td>\n",
       "      <td>...</td>\n",
       "      <td>-0.021639</td>\n",
       "      <td>-0.030957</td>\n",
       "      <td>0.400797</td>\n",
       "      <td>-0.073693</td>\n",
       "      <td>0.327541</td>\n",
       "      <td>-0.368024</td>\n",
       "      <td>0.227887</td>\n",
       "      <td>-0.014176</td>\n",
       "      <td>0.253151</td>\n",
       "      <td>-0.251218</td>\n",
       "    </tr>\n",
       "  </tbody>\n",
       "</table>\n",
       "<p>5 rows × 212 columns</p>\n",
       "</div>"
      ],
      "text/plain": [
       "   text_length_excerpt  word_count_excerpt  word_nunique_excerpt  \\\n",
       "0                  772                  72                    65   \n",
       "1                  967                  94                    72   \n",
       "2                  948                  86                    79   \n",
       "3                 1144                 112                    73   \n",
       "4                 1094                 103                    88   \n",
       "\n",
       "   word_appearance_mean_excerpt  word_appearance_max_excerpt  \\\n",
       "0                      1.107692                            3   \n",
       "1                      1.305556                            4   \n",
       "2                      1.088608                            2   \n",
       "3                      1.534247                           11   \n",
       "4                      1.170455                            7   \n",
       "\n",
       "   word_length_mean_excerpt  word_length_std_excerpt  word_length_min_excerpt  \\\n",
       "0                  5.892308                 1.668861                      2.0   \n",
       "1                  5.347222                 1.785384                      2.0   \n",
       "2                  5.721519                 2.159871                      2.0   \n",
       "3                  7.164384                 2.309483                      3.0   \n",
       "4                  6.931818                 2.372231                      2.0   \n",
       "\n",
       "   word_length_25%_excerpt  word_length_50%_excerpt  ...  excerpt_w2v_w3_40  \\\n",
       "0                      5.0                      6.0  ...          -0.046343   \n",
       "1                      4.0                      5.0  ...          -0.051411   \n",
       "2                      4.0                      6.0  ...          -0.032031   \n",
       "3                      6.0                      7.0  ...          -0.027620   \n",
       "4                      5.0                      7.0  ...          -0.021639   \n",
       "\n",
       "   excerpt_w2v_w3_41  excerpt_w2v_w3_42  excerpt_w2v_w3_43  excerpt_w2v_w3_44  \\\n",
       "0          -0.064874           0.751327          -0.133178           0.613771   \n",
       "1          -0.078767           0.855158          -0.156722           0.696292   \n",
       "2          -0.052816           0.570726          -0.102666           0.461727   \n",
       "3          -0.048703           0.575694          -0.112151           0.464843   \n",
       "4          -0.030957           0.400797          -0.073693           0.327541   \n",
       "\n",
       "   excerpt_w2v_w3_45  excerpt_w2v_w3_46  excerpt_w2v_w3_47  excerpt_w2v_w3_48  \\\n",
       "0          -0.682088           0.418584          -0.043088           0.460264   \n",
       "1          -0.779854           0.478399          -0.061911           0.527895   \n",
       "2          -0.519615           0.317415          -0.035073           0.354531   \n",
       "3          -0.527949           0.322636          -0.024562           0.363114   \n",
       "4          -0.368024           0.227887          -0.014176           0.253151   \n",
       "\n",
       "   excerpt_w2v_w3_49  \n",
       "0          -0.469405  \n",
       "1          -0.534213  \n",
       "2          -0.354162  \n",
       "3          -0.356931  \n",
       "4          -0.251218  \n",
       "\n",
       "[5 rows x 212 columns]"
      ]
     },
     "execution_count": 19,
     "metadata": {},
     "output_type": "execute_result"
    }
   ],
   "source": [
    "print(test_feat.shape)\n",
    "test_feat.head()"
   ]
  },
  {
   "cell_type": "code",
   "execution_count": 20,
   "id": "quarterly-beach",
   "metadata": {
    "execution": {
     "iopub.execute_input": "2021-05-22T15:25:45.137288Z",
     "iopub.status.busy": "2021-05-22T15:25:45.136733Z",
     "iopub.status.idle": "2021-05-22T15:25:45.139685Z",
     "shell.execute_reply": "2021-05-22T15:25:45.140161Z"
    },
    "papermill": {
     "duration": 0.032895,
     "end_time": "2021-05-22T15:25:45.140311",
     "exception": false,
     "start_time": "2021-05-22T15:25:45.107416",
     "status": "completed"
    },
    "tags": []
   },
   "outputs": [
    {
     "name": "stdout",
     "output_type": "stream",
     "text": [
      "(2834, 212)\n",
      "(7, 212)\n"
     ]
    }
   ],
   "source": [
    "print(train_feat.shape)\n",
    "print(test_feat.shape)"
   ]
  },
  {
   "cell_type": "markdown",
   "id": "frequent-trade",
   "metadata": {
    "papermill": {
     "duration": 0.02501,
     "end_time": "2021-05-22T15:25:45.190622",
     "exception": false,
     "start_time": "2021-05-22T15:25:45.165612",
     "status": "completed"
    },
    "tags": []
   },
   "source": [
    "# train & predict"
   ]
  },
  {
   "cell_type": "code",
   "execution_count": 21,
   "id": "restricted-pointer",
   "metadata": {
    "execution": {
     "iopub.execute_input": "2021-05-22T15:25:45.244446Z",
     "iopub.status.busy": "2021-05-22T15:25:45.243890Z",
     "iopub.status.idle": "2021-05-22T15:25:45.247725Z",
     "shell.execute_reply": "2021-05-22T15:25:45.248138Z"
    },
    "papermill": {
     "duration": 0.032435,
     "end_time": "2021-05-22T15:25:45.248299",
     "exception": false,
     "start_time": "2021-05-22T15:25:45.215864",
     "status": "completed"
    },
    "tags": []
   },
   "outputs": [],
   "source": [
    "from sklearn.model_selection import KFold\n",
    "\n",
    "def kfold_cv(X, y, n_splits=5, random_state=0):\n",
    "    folds = KFold(n_splits=n_splits, random_state=0, shuffle=True)\n",
    "    return list(folds.split(X, y))"
   ]
  },
  {
   "cell_type": "code",
   "execution_count": 22,
   "id": "stable-rhythm",
   "metadata": {
    "execution": {
     "iopub.execute_input": "2021-05-22T15:25:45.302582Z",
     "iopub.status.busy": "2021-05-22T15:25:45.301943Z",
     "iopub.status.idle": "2021-05-22T15:25:45.306093Z",
     "shell.execute_reply": "2021-05-22T15:25:45.306558Z"
    },
    "papermill": {
     "duration": 0.032613,
     "end_time": "2021-05-22T15:25:45.306712",
     "exception": false,
     "start_time": "2021-05-22T15:25:45.274099",
     "status": "completed"
    },
    "tags": []
   },
   "outputs": [],
   "source": [
    "target = 'target'\n",
    "cv = kfold_cv(train_feat, train_target)"
   ]
  },
  {
   "cell_type": "code",
   "execution_count": 23,
   "id": "entertaining-juvenile",
   "metadata": {
    "execution": {
     "iopub.execute_input": "2021-05-22T15:25:45.360919Z",
     "iopub.status.busy": "2021-05-22T15:25:45.360403Z",
     "iopub.status.idle": "2021-05-22T15:25:45.363464Z",
     "shell.execute_reply": "2021-05-22T15:25:45.363941Z"
    },
    "papermill": {
     "duration": 0.031763,
     "end_time": "2021-05-22T15:25:45.364095",
     "exception": false,
     "start_time": "2021-05-22T15:25:45.332332",
     "status": "completed"
    },
    "tags": []
   },
   "outputs": [],
   "source": [
    "params = {\n",
    "    'objective': 'regression',\n",
    "    'metrics': 'rmse',\n",
    "    'seed': SEED\n",
    "}"
   ]
  },
  {
   "cell_type": "code",
   "execution_count": 24,
   "id": "leading-income",
   "metadata": {
    "execution": {
     "iopub.execute_input": "2021-05-22T15:25:45.418790Z",
     "iopub.status.busy": "2021-05-22T15:25:45.418234Z",
     "iopub.status.idle": "2021-05-22T15:25:45.421375Z",
     "shell.execute_reply": "2021-05-22T15:25:45.421819Z"
    },
    "papermill": {
     "duration": 0.031794,
     "end_time": "2021-05-22T15:25:45.421966",
     "exception": false,
     "start_time": "2021-05-22T15:25:45.390172",
     "status": "completed"
    },
    "tags": []
   },
   "outputs": [],
   "source": [
    "from sklearn.metrics import mean_squared_error, mean_squared_log_error"
   ]
  },
  {
   "cell_type": "code",
   "execution_count": 25,
   "id": "opponent-sauce",
   "metadata": {
    "execution": {
     "iopub.execute_input": "2021-05-22T15:25:45.476805Z",
     "iopub.status.busy": "2021-05-22T15:25:45.476221Z",
     "iopub.status.idle": "2021-05-22T15:25:52.319429Z",
     "shell.execute_reply": "2021-05-22T15:25:52.320026Z"
    },
    "papermill": {
     "duration": 6.872318,
     "end_time": "2021-05-22T15:25:52.320244",
     "exception": false,
     "start_time": "2021-05-22T15:25:45.447926",
     "status": "completed"
    },
    "scrolled": true,
    "tags": []
   },
   "outputs": [
    {
     "name": "stdout",
     "output_type": "stream",
     "text": [
      "\n",
      "Fold 1\n",
      "[LightGBM] [Warning] Auto-choosing col-wise multi-threading, the overhead of testing was 0.004912 seconds.\n",
      "You can set `force_col_wise=true` to remove the overhead.\n",
      "[LightGBM] [Info] Total Bins 52228\n",
      "[LightGBM] [Info] Number of data points in the train set: 2267, number of used features: 212\n",
      "[LightGBM] [Info] Start training from score -0.961023\n",
      "Training until validation scores don't improve for 20 rounds\n",
      "[50]\ttraining's rmse: 0.33973\tvalid's rmse: 0.713216\n",
      "Early stopping, best iteration is:\n",
      "[60]\ttraining's rmse: 0.295997\tvalid's rmse: 0.711972\n",
      "\n",
      "Fold 2\n",
      "[LightGBM] [Warning] Auto-choosing col-wise multi-threading, the overhead of testing was 0.004767 seconds.\n",
      "You can set `force_col_wise=true` to remove the overhead.\n",
      "[LightGBM] [Info] Total Bins 52229\n",
      "[LightGBM] [Info] Number of data points in the train set: 2267, number of used features: 212\n",
      "[LightGBM] [Info] Start training from score -0.946950\n",
      "Training until validation scores don't improve for 20 rounds\n",
      "[50]\ttraining's rmse: 0.337645\tvalid's rmse: 0.710849\n",
      "Early stopping, best iteration is:\n",
      "[50]\ttraining's rmse: 0.337645\tvalid's rmse: 0.710849\n",
      "\n",
      "Fold 3\n",
      "[LightGBM] [Warning] Auto-choosing col-wise multi-threading, the overhead of testing was 0.004663 seconds.\n",
      "You can set `force_col_wise=true` to remove the overhead.\n",
      "[LightGBM] [Info] Total Bins 52232\n",
      "[LightGBM] [Info] Number of data points in the train set: 2267, number of used features: 212\n",
      "[LightGBM] [Info] Start training from score -0.970257\n",
      "Training until validation scores don't improve for 20 rounds\n",
      "[50]\ttraining's rmse: 0.336701\tvalid's rmse: 0.726593\n",
      "Early stopping, best iteration is:\n",
      "[60]\ttraining's rmse: 0.292628\tvalid's rmse: 0.72547\n",
      "\n",
      "Fold 4\n",
      "[LightGBM] [Warning] Auto-choosing col-wise multi-threading, the overhead of testing was 0.004706 seconds.\n",
      "You can set `force_col_wise=true` to remove the overhead.\n",
      "[LightGBM] [Info] Total Bins 52232\n",
      "[LightGBM] [Info] Number of data points in the train set: 2267, number of used features: 212\n",
      "[LightGBM] [Info] Start training from score -0.954341\n",
      "Training until validation scores don't improve for 20 rounds\n",
      "[50]\ttraining's rmse: 0.33447\tvalid's rmse: 0.728363\n",
      "Early stopping, best iteration is:\n",
      "[72]\ttraining's rmse: 0.2492\tvalid's rmse: 0.72667\n",
      "\n",
      "Fold 5\n",
      "[LightGBM] [Warning] Auto-choosing col-wise multi-threading, the overhead of testing was 0.004665 seconds.\n",
      "You can set `force_col_wise=true` to remove the overhead.\n",
      "[LightGBM] [Info] Total Bins 52229\n",
      "[LightGBM] [Info] Number of data points in the train set: 2268, number of used features: 212\n",
      "[LightGBM] [Info] Start training from score -0.964019\n",
      "Training until validation scores don't improve for 20 rounds\n",
      "[50]\ttraining's rmse: 0.346545\tvalid's rmse: 0.712032\n",
      "[100]\ttraining's rmse: 0.180923\tvalid's rmse: 0.709394\n",
      "Early stopping, best iteration is:\n",
      "[89]\ttraining's rmse: 0.207918\tvalid's rmse: 0.708626\n",
      "Mean RMSE: 0.7167174134602168, std: 0.007721221118720405, All RMSE: 0.7167618572485002\n"
     ]
    }
   ],
   "source": [
    "oof_preds = np.zeros(len(train_feat))\n",
    "test_preds = np.zeros(len(test_feat))\n",
    "\n",
    "importances = pd.DataFrame()\n",
    "scores = []\n",
    "models = []\n",
    "\n",
    "for i, (train_index, valid_index) in enumerate(cv):\n",
    "    print(f'\\nFold {i + 1}')\n",
    "    trn_x, trn_y = train_feat.iloc[train_index], train_target.iloc[train_index]\n",
    "    val_x, val_y = train_feat.iloc[valid_index], train_target.iloc[valid_index]\n",
    "    \n",
    "    #dtrain = lgb.Dataset(trn_x, trn_y, categorical_feature = ['LE_' + val_ for val_ in le_categories])\n",
    "    #dvalid = lgb.Dataset(val_x, val_y, categorical_feature = ['LE_' + val_ for val_ in le_categories])\n",
    "\n",
    "    dtrain = lgb.Dataset(trn_x, trn_y)\n",
    "    dvalid = lgb.Dataset(val_x, val_y)\n",
    "\n",
    "    model = lgb.train(\n",
    "        params,\n",
    "        train_set=dtrain,\n",
    "        num_boost_round=100000,\n",
    "        valid_sets=[dtrain, dvalid],\n",
    "        valid_names=['training', 'valid'],\n",
    "        early_stopping_rounds=20,\n",
    "        verbose_eval=50\n",
    "    )\n",
    "    \n",
    "    val_preds = model.predict(val_x)\n",
    "    oof_preds[valid_index] = val_preds\n",
    "    test_preds += model.predict(test_feat) / 5\n",
    "    \n",
    "    val_score = model.best_score['valid']['rmse']\n",
    "    scores.append(val_score)\n",
    "    models.append(model)\n",
    "    \n",
    "    imp_df = pd.DataFrame({\n",
    "        'feature': model.feature_name(),\n",
    "        'gain': model.feature_importance(importance_type='gain'),\n",
    "        'fold': i+1\n",
    "    })\n",
    "    \n",
    "    importances = pd.concat([importances, imp_df], axis=0)\n",
    "    \n",
    "mean_score = np.mean(scores)\n",
    "std_score  = np.std(scores)\n",
    "all_score  = np.sqrt(mean_squared_error(train_target, oof_preds))\n",
    "metrics_name = 'RMSE'\n",
    "print(f'Mean {metrics_name}: {mean_score}, std: {std_score}, All {metrics_name}: {all_score}')"
   ]
  },
  {
   "cell_type": "code",
   "execution_count": 26,
   "id": "unauthorized-wayne",
   "metadata": {
    "execution": {
     "iopub.execute_input": "2021-05-22T15:25:52.382187Z",
     "iopub.status.busy": "2021-05-22T15:25:52.381592Z",
     "iopub.status.idle": "2021-05-22T15:25:52.386600Z",
     "shell.execute_reply": "2021-05-22T15:25:52.387002Z"
    },
    "papermill": {
     "duration": 0.038378,
     "end_time": "2021-05-22T15:25:52.387170",
     "exception": false,
     "start_time": "2021-05-22T15:25:52.348792",
     "status": "completed"
    },
    "tags": []
   },
   "outputs": [],
   "source": [
    "sample['target'] = test_preds\n",
    "\n",
    "if 'kaggle_web_client' in sys.modules:  # kaggle環境\n",
    "    sample.to_csv('submission.csv',index=False)\n",
    "else:\n",
    "    sample.to_csv(OUTPUT_DIR/'submission.csv',index=False)"
   ]
  },
  {
   "cell_type": "code",
   "execution_count": 27,
   "id": "indonesian-transmission",
   "metadata": {
    "execution": {
     "iopub.execute_input": "2021-05-22T15:25:52.448070Z",
     "iopub.status.busy": "2021-05-22T15:25:52.447582Z",
     "iopub.status.idle": "2021-05-22T15:25:52.456123Z",
     "shell.execute_reply": "2021-05-22T15:25:52.456830Z"
    },
    "papermill": {
     "duration": 0.040518,
     "end_time": "2021-05-22T15:25:52.457037",
     "exception": false,
     "start_time": "2021-05-22T15:25:52.416519",
     "status": "completed"
    },
    "tags": []
   },
   "outputs": [
    {
     "name": "stdout",
     "output_type": "stream",
     "text": [
      "(7, 2)\n"
     ]
    },
    {
     "data": {
      "text/html": [
       "<div>\n",
       "<style scoped>\n",
       "    .dataframe tbody tr th:only-of-type {\n",
       "        vertical-align: middle;\n",
       "    }\n",
       "\n",
       "    .dataframe tbody tr th {\n",
       "        vertical-align: top;\n",
       "    }\n",
       "\n",
       "    .dataframe thead th {\n",
       "        text-align: right;\n",
       "    }\n",
       "</style>\n",
       "<table border=\"1\" class=\"dataframe\">\n",
       "  <thead>\n",
       "    <tr style=\"text-align: right;\">\n",
       "      <th></th>\n",
       "      <th>id</th>\n",
       "      <th>target</th>\n",
       "    </tr>\n",
       "  </thead>\n",
       "  <tbody>\n",
       "    <tr>\n",
       "      <th>0</th>\n",
       "      <td>c0f722661</td>\n",
       "      <td>-0.843503</td>\n",
       "    </tr>\n",
       "    <tr>\n",
       "      <th>1</th>\n",
       "      <td>f0953f0a5</td>\n",
       "      <td>-0.229667</td>\n",
       "    </tr>\n",
       "    <tr>\n",
       "      <th>2</th>\n",
       "      <td>0df072751</td>\n",
       "      <td>-1.068902</td>\n",
       "    </tr>\n",
       "    <tr>\n",
       "      <th>3</th>\n",
       "      <td>04caf4e0c</td>\n",
       "      <td>-1.729587</td>\n",
       "    </tr>\n",
       "    <tr>\n",
       "      <th>4</th>\n",
       "      <td>0e63f8bea</td>\n",
       "      <td>-2.214548</td>\n",
       "    </tr>\n",
       "  </tbody>\n",
       "</table>\n",
       "</div>"
      ],
      "text/plain": [
       "          id    target\n",
       "0  c0f722661 -0.843503\n",
       "1  f0953f0a5 -0.229667\n",
       "2  0df072751 -1.068902\n",
       "3  04caf4e0c -1.729587\n",
       "4  0e63f8bea -2.214548"
      ]
     },
     "execution_count": 27,
     "metadata": {},
     "output_type": "execute_result"
    }
   ],
   "source": [
    "print(sample.shape)\n",
    "sample.head()"
   ]
  },
  {
   "cell_type": "code",
   "execution_count": 28,
   "id": "pleased-angola",
   "metadata": {
    "execution": {
     "iopub.execute_input": "2021-05-22T15:25:52.520772Z",
     "iopub.status.busy": "2021-05-22T15:25:52.519879Z",
     "iopub.status.idle": "2021-05-22T15:25:52.522744Z",
     "shell.execute_reply": "2021-05-22T15:25:52.522291Z"
    },
    "papermill": {
     "duration": 0.036405,
     "end_time": "2021-05-22T15:25:52.522870",
     "exception": false,
     "start_time": "2021-05-22T15:25:52.486465",
     "status": "completed"
    },
    "tags": []
   },
   "outputs": [],
   "source": [
    "# importance(kaggle環境では描画しない)\n",
    "if 'kaggle_web_client' in sys.modules:  # kaggle環境\n",
    "    pass\n",
    "else:\n",
    "    plt.figure(figsize=(8, 10))\n",
    "    sns.barplot(x='gain', y='feature', data=importances.sort_values('gain', ascending=False));\n",
    "    plt.savefig(os.path.join(OUTPUT_DIR, 'feature_importance.png'))"
   ]
  },
  {
   "cell_type": "code",
   "execution_count": 29,
   "id": "herbal-tokyo",
   "metadata": {
    "execution": {
     "iopub.execute_input": "2021-05-22T15:25:52.587636Z",
     "iopub.status.busy": "2021-05-22T15:25:52.586735Z",
     "iopub.status.idle": "2021-05-22T15:25:52.588946Z",
     "shell.execute_reply": "2021-05-22T15:25:52.589316Z"
    },
    "papermill": {
     "duration": 0.037197,
     "end_time": "2021-05-22T15:25:52.589468",
     "exception": false,
     "start_time": "2021-05-22T15:25:52.552271",
     "status": "completed"
    },
    "tags": []
   },
   "outputs": [],
   "source": [
    "# importance_boxen(kaggle環境では描画しない)\n",
    "# 参考: https://www.guruguru.science/competitions/13/discussions/d8f2d66a-aeee-4789-8b3d-d5935c26b1b7/\n",
    "\n",
    "if 'kaggle_web_client' in sys.modules:  # kaggle環境\n",
    "    pass\n",
    "else:\n",
    "    order = importances.groupby('feature')\\\n",
    "        .sum()[['gain']]\\\n",
    "        .sort_values('gain', ascending=False).index[:50]\n",
    "\n",
    "    fig, ax = plt.subplots(figsize=(max(6, len(order) * .4), 7))\n",
    "    sns.boxenplot(data=importances, x='feature', y='gain', order=order, ax=ax, palette='viridis')\n",
    "    ax.tick_params(axis='x', rotation=90)\n",
    "    ax.grid()\n",
    "    fig.tight_layout()\n",
    "    fig.savefig(os.path.join(OUTPUT_DIR, 'feature_importance_boxen.png'))"
   ]
  },
  {
   "cell_type": "code",
   "execution_count": 30,
   "id": "hawaiian-motorcycle",
   "metadata": {
    "execution": {
     "iopub.execute_input": "2021-05-22T15:25:52.652587Z",
     "iopub.status.busy": "2021-05-22T15:25:52.652030Z",
     "iopub.status.idle": "2021-05-22T15:25:59.667715Z",
     "shell.execute_reply": "2021-05-22T15:25:59.667232Z"
    },
    "papermill": {
     "duration": 7.049188,
     "end_time": "2021-05-22T15:25:59.667852",
     "exception": false,
     "start_time": "2021-05-22T15:25:52.618664",
     "status": "completed"
    },
    "tags": []
   },
   "outputs": [],
   "source": [
    "# SHAP(kaggle環境では描画しない)\n",
    "# 参考その1: https://github.com/slundberg/shap/issues/337\n",
    "# 参考その2: https://github.com/slundberg/shap/issues/630\n",
    "import shap\n",
    "\n",
    "if 'kaggle_web_client' in sys.modules:  # kaggle環境\n",
    "    pass\n",
    "else:\n",
    "    shap_values = []\n",
    "    for model_ in models:\n",
    "        explainer = shap.TreeExplainer(model_)\n",
    "        shap_values.append(explainer.shap_values(train_feat))\n",
    "\n",
    "    shap_mean = np.mean(shap_values, axis=0)"
   ]
  },
  {
   "cell_type": "code",
   "execution_count": 31,
   "id": "heard-principle",
   "metadata": {
    "execution": {
     "iopub.execute_input": "2021-05-22T15:25:59.732003Z",
     "iopub.status.busy": "2021-05-22T15:25:59.731441Z",
     "iopub.status.idle": "2021-05-22T15:25:59.734122Z",
     "shell.execute_reply": "2021-05-22T15:25:59.733627Z"
    },
    "papermill": {
     "duration": 0.037006,
     "end_time": "2021-05-22T15:25:59.734239",
     "exception": false,
     "start_time": "2021-05-22T15:25:59.697233",
     "status": "completed"
    },
    "tags": []
   },
   "outputs": [],
   "source": [
    "# SHAP_summary_plot\n",
    "# 参考_画像の出力について: https://github.com/slundberg/shap/issues/153\n",
    "if 'kaggle_web_client' in sys.modules:  # kaggle環境\n",
    "    pass\n",
    "else:\n",
    "    shap.summary_plot(shap_mean, train_feat, show=False)\n",
    "    plt.subplots_adjust(left=0.4, right=1.0)  # 保存画像のラベルが欠けるのを防ぐ\n",
    "    plt.savefig(os.path.join(OUTPUT_DIR, 'shap_summary_plot.png'))"
   ]
  },
  {
   "cell_type": "raw",
   "id": "incredible-syndicate",
   "metadata": {
    "papermill": {
     "duration": 0.029259,
     "end_time": "2021-05-22T15:25:59.792877",
     "exception": false,
     "start_time": "2021-05-22T15:25:59.763618",
     "status": "completed"
    },
    "tags": []
   },
   "source": [
    "# SHAP_dependence_plot\n",
    "if 'kaggle_web_client' in sys.modules:  # kaggle環境\n",
    "    pass\n",
    "else:\n",
    "    for col_ in train_feat.columns:\n",
    "        shap.dependence_plot(col_, shap_mean, train_feat)"
   ]
  },
  {
   "cell_type": "code",
   "execution_count": 32,
   "id": "indonesian-questionnaire",
   "metadata": {
    "execution": {
     "iopub.execute_input": "2021-05-22T15:25:59.856765Z",
     "iopub.status.busy": "2021-05-22T15:25:59.856180Z",
     "iopub.status.idle": "2021-05-22T15:25:59.858966Z",
     "shell.execute_reply": "2021-05-22T15:25:59.858551Z"
    },
    "papermill": {
     "duration": 0.03727,
     "end_time": "2021-05-22T15:25:59.859088",
     "exception": false,
     "start_time": "2021-05-22T15:25:59.821818",
     "status": "completed"
    },
    "tags": []
   },
   "outputs": [],
   "source": [
    "# 分布(train_vs_oof)\n",
    "if 'kaggle_web_client' in sys.modules:  # kaggle環境\n",
    "    pass\n",
    "else:\n",
    "    fig, ax = plt.subplots(figsize=(8, 8))\n",
    "    sns.distplot(train_target, label='Train', ax=ax, color='C1')\n",
    "    sns.distplot(oof_preds, label='Out Of Fold', ax=ax, color='C2')\n",
    "    ax.legend()\n",
    "    ax.grid()\n",
    "    plt.savefig(os.path.join(OUTPUT_DIR, 'train_vs_oof.png'))"
   ]
  },
  {
   "cell_type": "code",
   "execution_count": null,
   "id": "ancient-passage",
   "metadata": {
    "papermill": {
     "duration": 0.028908,
     "end_time": "2021-05-22T15:25:59.918066",
     "exception": false,
     "start_time": "2021-05-22T15:25:59.889158",
     "status": "completed"
    },
    "tags": []
   },
   "outputs": [],
   "source": []
  },
  {
   "cell_type": "code",
   "execution_count": null,
   "id": "backed-tracker",
   "metadata": {
    "papermill": {
     "duration": 0.029295,
     "end_time": "2021-05-22T15:25:59.976583",
     "exception": false,
     "start_time": "2021-05-22T15:25:59.947288",
     "status": "completed"
    },
    "tags": []
   },
   "outputs": [],
   "source": []
  }
 ],
 "metadata": {
  "kernelspec": {
   "display_name": "Python 3",
   "language": "python",
   "name": "python3"
  },
  "language_info": {
   "codemirror_mode": {
    "name": "ipython",
    "version": 3
   },
   "file_extension": ".py",
   "mimetype": "text/x-python",
   "name": "python",
   "nbconvert_exporter": "python",
   "pygments_lexer": "ipython3",
   "version": "3.7.10"
  },
  "papermill": {
   "default_parameters": {},
   "duration": 49.722459,
   "end_time": "2021-05-22T15:26:01.788909",
   "environment_variables": {},
   "exception": null,
   "input_path": "__notebook__.ipynb",
   "output_path": "__notebook__.ipynb",
   "parameters": {},
   "start_time": "2021-05-22T15:25:12.066450",
   "version": "2.3.3"
  }
 },
 "nbformat": 4,
 "nbformat_minor": 5
}
