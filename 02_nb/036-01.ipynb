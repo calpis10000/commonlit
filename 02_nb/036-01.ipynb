{
 "cells": [
  {
   "cell_type": "markdown",
   "id": "premium-franklin",
   "metadata": {
    "id": "view-in-github",
    "papermill": {
     "duration": 0.045889,
     "end_time": "2021-06-27T08:16:24.153195",
     "exception": false,
     "start_time": "2021-06-27T08:16:24.107306",
     "status": "completed"
    },
    "tags": []
   },
   "source": [
    "<a href=\"https://colab.research.google.com/github/calpis10000/commonlit/blob/main/02_nb/032_01.ipynb\" target=\"_parent\"><img src=\"https://colab.research.google.com/assets/colab-badge.svg\" alt=\"Open In Colab\"/></a>"
   ]
  },
  {
   "cell_type": "code",
   "execution_count": 1,
   "id": "unlike-peoples",
   "metadata": {
    "execution": {
     "iopub.execute_input": "2021-06-27T08:16:24.255945Z",
     "iopub.status.busy": "2021-06-27T08:16:24.255375Z",
     "iopub.status.idle": "2021-06-27T08:16:24.259236Z",
     "shell.execute_reply": "2021-06-27T08:16:24.259636Z",
     "shell.execute_reply.started": "2021-06-27T07:54:07.151032Z"
    },
    "id": "-ILQV9f9LjB7",
    "outputId": "8ed456f9-73ad-417e-be7d-e9e8ed92158f",
    "papermill": {
     "duration": 0.061518,
     "end_time": "2021-06-27T08:16:24.259840",
     "exception": false,
     "start_time": "2021-06-27T08:16:24.198322",
     "status": "completed"
    },
    "tags": []
   },
   "outputs": [
    {
     "data": {
      "text/plain": [
       "\"\\nif 'google.colab' in sys.modules:  # colab環境特有の処理_初回のみ\\n  # Google Driveのマウント\\n  from google.colab import drive\\n  drive.mount('/content/drive')\\n\\n  !pip install --target '/content/drive/MyDrive/Colab_Files/kaggle/commonlit/XX_modules'    -r '/content/drive/MyDrive/Colab_Files/kaggle/commonlit/requirements.txt'    --ignore-installed\\n\\n  !pip install --target '/content/drive/MyDrive/Colab_Files/kaggle/commonlit/XX_modules'    transformers -U\\n  !pip install gensim==4.0.1 --target '/content/drive/MyDrive/Colab_Files/kaggle/commonlit/XX_modules'\\n\""
      ]
     },
     "execution_count": 1,
     "metadata": {},
     "output_type": "execute_result"
    }
   ],
   "source": [
    "\n",
    "\"\"\"\n",
    "if 'google.colab' in sys.modules:  # colab環境特有の処理_初回のみ\n",
    "  # Google Driveのマウント\n",
    "  from google.colab import drive\n",
    "  drive.mount('/content/drive')\n",
    "\n",
    "  !pip install --target '/content/drive/MyDrive/Colab_Files/kaggle/commonlit/XX_modules' \\\n",
    "   -r '/content/drive/MyDrive/Colab_Files/kaggle/commonlit/requirements.txt' \\\n",
    "   --ignore-installed\n",
    "\n",
    "  !pip install --target '/content/drive/MyDrive/Colab_Files/kaggle/commonlit/XX_modules' \\\n",
    "   transformers -U\n",
    "  !pip install gensim==4.0.1 --target '/content/drive/MyDrive/Colab_Files/kaggle/commonlit/XX_modules'\n",
    "\"\"\""
   ]
  },
  {
   "cell_type": "code",
   "execution_count": 2,
   "id": "julian-evaluation",
   "metadata": {
    "execution": {
     "iopub.execute_input": "2021-06-27T08:16:24.357888Z",
     "iopub.status.busy": "2021-06-27T08:16:24.357346Z",
     "iopub.status.idle": "2021-06-27T08:16:24.360750Z",
     "shell.execute_reply": "2021-06-27T08:16:24.361136Z",
     "shell.execute_reply.started": "2021-06-27T07:54:07.161950Z"
    },
    "id": "nUxJBg4jKDiV",
    "outputId": "fda7a0a4-e514-4c05-fcdf-200cd12e0200",
    "papermill": {
     "duration": 0.055812,
     "end_time": "2021-06-27T08:16:24.361270",
     "exception": false,
     "start_time": "2021-06-27T08:16:24.305458",
     "status": "completed"
    },
    "tags": []
   },
   "outputs": [],
   "source": [
    "import sys\n",
    "if 'google.colab' in sys.modules:  # colab特有の処理_2回目移行\n",
    "  # Google Driveのマウント\n",
    "  from google.colab import drive\n",
    "  drive.mount('/content/drive')\n",
    "\n",
    "  # データセットをDriveから取得\n",
    "  !mkdir -p 'input'\n",
    "  !cp -r '/content/drive/MyDrive/Colab_Files/kaggle/commonlit/00_input' '/content/input'\n",
    "\n",
    "  # ライブラリのパス指定\n",
    "  sys.path.append('/content/drive/MyDrive/Colab_Files/kaggle/commonlit/XX_modules')"
   ]
  },
  {
   "cell_type": "code",
   "execution_count": 3,
   "id": "distributed-necessity",
   "metadata": {
    "execution": {
     "iopub.execute_input": "2021-06-27T08:16:24.462269Z",
     "iopub.status.busy": "2021-06-27T08:16:24.461281Z",
     "iopub.status.idle": "2021-06-27T08:16:30.222290Z",
     "shell.execute_reply": "2021-06-27T08:16:30.221384Z",
     "shell.execute_reply.started": "2021-06-27T07:54:07.171361Z"
    },
    "id": "jnI6rNwDGJKD",
    "papermill": {
     "duration": 5.815168,
     "end_time": "2021-06-27T08:16:30.222430",
     "exception": false,
     "start_time": "2021-06-27T08:16:24.407262",
     "status": "completed"
    },
    "tags": []
   },
   "outputs": [
    {
     "data": {
      "text/html": [
       "<style type='text/css'>\n",
       ".datatable table.frame { margin-bottom: 0; }\n",
       ".datatable table.frame thead { border-bottom: none; }\n",
       ".datatable table.frame tr.coltypes td {  color: #FFFFFF;  line-height: 6px;  padding: 0 0.5em;}\n",
       ".datatable .bool    { background: #DDDD99; }\n",
       ".datatable .object  { background: #565656; }\n",
       ".datatable .int     { background: #5D9E5D; }\n",
       ".datatable .float   { background: #4040CC; }\n",
       ".datatable .str     { background: #CC4040; }\n",
       ".datatable .row_index {  background: var(--jp-border-color3);  border-right: 1px solid var(--jp-border-color0);  color: var(--jp-ui-font-color3);  font-size: 9px;}\n",
       ".datatable .frame tr.coltypes .row_index {  background: var(--jp-border-color0);}\n",
       ".datatable th:nth-child(2) { padding-left: 12px; }\n",
       ".datatable .hellipsis {  color: var(--jp-cell-editor-border-color);}\n",
       ".datatable .vellipsis {  background: var(--jp-layout-color0);  color: var(--jp-cell-editor-border-color);}\n",
       ".datatable .na {  color: var(--jp-cell-editor-border-color);  font-size: 80%;}\n",
       ".datatable .footer { font-size: 9px; }\n",
       ".datatable .frame_dimensions {  background: var(--jp-border-color3);  border-top: 1px solid var(--jp-border-color0);  color: var(--jp-ui-font-color3);  display: inline-block;  opacity: 0.6;  padding: 1px 10px 1px 5px;}\n",
       "</style>\n"
      ],
      "text/plain": [
       "<IPython.core.display.HTML object>"
      ]
     },
     "metadata": {},
     "output_type": "display_data"
    }
   ],
   "source": [
    "# basic\n",
    "import os\n",
    "import gc\n",
    "import sys\n",
    "import yaml\n",
    "import warnings\n",
    "import random\n",
    "from pathlib import Path\n",
    "from glob import glob\n",
    "from tqdm import tqdm_notebook as tqdm\n",
    "import hashlib\n",
    "import pickle\n",
    "warnings.filterwarnings('ignore')\n",
    "\n",
    "# usual\n",
    "import numpy as np\n",
    "import pandas as pd\n",
    "from datetime import datetime\n",
    "from datetime import timedelta\n",
    "\n",
    "# preprocess\n",
    "from fasttext import load_model\n",
    "from sklearn.feature_extraction.text import TfidfVectorizer, CountVectorizer\n",
    "from sklearn.decomposition import TruncatedSVD\n",
    "from sklearn.pipeline import Pipeline\n",
    "#import texthero as hero\n",
    "import nltk\n",
    "import collections\n",
    "import gensim\n",
    "from gensim.models import word2vec, KeyedVectors\n",
    "import cv2\n",
    "import string\n",
    "import re\n",
    "import fasttext\n",
    "\n",
    "# LightGBM\n",
    "import lightgbm as lgb\n",
    "#import optuna.integration.lightgbm as lgb  # チューニング用\n",
    "\n",
    "# visualization\n",
    "import matplotlib.pyplot as plt\n",
    "import matplotlib.dates as mdates\n",
    "import seaborn as sns\n",
    "from pandas_profiling import ProfileReport  # profile report を作る用\n",
    "\n",
    "# preprocessing\n",
    "from sklearn.preprocessing import LabelEncoder\n",
    "\n",
    "# plot settings\n",
    "plt.rcParams[\"patch.force_edgecolor\"] = False\n",
    "plt.rcParams['font.family'] = 'sans_serif'\n",
    "sns.set(style=\"whitegrid\",  palette=\"muted\", color_codes=True, rc={'grid.linestyle': '--'})\n",
    "red = sns.xkcd_rgb[\"light red\"]\n",
    "green = sns.xkcd_rgb[\"medium green\"]\n",
    "blue = sns.xkcd_rgb[\"denim blue\"]\n",
    "\n",
    "# plot extentions\n",
    "#import japanize_matplotlib\n",
    "from matplotlib_venn import venn2\n",
    "\n",
    "import torch\n",
    "import transformers\n",
    "\n",
    "from transformers import BertTokenizer\n",
    "from tqdm import tqdm\n",
    "tqdm.pandas()"
   ]
  },
  {
   "cell_type": "code",
   "execution_count": 4,
   "id": "dominican-feelings",
   "metadata": {
    "execution": {
     "iopub.execute_input": "2021-06-27T08:16:30.322542Z",
     "iopub.status.busy": "2021-06-27T08:16:30.321840Z",
     "iopub.status.idle": "2021-06-27T08:16:32.456022Z",
     "shell.execute_reply": "2021-06-27T08:16:32.455539Z",
     "shell.execute_reply.started": "2021-06-27T07:54:13.265300Z"
    },
    "papermill": {
     "duration": 2.187785,
     "end_time": "2021-06-27T08:16:32.456155",
     "exception": false,
     "start_time": "2021-06-27T08:16:30.268370",
     "status": "completed"
    },
    "tags": []
   },
   "outputs": [],
   "source": [
    "import os\n",
    "import gc\n",
    "import sys\n",
    "import cv2\n",
    "import math\n",
    "import time\n",
    "import tqdm\n",
    "import random\n",
    "import numpy as np\n",
    "import pandas as pd\n",
    "import seaborn as sns\n",
    "from tqdm import tqdm\n",
    "import matplotlib.pyplot as plt\n",
    "\n",
    "import warnings\n",
    "warnings.filterwarnings('ignore')\n",
    "\n",
    "from sklearn.svm import SVR\n",
    "\n",
    "from sklearn.metrics import mean_squared_error\n",
    "from sklearn.model_selection import KFold,StratifiedKFold\n",
    "\n",
    "import torch\n",
    "import torchvision\n",
    "import torch.nn as nn\n",
    "import torch.optim as optim\n",
    "import torch.nn.functional as F\n",
    "from torch.optim import Adam, lr_scheduler\n",
    "from torch.utils.data import Dataset, DataLoader\n",
    "\n",
    "from transformers import (AutoModel, AutoTokenizer, \n",
    "                          AutoModelForSequenceClassification)\n",
    "\n",
    "import plotly.express as px\n",
    "import plotly.graph_objs as go\n",
    "import plotly.figure_factory as ff\n",
    "\n",
    "\n",
    "from colorama import Fore, Back, Style\n",
    "y_ = Fore.YELLOW\n",
    "r_ = Fore.RED\n",
    "g_ = Fore.GREEN\n",
    "b_ = Fore.BLUE\n",
    "m_ = Fore.MAGENTA\n",
    "c_ = Fore.CYAN\n",
    "sr_ = Style.RESET_ALL"
   ]
  },
  {
   "cell_type": "code",
   "execution_count": 5,
   "id": "timely-crazy",
   "metadata": {
    "execution": {
     "iopub.execute_input": "2021-06-27T08:16:32.557404Z",
     "iopub.status.busy": "2021-06-27T08:16:32.556746Z",
     "iopub.status.idle": "2021-06-27T08:16:32.560124Z",
     "shell.execute_reply": "2021-06-27T08:16:32.560524Z",
     "shell.execute_reply.started": "2021-06-27T07:54:15.227341Z"
    },
    "id": "lm5sI6LlGJKG",
    "outputId": "ab4add12-8f94-4a51-9f95-9c08397a4162",
    "papermill": {
     "duration": 0.058683,
     "end_time": "2021-06-27T08:16:32.560663",
     "exception": false,
     "start_time": "2021-06-27T08:16:32.501980",
     "status": "completed"
    },
    "tags": []
   },
   "outputs": [
    {
     "name": "stdout",
     "output_type": "stream",
     "text": [
      "nb036-01\n",
      "nb036-01_20210627_081632\n"
     ]
    }
   ],
   "source": [
    "# 試験ID生成\n",
    "trial_prefix = 'nb036-01'  # ←手動で指定 \n",
    "dttm_now = datetime.now().strftime('%Y%m%d_%H%M%S')\n",
    "trial_id = f'{trial_prefix}_{dttm_now}'\n",
    "\n",
    "print(trial_prefix)\n",
    "print(trial_id)"
   ]
  },
  {
   "cell_type": "code",
   "execution_count": 6,
   "id": "precious-constant",
   "metadata": {
    "execution": {
     "iopub.execute_input": "2021-06-27T08:16:32.657581Z",
     "iopub.status.busy": "2021-06-27T08:16:32.656745Z",
     "iopub.status.idle": "2021-06-27T08:16:32.659071Z",
     "shell.execute_reply": "2021-06-27T08:16:32.659443Z",
     "shell.execute_reply.started": "2021-06-27T07:54:15.240140Z"
    },
    "id": "lQpccp-VGJKH",
    "papermill": {
     "duration": 0.052894,
     "end_time": "2021-06-27T08:16:32.659575",
     "exception": false,
     "start_time": "2021-06-27T08:16:32.606681",
     "status": "completed"
    },
    "tags": []
   },
   "outputs": [],
   "source": [
    "# アウトプットの出力先指定\n",
    "if 'kaggle_web_client' in sys.modules:  # kaggle環境\n",
    "    OUTPUT_DIR = Path(\".\")\n",
    "elif 'google.colab' in sys.modules:\n",
    "    OUTPUT_DIR = Path(\"/content/drive/MyDrive/Colab_Files/kaggle/commonlit/03_outputs\")\n",
    "else:\n",
    "    OUTPUT_DIR = Path(f\"../03_outputs/{trial_prefix}\")\n",
    "    OUTPUT_DIR.mkdir(exist_ok=True, parents=True)"
   ]
  },
  {
   "cell_type": "code",
   "execution_count": 7,
   "id": "indonesian-example",
   "metadata": {
    "execution": {
     "iopub.execute_input": "2021-06-27T08:16:32.756265Z",
     "iopub.status.busy": "2021-06-27T08:16:32.755463Z",
     "iopub.status.idle": "2021-06-27T08:16:32.758058Z",
     "shell.execute_reply": "2021-06-27T08:16:32.757646Z",
     "shell.execute_reply.started": "2021-06-27T07:54:15.248078Z"
    },
    "id": "NWrez3qyGJKH",
    "papermill": {
     "duration": 0.052744,
     "end_time": "2021-06-27T08:16:32.758167",
     "exception": false,
     "start_time": "2021-06-27T08:16:32.705423",
     "status": "completed"
    },
    "tags": []
   },
   "outputs": [],
   "source": [
    "# seed固定\n",
    "def set_seed(seed=2021):\n",
    "    random.seed(seed)\n",
    "    np.random.seed(seed)\n",
    "    os.environ[\"PYTHONHASHSEED\"] = str(seed)\n",
    "\n",
    "SEED = 2021\n",
    "set_seed(SEED)"
   ]
  },
  {
   "cell_type": "code",
   "execution_count": 8,
   "id": "regulated-sucking",
   "metadata": {
    "execution": {
     "iopub.execute_input": "2021-06-27T08:16:32.854621Z",
     "iopub.status.busy": "2021-06-27T08:16:32.853804Z",
     "iopub.status.idle": "2021-06-27T08:16:32.856429Z",
     "shell.execute_reply": "2021-06-27T08:16:32.856021Z",
     "shell.execute_reply.started": "2021-06-27T07:54:15.259508Z"
    },
    "id": "6O_5deZoGJKH",
    "papermill": {
     "duration": 0.052235,
     "end_time": "2021-06-27T08:16:32.856537",
     "exception": false,
     "start_time": "2021-06-27T08:16:32.804302",
     "status": "completed"
    },
    "tags": []
   },
   "outputs": [],
   "source": [
    "# インプットフォルダ指定\n",
    "if 'kaggle_web_client' in sys.modules:  # kaggle環境\n",
    "    DATA_DIR = '../input/commonlitreadabilityprize/'\n",
    "elif 'google.colab' in sys.modules:\n",
    "    DATA_DIR = '/content/drive/MyDrive/Colab_Files/kaggle/commonlit/00_input/commonlitreadabilityprize/'\n",
    "else:\n",
    "    DATA_DIR = '../00_input/commonlitreadabilityprize/'"
   ]
  },
  {
   "cell_type": "code",
   "execution_count": 9,
   "id": "round-repository",
   "metadata": {
    "execution": {
     "iopub.execute_input": "2021-06-27T08:16:32.954308Z",
     "iopub.status.busy": "2021-06-27T08:16:32.953711Z",
     "iopub.status.idle": "2021-06-27T08:16:33.047795Z",
     "shell.execute_reply": "2021-06-27T08:16:33.046881Z",
     "shell.execute_reply.started": "2021-06-27T07:54:15.267781Z"
    },
    "id": "KxOQu4miGJKI",
    "papermill": {
     "duration": 0.146082,
     "end_time": "2021-06-27T08:16:33.047952",
     "exception": false,
     "start_time": "2021-06-27T08:16:32.901870",
     "status": "completed"
    },
    "tags": []
   },
   "outputs": [],
   "source": [
    "# read_data\n",
    "train_base = pd.read_csv(DATA_DIR + 'train.csv')\n",
    "test_base = pd.read_csv(DATA_DIR + 'test.csv')\n",
    "sample = pd.read_csv(DATA_DIR + 'sample_submission.csv')"
   ]
  },
  {
   "cell_type": "markdown",
   "id": "mysterious-cookie",
   "metadata": {
    "id": "yA1vUylZGJKI",
    "papermill": {
     "duration": 0.045375,
     "end_time": "2021-06-27T08:16:33.140523",
     "exception": false,
     "start_time": "2021-06-27T08:16:33.095148",
     "status": "completed"
    },
    "tags": []
   },
   "source": [
    "## 特徴作成_共通処理"
   ]
  },
  {
   "cell_type": "code",
   "execution_count": 10,
   "id": "reasonable-learning",
   "metadata": {
    "execution": {
     "iopub.execute_input": "2021-06-27T08:16:33.237350Z",
     "iopub.status.busy": "2021-06-27T08:16:33.236533Z",
     "iopub.status.idle": "2021-06-27T08:16:33.239164Z",
     "shell.execute_reply": "2021-06-27T08:16:33.238741Z",
     "shell.execute_reply.started": "2021-06-27T07:54:15.380582Z"
    },
    "id": "5HIY2BfaGJKI",
    "papermill": {
     "duration": 0.052692,
     "end_time": "2021-06-27T08:16:33.239274",
     "exception": false,
     "start_time": "2021-06-27T08:16:33.186582",
     "status": "completed"
    },
    "tags": []
   },
   "outputs": [],
   "source": [
    "# ベースとなる継承元のクラス\n",
    "class BaseBlock(object):\n",
    "    def fit(self, input_df, y=None):\n",
    "        return self.transform(input_df)\n",
    "    def transform(self, input_df):\n",
    "        raise NotImplementedError()"
   ]
  },
  {
   "cell_type": "markdown",
   "id": "designed-blues",
   "metadata": {
    "id": "IhC7R4DNGJKJ",
    "papermill": {
     "duration": 0.045465,
     "end_time": "2021-06-27T08:16:33.330118",
     "exception": false,
     "start_time": "2021-06-27T08:16:33.284653",
     "status": "completed"
    },
    "tags": []
   },
   "source": [
    "## テキスト特徴_共通処理"
   ]
  },
  {
   "cell_type": "code",
   "execution_count": 11,
   "id": "forced-issue",
   "metadata": {
    "execution": {
     "iopub.execute_input": "2021-06-27T08:16:33.427837Z",
     "iopub.status.busy": "2021-06-27T08:16:33.426974Z",
     "iopub.status.idle": "2021-06-27T08:16:33.429618Z",
     "shell.execute_reply": "2021-06-27T08:16:33.429212Z",
     "shell.execute_reply.started": "2021-06-27T07:54:15.388797Z"
    },
    "id": "GA9ujg-PGJKJ",
    "outputId": "3a7079cf-3f14-4a8f-a893-e683ebed24b2",
    "papermill": {
     "duration": 0.053043,
     "end_time": "2021-06-27T08:16:33.429731",
     "exception": false,
     "start_time": "2021-06-27T08:16:33.376688",
     "status": "completed"
    },
    "tags": []
   },
   "outputs": [],
   "source": [
    "# ローカルの場合、stopwordsをダウンロード\n",
    "import nltk\n",
    "if 'kaggle_web_client' in sys.modules:  # kaggle環境\n",
    "    pass\n",
    "else:\n",
    "    import nltk\n",
    "    nltk.download('stopwords')\n",
    "    nltk.download('averaged_perceptron_tagger')\n",
    "    os.listdir(os.path.expanduser('~/nltk_data/corpora/stopwords/'))"
   ]
  },
  {
   "cell_type": "code",
   "execution_count": 12,
   "id": "utility-storm",
   "metadata": {
    "execution": {
     "iopub.execute_input": "2021-06-27T08:16:33.538149Z",
     "iopub.status.busy": "2021-06-27T08:16:33.537548Z",
     "iopub.status.idle": "2021-06-27T08:16:33.546680Z",
     "shell.execute_reply": "2021-06-27T08:16:33.546271Z",
     "shell.execute_reply.started": "2021-06-27T07:54:15.396965Z"
    },
    "id": "2z0uB87rGJKJ",
    "papermill": {
     "duration": 0.070836,
     "end_time": "2021-06-27T08:16:33.546794",
     "exception": false,
     "start_time": "2021-06-27T08:16:33.475958",
     "status": "completed"
    },
    "tags": []
   },
   "outputs": [],
   "source": [
    "# テキスト前処理\n",
    "# https://www.kaggle.com/alaasedeeq/commonlit-readability-eda\n",
    "\n",
    "#filtering the unwanted symbols, spaces, ....etc\n",
    "to_replace_by_space = re.compile('[/(){}\\[\\]|@,;]')\n",
    "punctuation = re.compile(f'([{string.punctuation}“”¨«»®´·º½¾¿¡§£₤‘’])')\n",
    "bad_symbols = re.compile('[^0-9a-z #+_]')\n",
    "stopwords = set(nltk.corpus.stopwords.words('english'))\n",
    "\n",
    "def text_prepare(text):\n",
    "    '''\n",
    "    text: a string\n",
    "    returna modified version of the string\n",
    "    '''\n",
    "    text = text.lower() # lowercase text\n",
    "    text = re.sub(punctuation, '',text)\n",
    "    text = re.sub(to_replace_by_space, \" \", text) # replace REPLACE_BY_SPACE_RE symbols by space in text\n",
    "    text = re.sub(bad_symbols, \"\", text)         # delete symbols which are in BAD_SYMBOLS_RE from text\n",
    "    text = \" \".join([word for word in text.split(\" \") if word not in stopwords]) # delete stopwords from text\n",
    "    text = re.sub(' +', ' ', text)\n",
    "    return text\n"
   ]
  },
  {
   "cell_type": "code",
   "execution_count": 13,
   "id": "authentic-wilderness",
   "metadata": {
    "execution": {
     "iopub.execute_input": "2021-06-27T08:16:33.643385Z",
     "iopub.status.busy": "2021-06-27T08:16:33.642581Z",
     "iopub.status.idle": "2021-06-27T08:16:33.645091Z",
     "shell.execute_reply": "2021-06-27T08:16:33.644672Z",
     "shell.execute_reply.started": "2021-06-27T07:54:15.428422Z"
    },
    "id": "-JQ2zWeLGJKK",
    "papermill": {
     "duration": 0.052773,
     "end_time": "2021-06-27T08:16:33.645211",
     "exception": false,
     "start_time": "2021-06-27T08:16:33.592438",
     "status": "completed"
    },
    "tags": []
   },
   "outputs": [],
   "source": [
    "def text_normalization(s:pd.Series):\n",
    "    x = s.apply(text_prepare)\n",
    "    return x\n",
    "\n",
    "# Counterオブジェクトを取得\n",
    "def get_counter(text:str):\n",
    "    text_list = [wrd for wrd in text.split(\" \") if wrd not in ('', '\\n')]\n",
    "    counter = collections.Counter(text_list)\n",
    "    return counter"
   ]
  },
  {
   "cell_type": "markdown",
   "id": "assisted-diabetes",
   "metadata": {
    "id": "49-Mfs-_GJKK",
    "papermill": {
     "duration": 0.045076,
     "end_time": "2021-06-27T08:16:33.736633",
     "exception": false,
     "start_time": "2021-06-27T08:16:33.691557",
     "status": "completed"
    },
    "tags": []
   },
   "source": [
    "## 前処理_品詞変換"
   ]
  },
  {
   "cell_type": "code",
   "execution_count": 14,
   "id": "other-joseph",
   "metadata": {
    "execution": {
     "iopub.execute_input": "2021-06-27T08:16:33.836517Z",
     "iopub.status.busy": "2021-06-27T08:16:33.835644Z",
     "iopub.status.idle": "2021-06-27T08:16:33.838224Z",
     "shell.execute_reply": "2021-06-27T08:16:33.837767Z",
     "shell.execute_reply.started": "2021-06-27T07:54:15.435428Z"
    },
    "id": "r0M4RfijGJKK",
    "papermill": {
     "duration": 0.055523,
     "end_time": "2021-06-27T08:16:33.838336",
     "exception": false,
     "start_time": "2021-06-27T08:16:33.782813",
     "status": "completed"
    },
    "tags": []
   },
   "outputs": [],
   "source": [
    "# テキスト情報を品詞に変換\n",
    "def get_pos_tag(text:str):\n",
    "    text_list = [wrd for wrd in text.split(\" \") if wrd not in ('', '\\n')]\n",
    "    pos_tag = [i[1] for i in nltk.pos_tag(text_list)]\n",
    "    return pos_tag\n",
    "\n",
    "def get_pos_tag_to_text(text:str):\n",
    "    text_list = [wrd for wrd in text.split(\" \") if wrd not in ('', '\\n')]\n",
    "    pos_tag = [i[1] for i in nltk.pos_tag(text_list)]\n",
    "    return \" \".join(pos_tag)"
   ]
  },
  {
   "cell_type": "markdown",
   "id": "computational-sleeping",
   "metadata": {
    "id": "ypJnPS5SGJKK",
    "papermill": {
     "duration": 0.045408,
     "end_time": "2021-06-27T08:16:33.929288",
     "exception": false,
     "start_time": "2021-06-27T08:16:33.883880",
     "status": "completed"
    },
    "tags": []
   },
   "source": [
    "## テキスト特徴_シンプルなTF-IDF"
   ]
  },
  {
   "cell_type": "code",
   "execution_count": 15,
   "id": "portuguese-words",
   "metadata": {
    "execution": {
     "iopub.execute_input": "2021-06-27T08:16:34.032720Z",
     "iopub.status.busy": "2021-06-27T08:16:34.031798Z",
     "iopub.status.idle": "2021-06-27T08:16:34.035582Z",
     "shell.execute_reply": "2021-06-27T08:16:34.036230Z",
     "shell.execute_reply.started": "2021-06-27T07:54:15.447763Z"
    },
    "id": "Ua4PSnv9GJKL",
    "papermill": {
     "duration": 0.061355,
     "end_time": "2021-06-27T08:16:34.036442",
     "exception": false,
     "start_time": "2021-06-27T08:16:33.975087",
     "status": "completed"
    },
    "tags": []
   },
   "outputs": [],
   "source": [
    "# 参考: https://www.guruguru.science/competitions/16/discussions/556029f7-484d-40d4-ad6a-9d86337487e2/\n",
    "\n",
    "class TfidfSimpleBlock(BaseBlock):\n",
    "    \"\"\"シンプルなTF-IDF特徴を作成する block\"\"\"\n",
    "    def __init__(self, column: str, max_features=50, ngram_range=(1,1), use_idf=True):\n",
    "        \"\"\"\n",
    "        args:\n",
    "            column: str\n",
    "                変換対象のカラム名\n",
    "        \"\"\"\n",
    "        self.column = column\n",
    "        self.max_features=max_features\n",
    "        self.ngram_range=ngram_range\n",
    "        self.use_idf=use_idf\n",
    "        self.param_prefix=f\"col={column}_max_features={max_features}_\\\n",
    "                              ngram={ngram_range[0]}_{ngram_range[1]}_use_idf={use_idf}\"\n",
    "\n",
    "    def preprocess(self, input_df):\n",
    "        x = text_normalization(input_df[self.column])\n",
    "        return x\n",
    "\n",
    "    def get_master(self, _master_df):\n",
    "        \"\"\"tdidfを計算するための全体集合を返す.\"\"\"\n",
    "        return _master_df\n",
    "\n",
    "    def fit(self, \n",
    "            input_df, \n",
    "            _master_df=None, \n",
    "            y=None\n",
    "           ):\n",
    "        master_df = input_df if _master_df is None else self.get_master(_master_df)\n",
    "        text = self.preprocess(master_df)\n",
    "        self.vectorizer_ = TfidfVectorizer(max_features=self.max_features\n",
    "                                      ,ngram_range=self.ngram_range\n",
    "                                      ,use_idf=self.use_idf)\n",
    "\n",
    "        self.vectorizer_.fit(text)\n",
    "        self.prefix = 'tfidf' if self.use_idf == True else 'tf'\n",
    "        return self.transform(input_df)\n",
    "\n",
    "    def transform(self, input_df):\n",
    "        text = self.preprocess(input_df)\n",
    "        z = self.vectorizer_.transform(text)\n",
    "\n",
    "        out_df = pd.DataFrame(z.toarray())\n",
    "        out_df.columns = self.vectorizer_.get_feature_names()\n",
    "        return out_df.add_prefix(f'{self.prefix}_')\n"
   ]
  },
  {
   "cell_type": "markdown",
   "id": "fifteen-grass",
   "metadata": {
    "id": "a_YjPLBcGJKN",
    "papermill": {
     "duration": 0.045738,
     "end_time": "2021-06-27T08:16:34.130389",
     "exception": false,
     "start_time": "2021-06-27T08:16:34.084651",
     "status": "completed"
    },
    "tags": []
   },
   "source": [
    "## テキスト特徴_学習済みモデル（gemsim経由）"
   ]
  },
  {
   "cell_type": "code",
   "execution_count": 16,
   "id": "located-court",
   "metadata": {
    "execution": {
     "iopub.execute_input": "2021-06-27T08:16:34.238359Z",
     "iopub.status.busy": "2021-06-27T08:16:34.237496Z",
     "iopub.status.idle": "2021-06-27T08:16:34.240105Z",
     "shell.execute_reply": "2021-06-27T08:16:34.239686Z",
     "shell.execute_reply.started": "2021-06-27T07:54:15.462382Z"
    },
    "id": "HkHVOrKQGJKN",
    "papermill": {
     "duration": 0.063754,
     "end_time": "2021-06-27T08:16:34.240226",
     "exception": false,
     "start_time": "2021-06-27T08:16:34.176472",
     "status": "completed"
    },
    "tags": []
   },
   "outputs": [],
   "source": [
    "# 参考: https://zenn.dev/koukyo1994/articles/9b1da2482d8ba1\n",
    "# 参考: https://github.com/yagays/swem\n",
    "\n",
    "class GensimPreTrainedBlock(BaseBlock):\n",
    "    \"\"\"\n",
    "    文書をgemsim経由で学習済みモデルのベクトル表現へ変換するblock\n",
    "    モデルは別途入手し、インスタンス作成時に指定する。\n",
    "    モデル名は手動で入力する想定（デフォルトではgensim_pretrained で入る）\n",
    "    \"\"\"\n",
    "    def __init__(self,\n",
    "                 column: str,\n",
    "                 model:KeyedVectors,\n",
    "                 model_name='gensim_pretrained',\n",
    "                 swem='aver'):\n",
    "        \"\"\"\n",
    "        args:\n",
    "            column: str\n",
    "                変換対象のカラム名\n",
    "        \"\"\"\n",
    "        self.column = column\n",
    "        self.model = model\n",
    "        self.model_name = model_name\n",
    "        self.swem = swem # TODO:例外処理['aver', 'max', 'concat', 'hier']\n",
    "        self.param_prefix= f\"col={column}_model_name={model_name}_swem={swem}\"\n",
    "\n",
    "    def fit(self, input_df, y=None):\n",
    "        return self.transform(input_df)\n",
    "\n",
    "    def transform(self, input_df):\n",
    "        text = self.preprocess(input_df)\n",
    "        \n",
    "        if self.swem == 'aver':\n",
    "            feat = text.map(lambda x: self.average_pooling(x))\n",
    "        elif self.swem == 'max': \n",
    "            feat = text.map(lambda x: self.max_pooling(x))\n",
    "        elif self.swem == 'concat': \n",
    "            feat = text.map(lambda x: self.concat_average_max_pooling(x))\n",
    "        elif self.swem == 'hier': \n",
    "            feat = text.map(lambda x: self.hierarchical_pooling(x, n=3))\n",
    "            \n",
    "        out_df = pd.DataFrame(np.stack(feat.values))\n",
    "\n",
    "        return out_df.add_prefix(f'{self.model_name}_{self.column}_{self.swem}')\n",
    "    \n",
    "    # 前処理\n",
    "    def preprocess(self, input_df):\n",
    "        x = text_normalization(input_df[self.column])\n",
    "        return x\n",
    "    \n",
    "    # 文書ベクトルの取得\n",
    "    def get_sentence_vector(self, x: str):\n",
    "        ndim = self.model.vector_size\n",
    "        embeddings = [\n",
    "            self.model[word]\n",
    "            if word in self.model\n",
    "            else np.zeros(ndim)\n",
    "            for word in x.split()\n",
    "        ]\n",
    "\n",
    "        if len(embeddings) == 0:\n",
    "            return np.zeros(ndim, dtype=np.float32)\n",
    "        else:\n",
    "            return embeddings\n",
    "    \n",
    "    # SWEMの各処理\n",
    "    def average_pooling(self, text):\n",
    "        word_embeddings = self.get_sentence_vector(text)\n",
    "        return np.mean(word_embeddings, axis=0)\n",
    "\n",
    "    def max_pooling(self, text):\n",
    "        word_embeddings = self.get_sentence_vector(text)\n",
    "        return np.max(word_embeddings, axis=0)\n",
    "\n",
    "    def concat_average_max_pooling(self, text):\n",
    "        word_embeddings = self.get_sentence_vector(text)\n",
    "        return np.r_[np.mean(word_embeddings, axis=0), np.max(word_embeddings, axis=0)]\n",
    "\n",
    "    def hierarchical_pooling(self, text, n):\n",
    "        word_embeddings = self.get_sentence_vector(text)\n",
    "\n",
    "        text_len = len(word_embeddings) # TODO: これで合ってるか要確認\n",
    "        if n > text_len:\n",
    "            raise ValueError(f\"window size must be less than text length / window_size:{n} text_length:{text_len}\")\n",
    "        window_average_pooling_vec = [np.mean(word_embeddings[i:i + n], axis=0) for i in range(text_len - n + 1)]\n",
    "\n",
    "        return np.max(window_average_pooling_vec, axis=0)    \n",
    "            \n"
   ]
  },
  {
   "cell_type": "markdown",
   "id": "congressional-congo",
   "metadata": {
    "id": "mg0N6qS4GJKO",
    "papermill": {
     "duration": 0.045376,
     "end_time": "2021-06-27T08:16:34.331172",
     "exception": false,
     "start_time": "2021-06-27T08:16:34.285796",
     "status": "completed"
    },
    "tags": []
   },
   "source": [
    "## テキスト特徴_fasttest"
   ]
  },
  {
   "cell_type": "code",
   "execution_count": 17,
   "id": "interstate-undergraduate",
   "metadata": {
    "execution": {
     "iopub.execute_input": "2021-06-27T08:16:34.430101Z",
     "iopub.status.busy": "2021-06-27T08:16:34.429352Z",
     "iopub.status.idle": "2021-06-27T08:16:34.432046Z",
     "shell.execute_reply": "2021-06-27T08:16:34.431630Z",
     "shell.execute_reply.started": "2021-06-27T07:54:15.480480Z"
    },
    "id": "IDgINZMXGJKO",
    "papermill": {
     "duration": 0.054733,
     "end_time": "2021-06-27T08:16:34.432157",
     "exception": false,
     "start_time": "2021-06-27T08:16:34.377424",
     "status": "completed"
    },
    "tags": []
   },
   "outputs": [],
   "source": [
    "# 参考: https://zenn.dev/koukyo1994/articles/9b1da2482d8ba1\n",
    "class FasttextBlock(BaseBlock):\n",
    "    \"\"\"文書をfasttextのテキスト表現へ変換する block\"\"\"\n",
    "    def __init__(self, column: str, ft_model:fasttext.FastText._FastText):\n",
    "        \"\"\"\n",
    "        args:\n",
    "            column: str\n",
    "                変換対象のカラム名\n",
    "        \"\"\"\n",
    "        self.column = column\n",
    "        self.ft_model = ft_model\n",
    "        self.param_prefix= f\"col={column}\"\n",
    "\n",
    "    # 前処理\n",
    "    def preprocess(self, input_df):\n",
    "        x = text_normalization(input_df[self.column])\n",
    "        return x\n",
    "        \n",
    "    def fit(self, input_df, y=None):\n",
    "        return self.transform(input_df)\n",
    "\n",
    "    def transform(self, input_df):\n",
    "        text = self.preprocess(input_df)\n",
    "        feat = text.map(lambda x: ft_model.get_sentence_vector(x))\n",
    "        out_df = pd.DataFrame(np.stack(feat.values))\n",
    "\n",
    "        return out_df.add_prefix(f'fasttext_{self.column}_')"
   ]
  },
  {
   "cell_type": "markdown",
   "id": "working-booking",
   "metadata": {
    "id": "r7A1XXT0GJKP",
    "papermill": {
     "duration": 0.045922,
     "end_time": "2021-06-27T08:16:34.524041",
     "exception": false,
     "start_time": "2021-06-27T08:16:34.478119",
     "status": "completed"
    },
    "tags": []
   },
   "source": [
    "## テキスト特徴_統計量"
   ]
  },
  {
   "cell_type": "code",
   "execution_count": 18,
   "id": "committed-consequence",
   "metadata": {
    "execution": {
     "iopub.execute_input": "2021-06-27T08:16:34.627364Z",
     "iopub.status.busy": "2021-06-27T08:16:34.623634Z",
     "iopub.status.idle": "2021-06-27T08:16:34.630780Z",
     "shell.execute_reply": "2021-06-27T08:16:34.630355Z",
     "shell.execute_reply.started": "2021-06-27T07:54:15.495216Z"
    },
    "id": "R0qvzof6GJKP",
    "papermill": {
     "duration": 0.061339,
     "end_time": "2021-06-27T08:16:34.630919",
     "exception": false,
     "start_time": "2021-06-27T08:16:34.569580",
     "status": "completed"
    },
    "tags": []
   },
   "outputs": [],
   "source": [
    "class TextDescriptionBlock(BaseBlock):\n",
    "    \"\"\"テキストに関する統計量を返す block\"\"\"\n",
    "    def __init__(self, column: str):\n",
    "        \"\"\"\n",
    "        args:\n",
    "            column: str\n",
    "                変換対象のカラム名\n",
    "        \"\"\"\n",
    "        self.column = column\n",
    "        self.param_prefix = f'col={column}'\n",
    "\n",
    "    # 前処理\n",
    "    def preprocess(self, input_df):\n",
    "        x = text_normalization(input_df[self.column])\n",
    "        return x\n",
    "        \n",
    "    def fit(self, input_df, y=None):\n",
    "        return self.transform(input_df)\n",
    "\n",
    "    def transform(self, input_df):\n",
    "        # 前処理\n",
    "        self.text = self.preprocess(input_df)\n",
    "        self.counters = self.text.map(get_counter)\n",
    "\n",
    "        # 変換処理\n",
    "        _length = input_df[self.column].fillna('').map(lambda x: len(x) if x!='' else np.nan)\n",
    "        _wrd_cnt = self.counters.map(lambda x: sum(x.values()))\n",
    "        _wrd_nuniq = self.counters.map(lambda x: len(x))\n",
    "        _wrd_mean = self.counters.map(lambda x: np.mean(list(x.values())))\n",
    "        _wrd_max = self.counters.map(lambda x: np.max(list(x.values())))\n",
    "        \n",
    "        word_length = self.counters.map(lambda x: np.array([len(i) for i in x.keys()]))\n",
    "        word_length_desc = word_length.map(lambda x: pd.Series(x.ravel()).describe())\n",
    "        _word_length_desc_df = pd.DataFrame(word_length_desc.tolist()).iloc[:,1:]\n",
    "        _word_length_desc_df = _word_length_desc_df.add_prefix('word_length_')\n",
    "        \n",
    "        out_df = pd.concat([_length, _wrd_cnt, _wrd_nuniq, _wrd_mean, _wrd_max], axis=1)\n",
    "        out_df.columns = ['text_length', 'word_count', 'word_nunique', 'word_appearance_mean', 'word_appearance_max']\n",
    "        out_df = pd.concat([out_df, _word_length_desc_df], axis=1)\n",
    "        return out_df.add_suffix(f'_{self.column}')"
   ]
  },
  {
   "cell_type": "markdown",
   "id": "noble-lightning",
   "metadata": {
    "id": "K8KA35xKGJKP",
    "papermill": {
     "duration": 0.04517,
     "end_time": "2021-06-27T08:16:34.722270",
     "exception": false,
     "start_time": "2021-06-27T08:16:34.677100",
     "status": "completed"
    },
    "tags": []
   },
   "source": [
    "## テキスト特徴_CountVectorizer"
   ]
  },
  {
   "cell_type": "code",
   "execution_count": 19,
   "id": "basic-hacker",
   "metadata": {
    "execution": {
     "iopub.execute_input": "2021-06-27T08:16:34.822461Z",
     "iopub.status.busy": "2021-06-27T08:16:34.821746Z",
     "iopub.status.idle": "2021-06-27T08:16:34.824718Z",
     "shell.execute_reply": "2021-06-27T08:16:34.825095Z",
     "shell.execute_reply.started": "2021-06-27T07:54:15.510528Z"
    },
    "id": "hUDuslqgGJKP",
    "papermill": {
     "duration": 0.057374,
     "end_time": "2021-06-27T08:16:34.825240",
     "exception": false,
     "start_time": "2021-06-27T08:16:34.767866",
     "status": "completed"
    },
    "tags": []
   },
   "outputs": [],
   "source": [
    "class CountVectorizerBlock(BaseBlock):\n",
    "    \"\"\"CountVectorizer x SVD による圧縮を行なう block\"\"\"\n",
    "    def __init__(self, column: str, master_df=None, n_components=50, ngram_range=(1,1)):\n",
    "        \"\"\"\n",
    "        args:\n",
    "            column: str\n",
    "                変換対象のカラム名\n",
    "        \"\"\"\n",
    "        self.column = column\n",
    "        self.master_df=master_df\n",
    "        self.n_components=n_components\n",
    "        self.ngram_range=ngram_range\n",
    "        self.param_prefix = f\"col={column}_comp={n_components}_ngram={''.join([str(i) for i in self.ngram_range])}\"\n",
    "\n",
    "    def preprocess(self, input_df):\n",
    "        x = text_normalization(input_df[self.column])\n",
    "        return x\n",
    "\n",
    "    def fit(self, \n",
    "            input_df, \n",
    "            y=None\n",
    "           ):\n",
    "        master_df = input_df if self.master_df is None else self.master_df\n",
    "        text = self.preprocess(master_df)\n",
    "        self.pileline_ = Pipeline([\n",
    "            ('tfidf', CountVectorizer(ngram_range=self.ngram_range)),\n",
    "            ('svd', TruncatedSVD(n_components=self.n_components, random_state=SEED)),\n",
    "        ])\n",
    "\n",
    "        self.pileline_.fit(text)\n",
    "        return self.transform(input_df)\n",
    "\n",
    "    def transform(self, input_df):\n",
    "        text = self.preprocess(input_df)\n",
    "        z = self.pileline_.transform(text)\n",
    "\n",
    "        out_df = pd.DataFrame(z)\n",
    "        return out_df.add_prefix(f'countvect_{self.column}_{\"_\".join([str(i) for i in self.ngram_range])}_')\n"
   ]
  },
  {
   "cell_type": "markdown",
   "id": "offshore-commission",
   "metadata": {
    "id": "lHad_XvWGJKP",
    "papermill": {
     "duration": 0.045656,
     "end_time": "2021-06-27T08:16:34.916126",
     "exception": false,
     "start_time": "2021-06-27T08:16:34.870470",
     "status": "completed"
    },
    "tags": []
   },
   "source": [
    "## テキスト特徴_TF-IDF"
   ]
  },
  {
   "cell_type": "code",
   "execution_count": 20,
   "id": "numerical-register",
   "metadata": {
    "execution": {
     "iopub.execute_input": "2021-06-27T08:16:35.016978Z",
     "iopub.status.busy": "2021-06-27T08:16:35.016118Z",
     "iopub.status.idle": "2021-06-27T08:16:35.018277Z",
     "shell.execute_reply": "2021-06-27T08:16:35.018681Z",
     "shell.execute_reply.started": "2021-06-27T07:54:15.526982Z"
    },
    "id": "57eDPHwLGJKQ",
    "papermill": {
     "duration": 0.056833,
     "end_time": "2021-06-27T08:16:35.018810",
     "exception": false,
     "start_time": "2021-06-27T08:16:34.961977",
     "status": "completed"
    },
    "tags": []
   },
   "outputs": [],
   "source": [
    "# 参考: https://www.guruguru.science/competitions/16/discussions/556029f7-484d-40d4-ad6a-9d86337487e2/\n",
    "\n",
    "class TfidfBlock(BaseBlock):\n",
    "    \"\"\"tfidf x SVD による圧縮を行なう block\"\"\"\n",
    "    def __init__(self, column: str, master_df=None, n_components=50, ngram_range=(1,1)):\n",
    "        \"\"\"\n",
    "        args:\n",
    "            column: str\n",
    "                変換対象のカラム名\n",
    "        \"\"\"\n",
    "        self.column = column\n",
    "        self.master_df=master_df\n",
    "        self.n_components=n_components\n",
    "        self.ngram_range=ngram_range\n",
    "        self.param_prefix = f\"col={column}_comp={n_components}_ngram={''.join([str(i) for i in self.ngram_range])}\"\n",
    "\n",
    "    def preprocess(self, input_df):\n",
    "        x = text_normalization(input_df[self.column])\n",
    "        return x\n",
    "\n",
    "    def fit(self, \n",
    "            input_df, \n",
    "            y=None\n",
    "           ):\n",
    "        master_df = input_df if self.master_df is None else self.master_df\n",
    "        text = self.preprocess(master_df)\n",
    "        self.pileline_ = Pipeline([\n",
    "            ('tfidf', TfidfVectorizer(max_features=100000, ngram_range=self.ngram_range)),\n",
    "            ('svd', TruncatedSVD(n_components=self.n_components, random_state=SEED)),\n",
    "        ])\n",
    "\n",
    "        self.pileline_.fit(text)\n",
    "        return self.transform(input_df)\n",
    "\n",
    "    def transform(self, input_df):\n",
    "        text = self.preprocess(input_df)\n",
    "        z = self.pileline_.transform(text)\n",
    "\n",
    "        out_df = pd.DataFrame(z)\n",
    "        return out_df.add_prefix(f'tfidf_{self.column}_{\"_\".join([str(i) for i in self.ngram_range])}_')\n"
   ]
  },
  {
   "cell_type": "markdown",
   "id": "lucky-emergency",
   "metadata": {
    "id": "2agA8GJvGJKQ",
    "papermill": {
     "duration": 0.045125,
     "end_time": "2021-06-27T08:16:35.109479",
     "exception": false,
     "start_time": "2021-06-27T08:16:35.064354",
     "status": "completed"
    },
    "tags": []
   },
   "source": [
    "## テキスト特徴_W2V(データセットから学習)"
   ]
  },
  {
   "cell_type": "code",
   "execution_count": 21,
   "id": "ranging-desire",
   "metadata": {
    "execution": {
     "iopub.execute_input": "2021-06-27T08:16:35.212026Z",
     "iopub.status.busy": "2021-06-27T08:16:35.211256Z",
     "iopub.status.idle": "2021-06-27T08:16:35.213836Z",
     "shell.execute_reply": "2021-06-27T08:16:35.213438Z",
     "shell.execute_reply.started": "2021-06-27T07:54:15.538988Z"
    },
    "id": "AUTdZA3OGJKQ",
    "papermill": {
     "duration": 0.059467,
     "end_time": "2021-06-27T08:16:35.213957",
     "exception": false,
     "start_time": "2021-06-27T08:16:35.154490",
     "status": "completed"
    },
    "tags": []
   },
   "outputs": [],
   "source": [
    "# https://www.guruguru.science/competitions/16/discussions/2fafef06-5a26-4d33-b535-a94cc9549ac4/\n",
    "# https://www.guruguru.science/competitions/16/discussions/4a6f5f84-8491-4324-ba69-dec49dc648cd/\n",
    "\n",
    "def hashfxn(x):\n",
    "    return int(hashlib.md5(str(x).encode()).hexdigest(), 16)\n",
    "\n",
    "class W2VTrainBlock(BaseBlock):\n",
    "    \"\"\"Word2Vecを学習し、文書のベクトル表現を得るブロック。\n",
    "       学習済みモデルを使うパターンは、別に作成するものとする。\"\"\"\n",
    "    def __init__(self, \n",
    "                 column: str, \n",
    "                 master_df=None,\n",
    "                 model_size=50, \n",
    "                 min_count=1, \n",
    "                 window=5,\n",
    "                 n_iter=100\n",
    "                 ):\n",
    "        \"\"\"\n",
    "        args:\n",
    "            column: str\n",
    "                変換対象のカラム名\n",
    "        \"\"\"\n",
    "        self.column = column\n",
    "        self.master_df = master_df\n",
    "        self.model_size = model_size\n",
    "        self.min_count = min_count\n",
    "        self.window = window\n",
    "        self.n_iter = n_iter\n",
    "        self.param_prefix = f\"col={column}_model_size={model_size}_min_count={min_count}_window={window}_n_iter={n_iter}\"\n",
    "\n",
    "    def preprocess(self, input_df):\n",
    "        x = text_normalization(input_df[self.column])\n",
    "        return x\n",
    "\n",
    "    def fit(self, \n",
    "            input_df, \n",
    "            y=None\n",
    "           ):\n",
    "        master_df = input_df if self.master_df is None else self.master_df\n",
    "        text = self.preprocess(master_df)\n",
    "        word_lists = text.map(lambda x: [i for i in x.split(' ') if i not in (' ')])\n",
    "        self.w2v_model = word2vec.Word2Vec(word_lists.values.tolist(),\n",
    "                                      vector_size=self.model_size,\n",
    "                                      min_count=self.min_count,\n",
    "                                      window=self.window,\n",
    "                                      seed=SEED,\n",
    "                                      workers=1,\n",
    "                                      hashfxn=hashfxn,\n",
    "                                      epochs=self.n_iter)\n",
    "\n",
    "        return self.transform(input_df)\n",
    "\n",
    "    def transform(self, input_df):\n",
    "        text = self.preprocess(input_df)\n",
    "        word_lists = text.map(lambda x: [i for i in x.split(' ') if i not in (' ')])\n",
    "\n",
    "        # 各文章ごとにそれぞれの単語をベクトル表現に直し、平均をとって文章ベクトルにする\n",
    "        sentence_vectors = word_lists.progress_apply(\n",
    "            lambda x: np.mean([self.w2v_model.wv[e] for e in x], axis=0))\n",
    "        sentence_vectors = np.vstack([x for x in sentence_vectors])\n",
    "        sentence_vector_df = pd.DataFrame(sentence_vectors,\n",
    "                                          columns=[f\"w2v_{self.column}_w{self.window}_{i}\"\n",
    "                                                   for i in range(self.model_size)])\n",
    "        \n",
    "        return sentence_vector_df\n"
   ]
  },
  {
   "cell_type": "code",
   "execution_count": 22,
   "id": "coral-hampton",
   "metadata": {
    "execution": {
     "iopub.execute_input": "2021-06-27T08:16:35.314607Z",
     "iopub.status.busy": "2021-06-27T08:16:35.311739Z",
     "iopub.status.idle": "2021-06-27T08:16:35.316718Z",
     "shell.execute_reply": "2021-06-27T08:16:35.317353Z",
     "shell.execute_reply.started": "2021-06-27T07:54:15.555176Z"
    },
    "id": "9u9hHhn-GJKQ",
    "papermill": {
     "duration": 0.058603,
     "end_time": "2021-06-27T08:16:35.317500",
     "exception": false,
     "start_time": "2021-06-27T08:16:35.258897",
     "status": "completed"
    },
    "tags": []
   },
   "outputs": [],
   "source": [
    "# 使用モデル指定\n",
    "if 'kaggle_web_client' in sys.modules:  # kaggle環境\n",
    "    _bert_model_name = '../input/huggingface-bert-variants/bert-base-cased/bert-base-cased/'\n",
    "else: # ローカル or Colab\n",
    "    _bert_model_name = 'bert-base-cased'\n",
    "\n",
    "# 学習済みBERT\n",
    "class BertSequenceVectorizer:\n",
    "    def __init__(self):\n",
    "        self.device = 'cuda' if torch.cuda.is_available() else 'cpu' # cudaが無いならcpuを使えばいいじゃない\n",
    "        self.model_name = _bert_model_name # 学習済みモデルの名前を指定\n",
    "        self.tokenizer = BertTokenizer.from_pretrained(self.model_name) # 指定したmodel_nameでtokenizerを作成\n",
    "        self.bert_model = transformers.BertModel.from_pretrained(self.model_name) # 指定したmodel_nameで学習済みmodelを作成\n",
    "        self.bert_model = self.bert_model.to(self.device)\n",
    "        self.max_len = 176\n",
    "\n",
    "    def get_imp(self, sentence : str) -> np.array:\n",
    "        inp = self.tokenizer.encode(sentence)\n",
    "        len_inp = len(inp)\n",
    "        return [inp, len_inp]\n",
    "\n",
    "    def vectorize(self, sentence : str) -> np.array:\n",
    "        inp = self.tokenizer.encode(sentence)\n",
    "        len_inp = len(inp)\n",
    "\n",
    "        if len_inp >= self.max_len:\n",
    "            inputs = inp[:self.max_len]\n",
    "            masks = [1] * self.max_len\n",
    "        else:\n",
    "            inputs = inp + [0] * (self.max_len - len_inp)\n",
    "            masks = [1] * len_inp + [0] * (self.max_len - len_inp)\n",
    "\n",
    "        inputs_tensor = torch.tensor([inputs], dtype=torch.long).to(self.device)\n",
    "        masks_tensor = torch.tensor([masks], dtype=torch.long).to(self.device)\n",
    "\n",
    "        bert_out = self.bert_model(inputs_tensor, masks_tensor)\n",
    "        seq_out, pooled_out = bert_out['last_hidden_state'], bert_out['pooler_output']\n",
    "\n",
    "        if torch.cuda.is_available():    \n",
    "            return seq_out[0][0].cpu().detach().numpy() # 0番目は [CLS] token, 768 dim の文章特徴量\n",
    "        else:\n",
    "            return seq_out[0][0].detach().numpy()\n"
   ]
  },
  {
   "cell_type": "code",
   "execution_count": 23,
   "id": "absent-sweden",
   "metadata": {
    "execution": {
     "iopub.execute_input": "2021-06-27T08:16:35.431732Z",
     "iopub.status.busy": "2021-06-27T08:16:35.430754Z",
     "iopub.status.idle": "2021-06-27T08:16:35.432997Z",
     "shell.execute_reply": "2021-06-27T08:16:35.433418Z",
     "shell.execute_reply.started": "2021-06-27T07:54:15.571061Z"
    },
    "id": "qCLEOnw-hp6C",
    "papermill": {
     "duration": 0.0696,
     "end_time": "2021-06-27T08:16:35.433566",
     "exception": false,
     "start_time": "2021-06-27T08:16:35.363966",
     "status": "completed"
    },
    "tags": []
   },
   "outputs": [],
   "source": [
    "from transformers import RobertaTokenizer, RobertaModel\n",
    "\n",
    "# 使用モデル指定\n",
    "if 'kaggle_web_client' in sys.modules:  # kaggle環境\n",
    "    _roberta_model_name = '../input/roberta-base/'\n",
    "else: # ローカル or Colab\n",
    "    _roberta_model_name = 'roberta-base'\n",
    "\n",
    "# 学習済みRoBerta\n",
    "class RoBertaSequenceVectorizer:\n",
    "    def __init__(self):\n",
    "        self.device = 'cuda' if torch.cuda.is_available() else 'cpu' # cudaが無いならcpuを使えばいいじゃない\n",
    "        self.model_name = _roberta_model_name # 学習済みモデルの名前を指定\n",
    "        self.tokenizer = RobertaTokenizer.from_pretrained(self.model_name) # 指定したmodel_nameでtokenizerを作成\n",
    "        self.bert_model = transformers.RobertaModel.from_pretrained(self.model_name) # 指定したmodel_nameで学習済みmodelを作成\n",
    "        self.bert_model = self.bert_model.to(self.device)\n",
    "        self.max_len = 176\n",
    "\n",
    "    def get_imp(self, sentence : str) -> np.array:\n",
    "        inp = self.tokenizer.encode(sentence)\n",
    "        len_inp = len(inp)\n",
    "        return [inp, len_inp]\n",
    "\n",
    "    def vectorize(self, sentence : str) -> np.array:\n",
    "        inp = self.tokenizer.encode(sentence)\n",
    "        len_inp = len(inp)\n",
    "\n",
    "        if len_inp >= self.max_len:\n",
    "            inputs = inp[:self.max_len]\n",
    "            masks = [1] * self.max_len\n",
    "        else:\n",
    "            inputs = inp + [0] * (self.max_len - len_inp)\n",
    "            masks = [1] * len_inp + [0] * (self.max_len - len_inp)\n",
    "\n",
    "        inputs_tensor = torch.tensor([inputs], dtype=torch.long).to(self.device)\n",
    "        masks_tensor = torch.tensor([masks], dtype=torch.long).to(self.device)\n",
    "\n",
    "        bert_out = self.bert_model(inputs_tensor, masks_tensor)\n",
    "        seq_out, pooled_out = bert_out['last_hidden_state'], bert_out['pooler_output']\n",
    "\n",
    "        if torch.cuda.is_available():    \n",
    "            return seq_out[0][0].cpu().detach().numpy() # 0番目は [CLS] token, 768 dim の文章特徴量\n",
    "        else:\n",
    "            return seq_out[0][0].detach().numpy()\n"
   ]
  },
  {
   "cell_type": "code",
   "execution_count": 24,
   "id": "racial-broad",
   "metadata": {
    "execution": {
     "iopub.execute_input": "2021-06-27T08:16:35.570429Z",
     "iopub.status.busy": "2021-06-27T08:16:35.569741Z",
     "iopub.status.idle": "2021-06-27T08:16:48.091376Z",
     "shell.execute_reply": "2021-06-27T08:16:48.090477Z",
     "shell.execute_reply.started": "2021-06-27T07:54:15.586215Z"
    },
    "id": "5laImyczGJKR",
    "outputId": "1061de93-b7d2-4380-9951-f21c82b0478e",
    "papermill": {
     "duration": 12.611839,
     "end_time": "2021-06-27T08:16:48.091517",
     "exception": false,
     "start_time": "2021-06-27T08:16:35.479678",
     "status": "completed"
    },
    "tags": []
   },
   "outputs": [],
   "source": [
    "class BERTPreTrainedBlock(BaseBlock):\n",
    "    \"\"\"\n",
    "    学習済みBERTモデルを用いて、文書をベクトル表現へ変換するblock\n",
    "    \"\"\"\n",
    "    def __init__(self,\n",
    "                 column: str,\n",
    "                 model=BertSequenceVectorizer(),\n",
    "                 model_name='bert-base-cased'\n",
    "                ):\n",
    "        \"\"\"\n",
    "        args:\n",
    "            column: str\n",
    "                変換対象のカラム名\n",
    "        \"\"\"\n",
    "        self.column = column\n",
    "        self.model = model\n",
    "        self.model_name = model_name\n",
    "        self.param_prefix = f\"col={column}_model_name={model_name}\"\n",
    "\n",
    "    def fit(self, input_df, y=None):\n",
    "        return self.transform(input_df)\n",
    "\n",
    "    def transform(self, input_df):            \n",
    "        bert_out = input_df[self.column].progress_apply(lambda x: self.model.vectorize(x))\n",
    "        out_df = pd.DataFrame(np.stack(bert_out))\n",
    "        return out_df.add_prefix(f'{self.model_name}_{self.column}')"
   ]
  },
  {
   "cell_type": "markdown",
   "id": "directed-guard",
   "metadata": {
    "id": "aMuHGMgMGJKR",
    "papermill": {
     "duration": 0.045454,
     "end_time": "2021-06-27T08:16:48.183450",
     "exception": false,
     "start_time": "2021-06-27T08:16:48.137996",
     "status": "completed"
    },
    "tags": []
   },
   "source": [
    "# make_feat"
   ]
  },
  {
   "cell_type": "code",
   "execution_count": 25,
   "id": "superior-chosen",
   "metadata": {
    "execution": {
     "iopub.execute_input": "2021-06-27T08:16:48.283064Z",
     "iopub.status.busy": "2021-06-27T08:16:48.282209Z",
     "iopub.status.idle": "2021-06-27T08:16:48.284302Z",
     "shell.execute_reply": "2021-06-27T08:16:48.284755Z",
     "shell.execute_reply.started": "2021-06-27T07:54:27.351342Z"
    },
    "id": "62EQQyzcGJKR",
    "papermill": {
     "duration": 0.055453,
     "end_time": "2021-06-27T08:16:48.284915",
     "exception": false,
     "start_time": "2021-06-27T08:16:48.229462",
     "status": "completed"
    },
    "tags": []
   },
   "outputs": [],
   "source": [
    "# 特徴量の出力先指定\n",
    "if 'kaggle_web_client' in sys.modules:  # kaggle環境\n",
    "    FEAT_DIR = Path(\"../input/clrp-myfeat\") # 事前作成したデータセットを指定。出力先というより、読込元として指定している。\n",
    "elif 'google.colab' in sys.modules:\n",
    "    FEAT_DIR = Path('/content/drive/MyDrive/Colab_Files/kaggle/commonlit/04_feature')\n",
    "else:\n",
    "    FEAT_DIR = Path(f\"../04_feature\")\n",
    "    FEAT_DIR.mkdir(exist_ok=True, parents=True)"
   ]
  },
  {
   "cell_type": "code",
   "execution_count": 26,
   "id": "intense-signal",
   "metadata": {
    "execution": {
     "iopub.execute_input": "2021-06-27T08:16:48.391770Z",
     "iopub.status.busy": "2021-06-27T08:16:48.390891Z",
     "iopub.status.idle": "2021-06-27T08:20:56.466743Z",
     "shell.execute_reply": "2021-06-27T08:20:56.466243Z",
     "shell.execute_reply.started": "2021-06-27T07:54:27.358369Z"
    },
    "id": "BnVRE4lUGJKR",
    "outputId": "6503f90c-a256-4598-d498-cf3ef2c6958e",
    "papermill": {
     "duration": 248.135366,
     "end_time": "2021-06-27T08:20:56.466893",
     "exception": false,
     "start_time": "2021-06-27T08:16:48.331527",
     "status": "completed"
    },
    "tags": []
   },
   "outputs": [
    {
     "name": "stderr",
     "output_type": "stream",
     "text": [
      "Warning : `load_model` does not return WordVectorModel or SupervisedModel any more, but a `FastText` object which is very similar.\n"
     ]
    }
   ],
   "source": [
    "import gensim.downloader as api\n",
    "\n",
    "# モデル入手\n",
    "if 'kaggle_web_client' in sys.modules:  # kaggle環境\n",
    "    fast_path = '../input/fasttext-pretrained-crawl-vector-en-bin/cc.en.300.bin'\n",
    "    gen_glv_wiki_path = '../input/stanfords-glove-pretrained-word-vectors/glove.6B.300d.txt'\n",
    "    gen_glv_twi_path = '../input/glovetwitter27b-in-gensim-kv-format/glove.twitter.27B.200d.kv'\n",
    "    gen_ggl_path = '../input/gensim-google-data/GoogleNews-vectors-negative300.bin'\n",
    "\n",
    "    ft_model = fasttext.load_model(fast_path)\n",
    "    gen_glv_wiki_model = KeyedVectors.load_word2vec_format(gen_glv_wiki_path, binary=False)\n",
    "    #gen_glv_twi_model = KeyedVectors.load(gen_glv_twi_path)\n",
    "    #gen_ggl_model = KeyedVectors.load_word2vec_format(gen_ggl_path, binary=True)\n",
    "\n",
    "elif 'google.colab' in sys.modules:\n",
    "    fast_path = '/content/drive/MyDrive/Colab_Files/kaggle/commonlit/97_pre_trained/cc.en.300.bin'\n",
    "    gen_glv_wiki_model = api.load('glove-wiki-gigaword-300')\n",
    "    ft_model = fasttext.load_model(fast_path)\n",
    "\n",
    "else: # ローカルまたは自前のクラウド環境を想定\n",
    "    fast_path = '../97_pre_trained/cc.en.300.bin'\n",
    "    gen_glv_wiki_path = '~/gensim-data/glove-wiki-gigaword-300/glove-wiki-gigaword-300'\n",
    "    gen_glv_twi_path = '~/gensim-data/glove-twitter-200/glove-twitter-200.gz'\n",
    "    gen_ggl_path = '~/gensim-data/word2vec-google-news-300/word2vec-google-news-300.gz'\n",
    "\n",
    "    ft_model = fasttext.load_model('../97_pre_trained/cc.en.300.bin') # fasttext重いので、gensim実装のやつ無いかなあ\n",
    "    gen_glv_wiki_model = KeyedVectors.load_word2vec_format(gen_glv_wiki_path, binary=False)\n",
    "    #gen_glv_twi_model = KeyedVectors.load_word2vec_format(gen_glv_twi_path, binary=False)\n",
    "    #gen_ggl_model = KeyedVectors.load_word2vec_format(gen_ggl_path, binary=True)"
   ]
  },
  {
   "cell_type": "code",
   "execution_count": 27,
   "id": "aerial-bronze",
   "metadata": {
    "execution": {
     "iopub.execute_input": "2021-06-27T08:20:56.584383Z",
     "iopub.status.busy": "2021-06-27T08:20:56.583679Z",
     "iopub.status.idle": "2021-06-27T08:20:56.587179Z",
     "shell.execute_reply": "2021-06-27T08:20:56.586746Z",
     "shell.execute_reply.started": "2021-06-27T07:58:28.938813Z"
    },
    "id": "t_EaEnThGJKR",
    "papermill": {
     "duration": 0.073662,
     "end_time": "2021-06-27T08:20:56.587294",
     "exception": false,
     "start_time": "2021-06-27T08:20:56.513632",
     "status": "completed"
    },
    "tags": []
   },
   "outputs": [],
   "source": [
    "# 初期化\n",
    "train_feat = pd.DataFrame()\n",
    "test_feat = pd.DataFrame()\n",
    "train_target = train_base['target'].copy()\n",
    "\n",
    "# tfidf作成用のdf作成\n",
    "whole_df = pd.concat([train_base[['id', 'excerpt']], test_base[['id', 'excerpt']]], axis='rows')"
   ]
  },
  {
   "cell_type": "code",
   "execution_count": 28,
   "id": "pleased-given",
   "metadata": {
    "execution": {
     "iopub.execute_input": "2021-06-27T08:20:56.685068Z",
     "iopub.status.busy": "2021-06-27T08:20:56.684523Z",
     "iopub.status.idle": "2021-06-27T08:20:56.701409Z",
     "shell.execute_reply": "2021-06-27T08:20:56.700779Z",
     "shell.execute_reply.started": "2021-06-27T07:58:28.960136Z"
    },
    "id": "Y2AS4-TuGJKS",
    "papermill": {
     "duration": 0.068094,
     "end_time": "2021-06-27T08:20:56.701534",
     "exception": false,
     "start_time": "2021-06-27T08:20:56.633440",
     "status": "completed"
    },
    "tags": []
   },
   "outputs": [],
   "source": [
    "# 特徴量の出力\n",
    "import feather \n",
    "def save_feather(input_df:pd.DataFrame, filename_:str):\n",
    "    input_df.to_feather(FEAT_DIR/filename_)\n",
    "    \n",
    "def load_feather(filename_:str):\n",
    "    return pd.read_feather(FEAT_DIR/filename_)\n",
    "\n",
    "def save_pickle(obj, filename_:str):\n",
    "    with open(FEAT_DIR/filename_, 'wb') as f:\n",
    "        pickle.dump(obj, f)\n",
    "    \n",
    "def load_pickle(filename_:str):\n",
    "    with open(FEAT_DIR/filename_, 'rb') as f:\n",
    "        obj = pickle.load(f)\n",
    "    return obj"
   ]
  },
  {
   "cell_type": "code",
   "execution_count": 29,
   "id": "greek-manchester",
   "metadata": {
    "execution": {
     "iopub.execute_input": "2021-06-27T08:20:56.804578Z",
     "iopub.status.busy": "2021-06-27T08:20:56.803096Z",
     "iopub.status.idle": "2021-06-27T08:20:56.805384Z",
     "shell.execute_reply": "2021-06-27T08:20:56.805793Z",
     "shell.execute_reply.started": "2021-06-27T07:58:28.983224Z"
    },
    "id": "fajQ6ho4GJKS",
    "papermill": {
     "duration": 0.057938,
     "end_time": "2021-06-27T08:20:56.805941",
     "exception": false,
     "start_time": "2021-06-27T08:20:56.748003",
     "status": "completed"
    },
    "tags": []
   },
   "outputs": [],
   "source": [
    "# https://www.guruguru.science/competitions/16/discussions/95b7f8ec-a741-444f-933a-94c33b9e66be/\n",
    "# https://github.com/nyk510/vivid/blob/master/vivid/utils.py\n",
    "\n",
    "from time import time\n",
    "\n",
    "# 文字列を「*」で囲っていい感じに見せる関数？\n",
    "def decorate(s: str, decoration=None):\n",
    "    if decoration is None:\n",
    "        decoration = '★' * 20\n",
    "\n",
    "    return ' '.join([decoration, str(s), decoration])\n",
    "\n",
    "# 時間計測用\n",
    "class Timer:\n",
    "    def __init__(self, logger=None, format_str='{:.3f}[s]', prefix=None, suffix=None, sep=' ', verbose=0):\n",
    "\n",
    "        if prefix: format_str = str(prefix) + sep + format_str\n",
    "        if suffix: format_str = format_str + sep + str(suffix)\n",
    "        self.format_str = format_str\n",
    "        self.logger = logger\n",
    "        self.start = None\n",
    "        self.end = None\n",
    "        self.verbose = verbose\n",
    "\n",
    "    @property\n",
    "    def duration(self):\n",
    "        if self.end is None:\n",
    "            return 0\n",
    "        return self.end - self.start\n",
    "\n",
    "    def __enter__(self):\n",
    "        self.start = time()\n",
    "\n",
    "    def __exit__(self, exc_type, exc_val, exc_tb):\n",
    "        self.end = time() \n",
    "        if self.verbose is None:\n",
    "            return\n",
    "        out_str = self.format_str.format(self.duration)\n",
    "        if self.logger:\n",
    "            self.logger.info(out_str)\n",
    "        else:\n",
    "            print(out_str)"
   ]
  },
  {
   "cell_type": "code",
   "execution_count": 30,
   "id": "determined-stability",
   "metadata": {
    "execution": {
     "iopub.execute_input": "2021-06-27T08:20:56.906963Z",
     "iopub.status.busy": "2021-06-27T08:20:56.906315Z",
     "iopub.status.idle": "2021-06-27T08:20:56.909395Z",
     "shell.execute_reply": "2021-06-27T08:20:56.908976Z",
     "shell.execute_reply.started": "2021-06-27T07:58:28.994730Z"
    },
    "id": "b-Dzkz0CGJKS",
    "papermill": {
     "duration": 0.057483,
     "end_time": "2021-06-27T08:20:56.909514",
     "exception": false,
     "start_time": "2021-06-27T08:20:56.852031",
     "status": "completed"
    },
    "tags": []
   },
   "outputs": [],
   "source": [
    "# 一旦これで進めるが、もうちょっとスマートにしたい。\n",
    "def run_blocks(input_df, blocks, y=None, test=False, save_feat=True):\n",
    "    out_df = pd.DataFrame()\n",
    "\n",
    "    print(decorate('start run blocks...'))\n",
    "\n",
    "    with Timer(prefix='run test={}'.format(test)): \n",
    "        for block in blocks:\n",
    "            with Timer(prefix='\\t- {}'.format(str(block))):\n",
    "                name = block.__class__.__name__\n",
    "                params = block.param_prefix\n",
    "                filename_df = f\"{'Test' if test else 'Train'}_{name}_{params}.ftr\"\n",
    "                filepath_df = FEAT_DIR/filename_df\n",
    "\n",
    "                if filepath_df.exists():\n",
    "                    out_i = pd.read_feather(filepath_df)\n",
    "                    print(f'skip -> read:{filename_df}')\n",
    "                else:\n",
    "                    if not test:\n",
    "                        out_i = block.fit(input_df, y=y)\n",
    "                    else:\n",
    "                        out_i = block.transform(input_df)\n",
    "\n",
    "                if save_feat:\n",
    "                    save_feather(out_i, filename_df)\n",
    "\n",
    "                assert len(input_df) == len(out_i)\n",
    "                out_df = pd.concat([out_df, out_i.add_suffix(f'@{name}')], axis=1)\n",
    "    return out_df"
   ]
  },
  {
   "cell_type": "code",
   "execution_count": 31,
   "id": "filled-blackjack",
   "metadata": {
    "execution": {
     "iopub.execute_input": "2021-06-27T08:20:57.008757Z",
     "iopub.status.busy": "2021-06-27T08:20:57.008091Z",
     "iopub.status.idle": "2021-06-27T08:20:57.011310Z",
     "shell.execute_reply": "2021-06-27T08:20:57.011711Z",
     "shell.execute_reply.started": "2021-06-27T07:58:29.005430Z"
    },
    "id": "QoIfLx2aaNWM",
    "outputId": "4a032c5f-367c-49e0-f532-166bfd6af393",
    "papermill": {
     "duration": 0.055361,
     "end_time": "2021-06-27T08:20:57.011840",
     "exception": false,
     "start_time": "2021-06-27T08:20:56.956479",
     "status": "completed"
    },
    "tags": []
   },
   "outputs": [
    {
     "data": {
      "text/plain": [
       "pathlib.PosixPath"
      ]
     },
     "execution_count": 31,
     "metadata": {},
     "output_type": "execute_result"
    }
   ],
   "source": [
    "type(FEAT_DIR)"
   ]
  },
  {
   "cell_type": "code",
   "execution_count": 32,
   "id": "cosmetic-debut",
   "metadata": {
    "execution": {
     "iopub.execute_input": "2021-06-27T08:20:57.111050Z",
     "iopub.status.busy": "2021-06-27T08:20:57.110476Z",
     "iopub.status.idle": "2021-06-27T08:22:56.619456Z",
     "shell.execute_reply": "2021-06-27T08:22:56.618825Z",
     "shell.execute_reply.started": "2021-06-27T07:58:29.021552Z"
    },
    "id": "JGYTL_EkGJKS",
    "outputId": "7dea5172-f1cd-45c5-9d91-e549ee5c68c0",
    "papermill": {
     "duration": 119.561077,
     "end_time": "2021-06-27T08:22:56.619615",
     "exception": false,
     "start_time": "2021-06-27T08:20:57.058538",
     "status": "completed"
    },
    "tags": []
   },
   "outputs": [
    {
     "name": "stdout",
     "output_type": "stream",
     "text": [
      "★★★★★★★★★★★★★★★★★★★★ start run blocks... ★★★★★★★★★★★★★★★★★★★★\n",
      "\t- <__main__.TextDescriptionBlock object at 0x7efe70a2e310> 5.159[s]\n",
      "\t- <__main__.TfidfBlock object at 0x7efe7b557390> 2.624[s]\n",
      "\t- <__main__.FasttextBlock object at 0x7efe7b557590> 1.056[s]\n"
     ]
    },
    {
     "name": "stderr",
     "output_type": "stream",
     "text": [
      "  0%|          | 0/2834 [00:00<?, ?it/s]"
     ]
    },
    {
     "name": "stdout",
     "output_type": "stream",
     "text": [
      "\t- <__main__.GensimPreTrainedBlock object at 0x7efe7b5574d0> 1.340[s]\n"
     ]
    },
    {
     "name": "stderr",
     "output_type": "stream",
     "text": [
      "100%|██████████| 2834/2834 [00:53<00:00, 53.36it/s]\n",
      "  0%|          | 7/2834 [00:00<00:46, 60.18it/s]"
     ]
    },
    {
     "name": "stdout",
     "output_type": "stream",
     "text": [
      "\t- <__main__.BERTPreTrainedBlock object at 0x7efe7b541a90> 53.150[s]\n"
     ]
    },
    {
     "name": "stderr",
     "output_type": "stream",
     "text": [
      "100%|██████████| 2834/2834 [00:47<00:00, 60.25it/s]\n",
      "100%|██████████| 7/7 [00:00<00:00, 55.77it/s]\n",
      "  0%|          | 0/7 [00:00<?, ?it/s]"
     ]
    },
    {
     "name": "stdout",
     "output_type": "stream",
     "text": [
      "\t- <__main__.BERTPreTrainedBlock object at 0x7efe753bbd50> 47.084[s]\n",
      "run test=False 110.414[s]\n",
      "★★★★★★★★★★★★★★★★★★★★ start run blocks... ★★★★★★★★★★★★★★★★★★★★\n",
      "\t- <__main__.TextDescriptionBlock object at 0x7efe70a2e310> 0.025[s]\n",
      "\t- <__main__.TfidfBlock object at 0x7efe7b557390> 0.009[s]\n",
      "\t- <__main__.FasttextBlock object at 0x7efe7b557590> 0.006[s]\n",
      "\t- <__main__.GensimPreTrainedBlock object at 0x7efe7b5574d0> 0.007[s]\n",
      "\t- <__main__.BERTPreTrainedBlock object at 0x7efe7b541a90> 0.133[s]\n"
     ]
    },
    {
     "name": "stderr",
     "output_type": "stream",
     "text": [
      "100%|██████████| 7/7 [00:00<00:00, 63.53it/s]"
     ]
    },
    {
     "name": "stdout",
     "output_type": "stream",
     "text": [
      "\t- <__main__.BERTPreTrainedBlock object at 0x7efe753bbd50> 0.118[s]\n",
      "run test=True 0.298[s]\n"
     ]
    },
    {
     "name": "stderr",
     "output_type": "stream",
     "text": [
      "\n"
     ]
    }
   ],
   "source": [
    "# 特徴作成: 実行\n",
    "feat_blocks = [TextDescriptionBlock('excerpt')\n",
    "              ,TfidfBlock('excerpt', master_df=whole_df, ngram_range=(1,1))\n",
    "              #,TfidfBlock('excerpt', master_df=whole_df, ngram_range=(2,2))\n",
    "              #,TfidfBlock('excerpt', master_df=whole_df, ngram_range=(1,2))\n",
    "              ,FasttextBlock('excerpt', ft_model)\n",
    "              #,W2VTrainBlock('excerpt', master_df=whole_df, window=3)\n",
    "              #,W2VTrainBlock('excerpt', master_df=whole_df, window=10)\n",
    "              #,W2VTrainBlock('excerpt', master_df=whole_df, window=100)\n",
    "              ,GensimPreTrainedBlock('excerpt'\n",
    "                                     ,gen_glv_wiki_model\n",
    "                                     ,model_name='glove_wiki_giga300'\n",
    "                                     ,swem='aver')\n",
    "             ,BERTPreTrainedBlock('excerpt')\n",
    "             ,BERTPreTrainedBlock('excerpt', model=RoBertaSequenceVectorizer(), model_name='roberta-base')\n",
    "              ]\n",
    "\n",
    "train_feat = run_blocks(train_base, feat_blocks, save_feat=False)\n",
    "test_feat = run_blocks(test_base, feat_blocks, test=True, save_feat=False)"
   ]
  },
  {
   "cell_type": "code",
   "execution_count": 33,
   "id": "related-grounds",
   "metadata": {
    "execution": {
     "iopub.execute_input": "2021-06-27T08:22:57.183808Z",
     "iopub.status.busy": "2021-06-27T08:22:57.183089Z",
     "iopub.status.idle": "2021-06-27T08:22:57.186496Z",
     "shell.execute_reply": "2021-06-27T08:22:57.187095Z",
     "shell.execute_reply.started": "2021-06-27T08:00:26.152278Z"
    },
    "id": "Cj1JHlRsGJKS",
    "outputId": "72dd8831-0fd1-4553-a7a0-c42f64e94ed4",
    "papermill": {
     "duration": 0.287503,
     "end_time": "2021-06-27T08:22:57.187274",
     "exception": false,
     "start_time": "2021-06-27T08:22:56.899771",
     "status": "completed"
    },
    "tags": []
   },
   "outputs": [
    {
     "name": "stdout",
     "output_type": "stream",
     "text": [
      "(2834, 2198)\n",
      "(7, 2198)\n"
     ]
    }
   ],
   "source": [
    "print(train_feat.shape)\n",
    "print(test_feat.shape)"
   ]
  },
  {
   "cell_type": "markdown",
   "id": "secret-timer",
   "metadata": {
    "papermill": {
     "duration": 0.279639,
     "end_time": "2021-06-27T08:22:57.746640",
     "exception": false,
     "start_time": "2021-06-27T08:22:57.467001",
     "status": "completed"
    },
    "tags": []
   },
   "source": [
    "## Train & Predict"
   ]
  },
  {
   "cell_type": "code",
   "execution_count": 34,
   "id": "exotic-procurement",
   "metadata": {
    "execution": {
     "iopub.execute_input": "2021-06-27T08:22:58.309302Z",
     "iopub.status.busy": "2021-06-27T08:22:58.308408Z",
     "iopub.status.idle": "2021-06-27T08:22:58.311035Z",
     "shell.execute_reply": "2021-06-27T08:22:58.310614Z",
     "shell.execute_reply.started": "2021-06-27T08:00:26.159222Z"
    },
    "id": "qPcFm5qEGJKT",
    "papermill": {
     "duration": 0.286749,
     "end_time": "2021-06-27T08:22:58.311147",
     "exception": false,
     "start_time": "2021-06-27T08:22:58.024398",
     "status": "completed"
    },
    "tags": []
   },
   "outputs": [],
   "source": [
    "from sklearn.model_selection import KFold\n",
    "\n",
    "def kfold_cv(X, y, n_splits=5, random_state=0):\n",
    "    folds = KFold(n_splits=n_splits, random_state=0, shuffle=True)\n",
    "    return list(folds.split(X, y))"
   ]
  },
  {
   "cell_type": "code",
   "execution_count": 35,
   "id": "ignored-burton",
   "metadata": {
    "execution": {
     "iopub.execute_input": "2021-06-27T08:22:58.873257Z",
     "iopub.status.busy": "2021-06-27T08:22:58.872684Z",
     "iopub.status.idle": "2021-06-27T08:22:58.877401Z",
     "shell.execute_reply": "2021-06-27T08:22:58.877850Z",
     "shell.execute_reply.started": "2021-06-27T08:00:26.170116Z"
    },
    "id": "Dlho26FmGJKT",
    "papermill": {
     "duration": 0.287509,
     "end_time": "2021-06-27T08:22:58.878002",
     "exception": false,
     "start_time": "2021-06-27T08:22:58.590493",
     "status": "completed"
    },
    "tags": []
   },
   "outputs": [],
   "source": [
    "target = 'target'\n",
    "cv = kfold_cv(train_feat, train_target)"
   ]
  },
  {
   "cell_type": "code",
   "execution_count": 36,
   "id": "active-composer",
   "metadata": {
    "execution": {
     "iopub.execute_input": "2021-06-27T08:22:59.441850Z",
     "iopub.status.busy": "2021-06-27T08:22:59.440923Z",
     "iopub.status.idle": "2021-06-27T08:22:59.443689Z",
     "shell.execute_reply": "2021-06-27T08:22:59.443253Z",
     "shell.execute_reply.started": "2021-06-27T08:00:26.181070Z"
    },
    "id": "Uid3tvmXGJKT",
    "papermill": {
     "duration": 0.286794,
     "end_time": "2021-06-27T08:22:59.443802",
     "exception": false,
     "start_time": "2021-06-27T08:22:59.157008",
     "status": "completed"
    },
    "tags": []
   },
   "outputs": [],
   "source": [
    "params = {\n",
    "    'objective': 'regression',\n",
    "    'metrics': 'rmse',\n",
    "    'seed': SEED\n",
    "}"
   ]
  },
  {
   "cell_type": "code",
   "execution_count": 37,
   "id": "nervous-means",
   "metadata": {
    "execution": {
     "iopub.execute_input": "2021-06-27T08:23:00.010299Z",
     "iopub.status.busy": "2021-06-27T08:23:00.009306Z",
     "iopub.status.idle": "2021-06-27T08:23:00.012323Z",
     "shell.execute_reply": "2021-06-27T08:23:00.011835Z",
     "shell.execute_reply.started": "2021-06-27T08:00:26.189158Z"
    },
    "id": "HvI1sHBcGJKT",
    "papermill": {
     "duration": 0.288812,
     "end_time": "2021-06-27T08:23:00.012449",
     "exception": false,
     "start_time": "2021-06-27T08:22:59.723637",
     "status": "completed"
    },
    "tags": []
   },
   "outputs": [],
   "source": [
    "from sklearn.metrics import mean_squared_error, mean_squared_log_error"
   ]
  },
  {
   "cell_type": "code",
   "execution_count": 38,
   "id": "joined-opera",
   "metadata": {
    "execution": {
     "iopub.execute_input": "2021-06-27T08:23:00.668355Z",
     "iopub.status.busy": "2021-06-27T08:23:00.667343Z",
     "iopub.status.idle": "2021-06-27T08:23:00.670287Z",
     "shell.execute_reply": "2021-06-27T08:23:00.669804Z",
     "shell.execute_reply.started": "2021-06-27T08:00:26.197203Z"
    },
    "id": "7vsazJ9BGJKT",
    "papermill": {
     "duration": 0.332142,
     "end_time": "2021-06-27T08:23:00.670418",
     "exception": false,
     "start_time": "2021-06-27T08:23:00.338276",
     "status": "completed"
    },
    "tags": []
   },
   "outputs": [],
   "source": [
    "from sklearn.linear_model import LinearRegression\n",
    "from sklearn.svm import SVR\n",
    "from sklearn.pipeline import make_pipeline\n",
    "from sklearn.preprocessing import StandardScaler\n",
    "from sklearn.linear_model import Ridge\n",
    "from sklearn.linear_model import BayesianRidge\n"
   ]
  },
  {
   "cell_type": "code",
   "execution_count": 39,
   "id": "opposite-effects",
   "metadata": {
    "execution": {
     "iopub.execute_input": "2021-06-27T08:23:01.297502Z",
     "iopub.status.busy": "2021-06-27T08:23:01.295773Z",
     "iopub.status.idle": "2021-06-27T08:23:38.311350Z",
     "shell.execute_reply": "2021-06-27T08:23:38.311847Z",
     "shell.execute_reply.started": "2021-06-27T08:00:26.205801Z"
    },
    "id": "H29q6JW2GJKU",
    "outputId": "a7670408-748a-4f1e-80b8-d3eb862e3c1f",
    "papermill": {
     "duration": 37.322088,
     "end_time": "2021-06-27T08:23:38.312087",
     "exception": false,
     "start_time": "2021-06-27T08:23:00.989999",
     "status": "completed"
    },
    "tags": []
   },
   "outputs": [
    {
     "name": "stdout",
     "output_type": "stream",
     "text": [
      "\n",
      "Fold 1\n",
      "Convergence after  20  iterations\n",
      "\n",
      "Fold 2\n",
      "Convergence after  20  iterations\n",
      "\n",
      "Fold 3\n",
      "Convergence after  20  iterations\n",
      "\n",
      "Fold 4\n",
      "Convergence after  20  iterations\n",
      "\n",
      "Fold 5\n",
      "Convergence after  19  iterations\n",
      "Mean RMSE: 0.5515684851463344, std: 0.015312456744677731, All RMSE: 0.551787207304066\n"
     ]
    }
   ],
   "source": [
    "oof_preds = np.zeros(len(train_feat))\n",
    "test_preds = np.zeros(len(test_feat))\n",
    "\n",
    "importances = pd.DataFrame()\n",
    "scores = []\n",
    "models = []\n",
    "\n",
    "for i, (train_index, valid_index) in enumerate(cv):\n",
    "    print(f'\\nFold {i + 1}')\n",
    "    trn_x, trn_y = train_feat.iloc[train_index], train_target.iloc[train_index]\n",
    "    val_x, val_y = train_feat.iloc[valid_index], train_target.iloc[valid_index]\n",
    "    \n",
    "    model = BayesianRidge(n_iter=300, verbose=True)\n",
    "    model.fit(\n",
    "        X=trn_x,\n",
    "        y=trn_y\n",
    "    )\n",
    "    \n",
    "    val_preds = model.predict(val_x)\n",
    "    oof_preds[valid_index] = val_preds\n",
    "    test_preds += model.predict(test_feat) / 5\n",
    "    \n",
    "    val_score = np.sqrt(mean_squared_error(val_y, val_preds))\n",
    "    scores.append(val_score)\n",
    "    models.append(model)\n",
    "    \n",
    "mean_score = np.mean(scores)\n",
    "std_score  = np.std(scores)\n",
    "all_score  = np.sqrt(mean_squared_error(train_target, oof_preds))\n",
    "metrics_name = 'RMSE'\n",
    "print(f'Mean {metrics_name}: {mean_score}, std: {std_score}, All {metrics_name}: {all_score}')"
   ]
  },
  {
   "cell_type": "code",
   "execution_count": 40,
   "id": "respected-rating",
   "metadata": {
    "execution": {
     "iopub.execute_input": "2021-06-27T08:23:38.934940Z",
     "iopub.status.busy": "2021-06-27T08:23:38.933854Z",
     "iopub.status.idle": "2021-06-27T08:23:38.936916Z",
     "shell.execute_reply": "2021-06-27T08:23:38.936503Z",
     "shell.execute_reply.started": "2021-06-27T08:01:01.645094Z"
    },
    "id": "78Z6SPJ7GJKU",
    "papermill": {
     "duration": 0.286709,
     "end_time": "2021-06-27T08:23:38.937030",
     "exception": false,
     "start_time": "2021-06-27T08:23:38.650321",
     "status": "completed"
    },
    "tags": []
   },
   "outputs": [],
   "source": [
    "score_old = test_preds.copy()"
   ]
  },
  {
   "cell_type": "markdown",
   "id": "democratic-dream",
   "metadata": {
    "papermill": {
     "duration": 0.280099,
     "end_time": "2021-06-27T08:23:39.498528",
     "exception": false,
     "start_time": "2021-06-27T08:23:39.218429",
     "status": "completed"
    },
    "tags": []
   },
   "source": [
    "## CLRP: RoBerta  + SVM\n",
    "- https://www.kaggle.com/maunish/clrp-roberta-svm"
   ]
  },
  {
   "cell_type": "code",
   "execution_count": 41,
   "id": "humanitarian-jesus",
   "metadata": {
    "_cell_guid": "b1076dfc-b9ad-4769-8c92-a6c4dae69d19",
    "_kg_hide-input": true,
    "_uuid": "8f2839f25d086af736a60e9eeb907d3b93b6e0e5",
    "execution": {
     "iopub.execute_input": "2021-06-27T08:23:40.073363Z",
     "iopub.status.busy": "2021-06-27T08:23:40.071742Z",
     "iopub.status.idle": "2021-06-27T08:23:40.074071Z",
     "shell.execute_reply": "2021-06-27T08:23:40.074473Z",
     "shell.execute_reply.started": "2021-06-27T08:01:01.651006Z"
    },
    "papermill": {
     "duration": 0.293084,
     "end_time": "2021-06-27T08:23:40.074638",
     "exception": false,
     "start_time": "2021-06-27T08:23:39.781554",
     "status": "completed"
    },
    "tags": []
   },
   "outputs": [],
   "source": [
    "import os\n",
    "import gc\n",
    "import sys\n",
    "import cv2\n",
    "import math\n",
    "import time\n",
    "import tqdm\n",
    "import random\n",
    "import numpy as np\n",
    "import pandas as pd\n",
    "import seaborn as sns\n",
    "from tqdm import tqdm\n",
    "import matplotlib.pyplot as plt\n",
    "\n",
    "import warnings\n",
    "warnings.filterwarnings('ignore')\n",
    "\n",
    "from sklearn.svm import SVR\n",
    "\n",
    "from sklearn.metrics import mean_squared_error\n",
    "from sklearn.model_selection import KFold,StratifiedKFold\n",
    "\n",
    "import torch\n",
    "import torchvision\n",
    "import torch.nn as nn\n",
    "import torch.optim as optim\n",
    "import torch.nn.functional as F\n",
    "from torch.optim import Adam, lr_scheduler\n",
    "from torch.utils.data import Dataset, DataLoader\n",
    "\n",
    "from transformers import (AutoModel, AutoTokenizer, \n",
    "                          AutoModelForSequenceClassification)\n",
    "\n",
    "import plotly.express as px\n",
    "import plotly.graph_objs as go\n",
    "import plotly.figure_factory as ff\n",
    "\n",
    "\n",
    "from colorama import Fore, Back, Style\n",
    "y_ = Fore.YELLOW\n",
    "r_ = Fore.RED\n",
    "g_ = Fore.GREEN\n",
    "b_ = Fore.BLUE\n",
    "m_ = Fore.MAGENTA\n",
    "c_ = Fore.CYAN\n",
    "sr_ = Style.RESET_ALL"
   ]
  },
  {
   "cell_type": "code",
   "execution_count": 42,
   "id": "renewable-installation",
   "metadata": {
    "execution": {
     "iopub.execute_input": "2021-06-27T08:23:40.653659Z",
     "iopub.status.busy": "2021-06-27T08:23:40.653086Z",
     "iopub.status.idle": "2021-06-27T08:23:40.768719Z",
     "shell.execute_reply": "2021-06-27T08:23:40.768247Z",
     "shell.execute_reply.started": "2021-06-27T08:01:01.668389Z"
    },
    "papermill": {
     "duration": 0.412332,
     "end_time": "2021-06-27T08:23:40.768849",
     "exception": false,
     "start_time": "2021-06-27T08:23:40.356517",
     "status": "completed"
    },
    "tags": []
   },
   "outputs": [],
   "source": [
    "train_data = pd.read_csv('../input/commonlitreadabilityprize/train.csv')\n",
    "test_data = pd.read_csv('../input/commonlitreadabilityprize/test.csv')\n",
    "sample = pd.read_csv('../input/commonlitreadabilityprize/sample_submission.csv')\n",
    "\n",
    "num_bins = int(np.floor(1 + np.log2(len(train_data))))\n",
    "train_data.loc[:,'bins'] = pd.cut(train_data['target'],bins=num_bins,labels=False)\n",
    "\n",
    "target = train_data['target'].to_numpy()\n",
    "bins = train_data.bins.to_numpy()\n",
    "\n",
    "def rmse_score(y_true,y_pred):\n",
    "    return np.sqrt(mean_squared_error(y_true,y_pred))"
   ]
  },
  {
   "cell_type": "code",
   "execution_count": 43,
   "id": "textile-above",
   "metadata": {
    "execution": {
     "iopub.execute_input": "2021-06-27T08:23:41.341747Z",
     "iopub.status.busy": "2021-06-27T08:23:41.340869Z",
     "iopub.status.idle": "2021-06-27T08:23:41.343420Z",
     "shell.execute_reply": "2021-06-27T08:23:41.343016Z",
     "shell.execute_reply.started": "2021-06-27T08:01:01.779255Z"
    },
    "papermill": {
     "duration": 0.292665,
     "end_time": "2021-06-27T08:23:41.343530",
     "exception": false,
     "start_time": "2021-06-27T08:23:41.050865",
     "status": "completed"
    },
    "tags": []
   },
   "outputs": [],
   "source": [
    "config = {\n",
    "    'batch_size':128,\n",
    "    'max_len':256,\n",
    "    'nfolds':5,\n",
    "    'seed':42,\n",
    "}\n",
    "\n",
    "def seed_everything(seed=42):\n",
    "    random.seed(seed)\n",
    "    os.environ['PYTHONASSEED'] = str(seed)\n",
    "    np.random.seed(seed)\n",
    "    torch.manual_seed(seed)\n",
    "    torch.cuda.manual_seed(seed)\n",
    "    torch.backends.cudnn.deterministic = True\n",
    "    torch.backends.cudnn.benchmark = True\n",
    "\n",
    "seed_everything(seed=config['seed'])"
   ]
  },
  {
   "cell_type": "code",
   "execution_count": 44,
   "id": "oriented-canal",
   "metadata": {
    "execution": {
     "iopub.execute_input": "2021-06-27T08:23:41.914556Z",
     "iopub.status.busy": "2021-06-27T08:23:41.913615Z",
     "iopub.status.idle": "2021-06-27T08:23:41.916450Z",
     "shell.execute_reply": "2021-06-27T08:23:41.916040Z",
     "shell.execute_reply.started": "2021-06-27T08:01:01.790838Z"
    },
    "papermill": {
     "duration": 0.291931,
     "end_time": "2021-06-27T08:23:41.916615",
     "exception": false,
     "start_time": "2021-06-27T08:23:41.624684",
     "status": "completed"
    },
    "tags": []
   },
   "outputs": [],
   "source": [
    "class CLRPDataset(Dataset):\n",
    "    def __init__(self,df,tokenizer):\n",
    "        self.excerpt = df['excerpt'].to_numpy()\n",
    "        self.tokenizer = tokenizer\n",
    "    \n",
    "    def __getitem__(self,idx):\n",
    "        encode = self.tokenizer(self.excerpt[idx],return_tensors='pt',\n",
    "                                max_length=config['max_len'],\n",
    "                                padding='max_length',truncation=True)\n",
    "        return encode\n",
    "    \n",
    "    def __len__(self):\n",
    "        return len(self.excerpt)"
   ]
  },
  {
   "cell_type": "code",
   "execution_count": 45,
   "id": "conservative-carnival",
   "metadata": {
    "execution": {
     "iopub.execute_input": "2021-06-27T08:23:42.490839Z",
     "iopub.status.busy": "2021-06-27T08:23:42.489236Z",
     "iopub.status.idle": "2021-06-27T08:23:42.491520Z",
     "shell.execute_reply": "2021-06-27T08:23:42.491946Z",
     "shell.execute_reply.started": "2021-06-27T08:01:01.799543Z"
    },
    "papermill": {
     "duration": 0.290956,
     "end_time": "2021-06-27T08:23:42.492079",
     "exception": false,
     "start_time": "2021-06-27T08:23:42.201123",
     "status": "completed"
    },
    "tags": []
   },
   "outputs": [],
   "source": [
    "class AttentionHead(nn.Module):\n",
    "    def __init__(self, in_features, hidden_dim, num_targets):\n",
    "        super().__init__()\n",
    "        self.in_features = in_features\n",
    "        self.middle_features = hidden_dim\n",
    "\n",
    "        self.W = nn.Linear(in_features, hidden_dim)\n",
    "        self.V = nn.Linear(hidden_dim, 1)\n",
    "        self.out_features = hidden_dim\n",
    "\n",
    "    def forward(self, features):\n",
    "        att = torch.tanh(self.W(features))\n",
    "\n",
    "        score = self.V(att)\n",
    "\n",
    "        attention_weights = torch.softmax(score, dim=1)\n",
    "\n",
    "        context_vector = attention_weights * features\n",
    "        context_vector = torch.sum(context_vector, dim=1)\n",
    "\n",
    "        return context_vector"
   ]
  },
  {
   "cell_type": "code",
   "execution_count": 46,
   "id": "pediatric-essay",
   "metadata": {
    "execution": {
     "iopub.execute_input": "2021-06-27T08:23:43.065536Z",
     "iopub.status.busy": "2021-06-27T08:23:43.064555Z",
     "iopub.status.idle": "2021-06-27T08:23:43.067992Z",
     "shell.execute_reply": "2021-06-27T08:23:43.068389Z",
     "shell.execute_reply.started": "2021-06-27T08:01:01.810258Z"
    },
    "papermill": {
     "duration": 0.29157,
     "end_time": "2021-06-27T08:23:43.068532",
     "exception": false,
     "start_time": "2021-06-27T08:23:42.776962",
     "status": "completed"
    },
    "tags": []
   },
   "outputs": [],
   "source": [
    "class Model(nn.Module):\n",
    "    def __init__(self):\n",
    "        super(Model,self).__init__()\n",
    "        self.roberta = AutoModel.from_pretrained('../input/roberta-base')    \n",
    "        self.head = AttentionHead(768,768,1)\n",
    "        self.dropout = nn.Dropout(0.1)\n",
    "        self.linear = nn.Linear(self.head.out_features,1)\n",
    "\n",
    "    def forward(self,**xb):\n",
    "        x = self.roberta(**xb)[0]\n",
    "        x = self.head(x)\n",
    "        return x"
   ]
  },
  {
   "cell_type": "code",
   "execution_count": 47,
   "id": "similar-opportunity",
   "metadata": {
    "execution": {
     "iopub.execute_input": "2021-06-27T08:23:43.640561Z",
     "iopub.status.busy": "2021-06-27T08:23:43.639847Z",
     "iopub.status.idle": "2021-06-27T08:23:43.642757Z",
     "shell.execute_reply": "2021-06-27T08:23:43.643142Z",
     "shell.execute_reply.started": "2021-06-27T08:01:01.821457Z"
    },
    "papermill": {
     "duration": 0.293107,
     "end_time": "2021-06-27T08:23:43.643279",
     "exception": false,
     "start_time": "2021-06-27T08:23:43.350172",
     "status": "completed"
    },
    "tags": []
   },
   "outputs": [],
   "source": [
    "def get_embeddings(df,path,plot_losses=True, verbose=True):\n",
    "    device = torch.device(\"cuda\" if torch.cuda.is_available() else \"cpu\")\n",
    "    print(f\"{device} is used\")\n",
    "            \n",
    "    model = Model()\n",
    "    model.load_state_dict(torch.load(path))\n",
    "    model.to(device)\n",
    "    model.eval()\n",
    "    \n",
    "    tokenizer = AutoTokenizer.from_pretrained('../input/roberta-base')\n",
    "    \n",
    "    ds = CLRPDataset(df,tokenizer)\n",
    "    dl = DataLoader(ds,\n",
    "                  batch_size = config[\"batch_size\"],\n",
    "                  shuffle=False,\n",
    "                  num_workers = 4,\n",
    "                  pin_memory=True,\n",
    "                  drop_last=False\n",
    "                 )\n",
    "        \n",
    "    embeddings = list()\n",
    "    with torch.no_grad():\n",
    "        for i, inputs in tqdm(enumerate(dl)):\n",
    "            inputs = {key:val.reshape(val.shape[0],-1).to(device) for key,val in inputs.items()}\n",
    "            outputs = model(**inputs)\n",
    "            outputs = outputs.detach().cpu().numpy()\n",
    "            embeddings.extend(outputs)\n",
    "    return np.array(embeddings)"
   ]
  },
  {
   "cell_type": "code",
   "execution_count": 48,
   "id": "handed-instrumentation",
   "metadata": {
    "execution": {
     "iopub.execute_input": "2021-06-27T08:23:44.213694Z",
     "iopub.status.busy": "2021-06-27T08:23:44.213156Z",
     "iopub.status.idle": "2021-06-27T08:27:10.419623Z",
     "shell.execute_reply": "2021-06-27T08:27:10.419001Z",
     "shell.execute_reply.started": "2021-06-27T08:01:01.833358Z"
    },
    "papermill": {
     "duration": 206.496423,
     "end_time": "2021-06-27T08:27:10.419825",
     "exception": false,
     "start_time": "2021-06-27T08:23:43.923402",
     "status": "completed"
    },
    "tags": []
   },
   "outputs": [
    {
     "name": "stdout",
     "output_type": "stream",
     "text": [
      "cuda is used\n"
     ]
    },
    {
     "name": "stderr",
     "output_type": "stream",
     "text": [
      "23it [00:22,  1.03it/s]\n"
     ]
    },
    {
     "name": "stdout",
     "output_type": "stream",
     "text": [
      "cuda is used\n"
     ]
    },
    {
     "name": "stderr",
     "output_type": "stream",
     "text": [
      "1it [00:00,  2.24it/s]\n"
     ]
    },
    {
     "name": "stdout",
     "output_type": "stream",
     "text": [
      "cuda is used\n"
     ]
    },
    {
     "name": "stderr",
     "output_type": "stream",
     "text": [
      "23it [00:22,  1.04it/s]\n"
     ]
    },
    {
     "name": "stdout",
     "output_type": "stream",
     "text": [
      "cuda is used\n"
     ]
    },
    {
     "name": "stderr",
     "output_type": "stream",
     "text": [
      "1it [00:00,  2.71it/s]\n"
     ]
    },
    {
     "name": "stdout",
     "output_type": "stream",
     "text": [
      "cuda is used\n"
     ]
    },
    {
     "name": "stderr",
     "output_type": "stream",
     "text": [
      "23it [00:22,  1.03it/s]\n"
     ]
    },
    {
     "name": "stdout",
     "output_type": "stream",
     "text": [
      "cuda is used\n"
     ]
    },
    {
     "name": "stderr",
     "output_type": "stream",
     "text": [
      "1it [00:00,  2.28it/s]\n"
     ]
    },
    {
     "name": "stdout",
     "output_type": "stream",
     "text": [
      "cuda is used\n"
     ]
    },
    {
     "name": "stderr",
     "output_type": "stream",
     "text": [
      "23it [00:22,  1.03it/s]\n"
     ]
    },
    {
     "name": "stdout",
     "output_type": "stream",
     "text": [
      "cuda is used\n"
     ]
    },
    {
     "name": "stderr",
     "output_type": "stream",
     "text": [
      "1it [00:00,  1.75it/s]\n"
     ]
    },
    {
     "name": "stdout",
     "output_type": "stream",
     "text": [
      "cuda is used\n"
     ]
    },
    {
     "name": "stderr",
     "output_type": "stream",
     "text": [
      "23it [00:22,  1.03it/s]\n"
     ]
    },
    {
     "name": "stdout",
     "output_type": "stream",
     "text": [
      "cuda is used\n"
     ]
    },
    {
     "name": "stderr",
     "output_type": "stream",
     "text": [
      "1it [00:00,  2.12it/s]\n"
     ]
    }
   ],
   "source": [
    "train_embeddings1 =  get_embeddings(train_data,'../input/clr-roberta/model0/model0.bin')\n",
    "test_embeddings1 = get_embeddings(test_data,'../input/clr-roberta/model0/model0.bin')\n",
    "\n",
    "train_embeddings2 =  get_embeddings(train_data,'../input/clr-roberta/model1/model1.bin')\n",
    "test_embeddings2 = get_embeddings(test_data,'../input/clr-roberta/model1/model1.bin')\n",
    "\n",
    "train_embeddings3 =  get_embeddings(train_data,'../input/clr-roberta/model2/model2.bin')\n",
    "test_embeddings3 = get_embeddings(test_data,'../input/clr-roberta/model2/model2.bin')\n",
    "\n",
    "train_embeddings4 =  get_embeddings(train_data,'../input/clr-roberta/model3/model3.bin')\n",
    "test_embeddings4 = get_embeddings(test_data,'../input/clr-roberta/model3/model3.bin')\n",
    "\n",
    "train_embeddings5 =  get_embeddings(train_data,'../input/clr-roberta/model4/model4.bin')\n",
    "test_embeddings5 = get_embeddings(test_data,'../input/clr-roberta/model4/model4.bin')"
   ]
  },
  {
   "cell_type": "code",
   "execution_count": 49,
   "id": "caroline-clone",
   "metadata": {
    "execution": {
     "iopub.execute_input": "2021-06-27T08:27:11.087769Z",
     "iopub.status.busy": "2021-06-27T08:27:11.087140Z",
     "iopub.status.idle": "2021-06-27T08:27:11.089996Z",
     "shell.execute_reply": "2021-06-27T08:27:11.090373Z",
     "shell.execute_reply.started": "2021-06-27T08:04:17.886448Z"
    },
    "papermill": {
     "duration": 0.347656,
     "end_time": "2021-06-27T08:27:11.090527",
     "exception": false,
     "start_time": "2021-06-27T08:27:10.742871",
     "status": "completed"
    },
    "tags": []
   },
   "outputs": [],
   "source": [
    "from sklearn.linear_model import LinearRegression\n",
    "from sklearn.svm import SVR\n",
    "from sklearn.pipeline import make_pipeline\n",
    "from sklearn.preprocessing import StandardScaler\n",
    "from sklearn.linear_model import Ridge\n",
    "from sklearn.linear_model import BayesianRidge"
   ]
  },
  {
   "cell_type": "code",
   "execution_count": 50,
   "id": "several-packing",
   "metadata": {
    "execution": {
     "iopub.execute_input": "2021-06-27T08:27:11.748133Z",
     "iopub.status.busy": "2021-06-27T08:27:11.746519Z",
     "iopub.status.idle": "2021-06-27T08:27:11.748868Z",
     "shell.execute_reply": "2021-06-27T08:27:11.749295Z",
     "shell.execute_reply.started": "2021-06-27T08:04:17.940311Z"
    },
    "papermill": {
     "duration": 0.334741,
     "end_time": "2021-06-27T08:27:11.749430",
     "exception": false,
     "start_time": "2021-06-27T08:27:11.414689",
     "status": "completed"
    },
    "tags": []
   },
   "outputs": [],
   "source": [
    "def get_preds_svm(X, y, X_test, bins=bins, nfolds=5, C=10, kernel='rbf'):\n",
    "    scores = list()\n",
    "    preds = np.zeros((X_test.shape[0]))\n",
    "    \n",
    "    X = pd.DataFrame(X).add_prefix('embeddings_')\n",
    "    X_test = pd.DataFrame(X_test).add_prefix('embeddings_')\n",
    "    \n",
    "    X = pd.concat([X, train_feat], axis='columns')\n",
    "    X_test = pd.concat([X_test, test_feat], axis='columns')    \n",
    "    \n",
    "    kfold = StratifiedKFold(n_splits=config['nfolds'],shuffle=True,random_state=config['seed'])\n",
    "    for k, (train_idx,valid_idx) in enumerate(kfold.split(X, bins)):\n",
    "        model = BayesianRidge(n_iter=300, verbose=True)\n",
    "        X_train,y_train = X.iloc[train_idx, :], y[train_idx]\n",
    "        X_valid,y_valid = X.iloc[valid_idx, :], y[valid_idx]\n",
    "        \n",
    "        model.fit(X_train,y_train)\n",
    "        prediction = model.predict(X_valid)\n",
    "        score = rmse_score(prediction,y_valid)\n",
    "        print(f'Fold {k} , rmse score: {score}')\n",
    "        scores.append(score)\n",
    "        preds += model.predict(X_test)\n",
    "        \n",
    "    print(\"mean rmse\",np.mean(scores))\n",
    "    return np.array(preds)/nfolds"
   ]
  },
  {
   "cell_type": "code",
   "execution_count": 51,
   "id": "qualified-smart",
   "metadata": {
    "execution": {
     "iopub.execute_input": "2021-06-27T08:27:12.442414Z",
     "iopub.status.busy": "2021-06-27T08:27:12.441244Z",
     "iopub.status.idle": "2021-06-27T08:32:10.897325Z",
     "shell.execute_reply": "2021-06-27T08:32:10.897838Z",
     "shell.execute_reply.started": "2021-06-27T08:04:17.977969Z"
    },
    "papermill": {
     "duration": 298.82773,
     "end_time": "2021-06-27T08:32:10.898078",
     "exception": false,
     "start_time": "2021-06-27T08:27:12.070348",
     "status": "completed"
    },
    "tags": []
   },
   "outputs": [
    {
     "name": "stdout",
     "output_type": "stream",
     "text": [
      "Convergence after  20  iterations\n",
      "Fold 0 , rmse score: 0.48413921719430103\n",
      "Convergence after  20  iterations\n",
      "Fold 1 , rmse score: 0.259228749437554\n",
      "Convergence after  20  iterations\n",
      "Fold 2 , rmse score: 0.24526450677225256\n",
      "Convergence after  19  iterations\n",
      "Fold 3 , rmse score: 0.24141324977678078\n",
      "Convergence after  18  iterations\n",
      "Fold 4 , rmse score: 0.2504583616051582\n",
      "mean rmse 0.2961008169572093\n",
      "Convergence after  18  iterations\n",
      "Fold 0 , rmse score: 0.26237278486426535\n",
      "Convergence after  19  iterations\n",
      "Fold 1 , rmse score: 0.5054952072783242\n",
      "Convergence after  17  iterations\n",
      "Fold 2 , rmse score: 0.26362438808601013\n",
      "Convergence after  17  iterations\n",
      "Fold 3 , rmse score: 0.2584085883943698\n",
      "Convergence after  17  iterations\n",
      "Fold 4 , rmse score: 0.26836600321039356\n",
      "mean rmse 0.3116533943666726\n",
      "Convergence after  22  iterations\n",
      "Fold 0 , rmse score: 0.4131500603170792\n",
      "Convergence after  23  iterations\n",
      "Fold 1 , rmse score: 0.4293466093061624\n",
      "Convergence after  22  iterations\n",
      "Fold 2 , rmse score: 0.48642776892516465\n",
      "Convergence after  22  iterations\n",
      "Fold 3 , rmse score: 0.40276201052073135\n",
      "Convergence after  22  iterations\n",
      "Fold 4 , rmse score: 0.41056456379779466\n",
      "mean rmse 0.42845020257338645\n",
      "Convergence after  18  iterations\n",
      "Fold 0 , rmse score: 0.26524468987191585\n",
      "Convergence after  18  iterations\n",
      "Fold 1 , rmse score: 0.25562492111758395\n",
      "Convergence after  18  iterations\n",
      "Fold 2 , rmse score: 0.2656229766267147\n",
      "Convergence after  17  iterations\n",
      "Fold 3 , rmse score: 0.46056880342530604\n",
      "Convergence after  18  iterations\n",
      "Fold 4 , rmse score: 0.27436591573350727\n",
      "mean rmse 0.30428546135500556\n",
      "Convergence after  22  iterations\n",
      "Fold 0 , rmse score: 0.39909718732016425\n",
      "Convergence after  23  iterations\n",
      "Fold 1 , rmse score: 0.42207185088022126\n",
      "Convergence after  21  iterations\n",
      "Fold 2 , rmse score: 0.4001172594510056\n",
      "Convergence after  21  iterations\n",
      "Fold 3 , rmse score: 0.39644269106355734\n",
      "Convergence after  20  iterations\n",
      "Fold 4 , rmse score: 0.5069722748254961\n",
      "mean rmse 0.4249402527080889\n"
     ]
    }
   ],
   "source": [
    "svm_preds1 = get_preds_svm(train_embeddings1,target,test_embeddings1)\n",
    "svm_preds2 = get_preds_svm(train_embeddings2,target,test_embeddings2)\n",
    "svm_preds3 = get_preds_svm(train_embeddings3,target,test_embeddings3)\n",
    "svm_preds4 = get_preds_svm(train_embeddings4,target,test_embeddings4)\n",
    "svm_preds5 = get_preds_svm(train_embeddings5,target,test_embeddings5)"
   ]
  },
  {
   "cell_type": "code",
   "execution_count": 52,
   "id": "intellectual-occasions",
   "metadata": {
    "execution": {
     "iopub.execute_input": "2021-06-27T08:32:11.629206Z",
     "iopub.status.busy": "2021-06-27T08:32:11.628277Z",
     "iopub.status.idle": "2021-06-27T08:32:11.630744Z",
     "shell.execute_reply": "2021-06-27T08:32:11.631137Z",
     "shell.execute_reply.started": "2021-06-27T08:14:57.164382Z"
    },
    "papermill": {
     "duration": 0.34128,
     "end_time": "2021-06-27T08:32:11.631274",
     "exception": false,
     "start_time": "2021-06-27T08:32:11.289994",
     "status": "completed"
    },
    "tags": []
   },
   "outputs": [],
   "source": [
    "svm_preds = (svm_preds1 + svm_preds2 + svm_preds3 + svm_preds4 + svm_preds5)/5 \n",
    "svm_preds_2 = (svm_preds + score_old) /2 "
   ]
  },
  {
   "cell_type": "code",
   "execution_count": 53,
   "id": "voluntary-music",
   "metadata": {
    "execution": {
     "iopub.execute_input": "2021-06-27T08:32:12.303920Z",
     "iopub.status.busy": "2021-06-27T08:32:12.303356Z",
     "iopub.status.idle": "2021-06-27T08:32:12.335284Z",
     "shell.execute_reply": "2021-06-27T08:32:12.334676Z",
     "shell.execute_reply.started": "2021-06-27T08:15:56.857899Z"
    },
    "papermill": {
     "duration": 0.371427,
     "end_time": "2021-06-27T08:32:12.335411",
     "exception": false,
     "start_time": "2021-06-27T08:32:11.963984",
     "status": "completed"
    },
    "tags": []
   },
   "outputs": [],
   "source": [
    "sample.target = svm_preds_2\n",
    "sample.to_csv('submission.csv',index=False)"
   ]
  },
  {
   "cell_type": "code",
   "execution_count": 54,
   "id": "obvious-malaysia",
   "metadata": {
    "execution": {
     "iopub.execute_input": "2021-06-27T08:32:13.012467Z",
     "iopub.status.busy": "2021-06-27T08:32:13.011578Z",
     "iopub.status.idle": "2021-06-27T08:32:13.029706Z",
     "shell.execute_reply": "2021-06-27T08:32:13.029254Z",
     "shell.execute_reply.started": "2021-06-27T08:15:58.026873Z"
    },
    "papermill": {
     "duration": 0.358779,
     "end_time": "2021-06-27T08:32:13.029822",
     "exception": false,
     "start_time": "2021-06-27T08:32:12.671043",
     "status": "completed"
    },
    "tags": []
   },
   "outputs": [
    {
     "data": {
      "text/html": [
       "<div>\n",
       "<style scoped>\n",
       "    .dataframe tbody tr th:only-of-type {\n",
       "        vertical-align: middle;\n",
       "    }\n",
       "\n",
       "    .dataframe tbody tr th {\n",
       "        vertical-align: top;\n",
       "    }\n",
       "\n",
       "    .dataframe thead th {\n",
       "        text-align: right;\n",
       "    }\n",
       "</style>\n",
       "<table border=\"1\" class=\"dataframe\">\n",
       "  <thead>\n",
       "    <tr style=\"text-align: right;\">\n",
       "      <th></th>\n",
       "      <th>id</th>\n",
       "      <th>target</th>\n",
       "    </tr>\n",
       "  </thead>\n",
       "  <tbody>\n",
       "    <tr>\n",
       "      <th>0</th>\n",
       "      <td>c0f722661</td>\n",
       "      <td>-0.559154</td>\n",
       "    </tr>\n",
       "    <tr>\n",
       "      <th>1</th>\n",
       "      <td>f0953f0a5</td>\n",
       "      <td>-0.395689</td>\n",
       "    </tr>\n",
       "    <tr>\n",
       "      <th>2</th>\n",
       "      <td>0df072751</td>\n",
       "      <td>-0.564070</td>\n",
       "    </tr>\n",
       "    <tr>\n",
       "      <th>3</th>\n",
       "      <td>04caf4e0c</td>\n",
       "      <td>-2.178980</td>\n",
       "    </tr>\n",
       "    <tr>\n",
       "      <th>4</th>\n",
       "      <td>0e63f8bea</td>\n",
       "      <td>-1.683834</td>\n",
       "    </tr>\n",
       "    <tr>\n",
       "      <th>5</th>\n",
       "      <td>12537fe78</td>\n",
       "      <td>-1.321595</td>\n",
       "    </tr>\n",
       "    <tr>\n",
       "      <th>6</th>\n",
       "      <td>965e592c0</td>\n",
       "      <td>0.238247</td>\n",
       "    </tr>\n",
       "  </tbody>\n",
       "</table>\n",
       "</div>"
      ],
      "text/plain": [
       "          id    target\n",
       "0  c0f722661 -0.559154\n",
       "1  f0953f0a5 -0.395689\n",
       "2  0df072751 -0.564070\n",
       "3  04caf4e0c -2.178980\n",
       "4  0e63f8bea -1.683834\n",
       "5  12537fe78 -1.321595\n",
       "6  965e592c0  0.238247"
      ]
     },
     "execution_count": 54,
     "metadata": {},
     "output_type": "execute_result"
    }
   ],
   "source": [
    "sample"
   ]
  },
  {
   "cell_type": "markdown",
   "id": "visible-carrier",
   "metadata": {
    "id": "uTU9KEd-GJKT",
    "papermill": {
     "duration": 0.596057,
     "end_time": "2021-06-27T08:32:13.960062",
     "exception": false,
     "start_time": "2021-06-27T08:32:13.364005",
     "status": "completed"
    },
    "tags": []
   },
   "source": [
    "# train & predict"
   ]
  },
  {
   "cell_type": "code",
   "execution_count": null,
   "id": "prerequisite-venture",
   "metadata": {
    "papermill": {
     "duration": 0.379092,
     "end_time": "2021-06-27T08:32:14.761140",
     "exception": false,
     "start_time": "2021-06-27T08:32:14.382048",
     "status": "completed"
    },
    "tags": []
   },
   "outputs": [],
   "source": []
  },
  {
   "cell_type": "raw",
   "id": "partial-darkness",
   "metadata": {
    "execution": {
     "iopub.status.busy": "2021-06-19T09:31:59.847579Z",
     "iopub.status.idle": "2021-06-19T09:31:59.848385Z"
    },
    "id": "LNX0XmiTGJKW",
    "papermill": {
     "duration": 0.381909,
     "end_time": "2021-06-27T08:32:15.513773",
     "exception": false,
     "start_time": "2021-06-27T08:32:15.131864",
     "status": "completed"
    },
    "tags": []
   },
   "source": [
    "# 分布(train_vs_oof)\n",
    "if 'kaggle_web_client' in sys.modules:  # kaggle環境\n",
    "    pass\n",
    "else:\n",
    "    fig, ax = plt.subplots(figsize=(8, 8))\n",
    "    sns.distplot(train_target, label='Train', ax=ax, color='C1')\n",
    "    sns.distplot(oof_preds, label='Out Of Fold', ax=ax, color='C2')\n",
    "    ax.legend()\n",
    "    ax.grid()\n",
    "    plt.savefig(os.path.join(OUTPUT_DIR, 'train_vs_oof.png'))"
   ]
  },
  {
   "cell_type": "raw",
   "id": "phantom-longitude",
   "metadata": {
    "id": "n6Z7nq6YFak4",
    "papermill": {
     "duration": 0.336688,
     "end_time": "2021-06-27T08:32:16.183613",
     "exception": false,
     "start_time": "2021-06-27T08:32:15.846925",
     "status": "completed"
    },
    "tags": []
   },
   "source": []
  }
 ],
 "metadata": {
  "kernelspec": {
   "display_name": "Python 3",
   "language": "python",
   "name": "python3"
  },
  "language_info": {
   "codemirror_mode": {
    "name": "ipython",
    "version": 3
   },
   "file_extension": ".py",
   "mimetype": "text/x-python",
   "name": "python",
   "nbconvert_exporter": "python",
   "pygments_lexer": "ipython3",
   "version": "3.7.10"
  },
  "papermill": {
   "default_parameters": {},
   "duration": 962.226098,
   "end_time": "2021-06-27T08:32:19.928159",
   "environment_variables": {},
   "exception": null,
   "input_path": "__notebook__.ipynb",
   "output_path": "__notebook__.ipynb",
   "parameters": {},
   "start_time": "2021-06-27T08:16:17.702061",
   "version": "2.3.3"
  }
 },
 "nbformat": 4,
 "nbformat_minor": 5
}
