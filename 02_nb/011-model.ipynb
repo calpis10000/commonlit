{
 "cells": [
  {
   "cell_type": "code",
   "execution_count": 1,
   "metadata": {
    "execution": {
     "iopub.execute_input": "2021-05-27T15:19:15.198907Z",
     "iopub.status.busy": "2021-05-27T15:19:15.198170Z",
     "iopub.status.idle": "2021-05-27T15:19:18.887079Z",
     "shell.execute_reply": "2021-05-27T15:19:18.885680Z",
     "shell.execute_reply.started": "2021-05-27T15:15:04.252436Z"
    },
    "papermill": {
     "duration": 3.736731,
     "end_time": "2021-05-27T15:19:18.887346",
     "exception": false,
     "start_time": "2021-05-27T15:19:15.150615",
     "status": "completed"
    },
    "tags": []
   },
   "outputs": [
    {
     "data": {
      "text/html": [
       "<style type='text/css'>\n",
       ".datatable table.frame { margin-bottom: 0; }\n",
       ".datatable table.frame thead { border-bottom: none; }\n",
       ".datatable table.frame tr.coltypes td {  color: #FFFFFF;  line-height: 6px;  padding: 0 0.5em;}\n",
       ".datatable .bool    { background: #DDDD99; }\n",
       ".datatable .object  { background: #565656; }\n",
       ".datatable .int     { background: #5D9E5D; }\n",
       ".datatable .float   { background: #4040CC; }\n",
       ".datatable .str     { background: #CC4040; }\n",
       ".datatable .row_index {  background: var(--jp-border-color3);  border-right: 1px solid var(--jp-border-color0);  color: var(--jp-ui-font-color3);  font-size: 9px;}\n",
       ".datatable .frame tr.coltypes .row_index {  background: var(--jp-border-color0);}\n",
       ".datatable th:nth-child(2) { padding-left: 12px; }\n",
       ".datatable .hellipsis {  color: var(--jp-cell-editor-border-color);}\n",
       ".datatable .vellipsis {  background: var(--jp-layout-color0);  color: var(--jp-cell-editor-border-color);}\n",
       ".datatable .na {  color: var(--jp-cell-editor-border-color);  font-size: 80%;}\n",
       ".datatable .footer { font-size: 9px; }\n",
       ".datatable .frame_dimensions {  background: var(--jp-border-color3);  border-top: 1px solid var(--jp-border-color0);  color: var(--jp-ui-font-color3);  display: inline-block;  opacity: 0.6;  padding: 1px 10px 1px 5px;}\n",
       "</style>\n"
      ],
      "text/plain": [
       "<IPython.core.display.HTML object>"
      ]
     },
     "metadata": {},
     "output_type": "display_data"
    }
   ],
   "source": [
    "# basic\n",
    "import os\n",
    "import gc\n",
    "import sys\n",
    "import yaml\n",
    "import warnings\n",
    "import random\n",
    "from pathlib import Path\n",
    "from glob import glob\n",
    "from tqdm import tqdm_notebook as tqdm\n",
    "import hashlib\n",
    "import pickle\n",
    "warnings.filterwarnings('ignore')\n",
    "\n",
    "# usual\n",
    "import numpy as np\n",
    "import pandas as pd\n",
    "from datetime import datetime\n",
    "from datetime import timedelta\n",
    "\n",
    "# preprocess\n",
    "from fasttext import load_model\n",
    "from sklearn.feature_extraction.text import TfidfVectorizer\n",
    "from sklearn.decomposition import TruncatedSVD\n",
    "from sklearn.pipeline import Pipeline\n",
    "#import texthero as hero\n",
    "import nltk\n",
    "import collections\n",
    "from gensim.models import word2vec, KeyedVectors\n",
    "import cv2\n",
    "import string\n",
    "import re\n",
    "import fasttext\n",
    "\n",
    "# LightGBM\n",
    "import lightgbm as lgb\n",
    "#import optuna.integration.lightgbm as lgb  # チューニング用\n",
    "\n",
    "# visualization\n",
    "import matplotlib.pyplot as plt\n",
    "import matplotlib.dates as mdates\n",
    "import seaborn as sns\n",
    "from pandas_profiling import ProfileReport  # profile report を作る用\n",
    "\n",
    "# preprocessing\n",
    "from sklearn.preprocessing import LabelEncoder\n",
    "\n",
    "# plot settings\n",
    "plt.rcParams[\"patch.force_edgecolor\"] = False\n",
    "plt.rcParams['font.family'] = 'sans_serif'\n",
    "sns.set(style=\"whitegrid\",  palette=\"muted\", color_codes=True, rc={'grid.linestyle': '--'})\n",
    "red = sns.xkcd_rgb[\"light red\"]\n",
    "green = sns.xkcd_rgb[\"medium green\"]\n",
    "blue = sns.xkcd_rgb[\"denim blue\"]\n",
    "\n",
    "# plot extentions\n",
    "#import japanize_matplotlib\n",
    "from matplotlib_venn import venn2\n",
    "\n",
    "from tqdm import tqdm\n",
    "tqdm.pandas()"
   ]
  },
  {
   "cell_type": "code",
   "execution_count": 2,
   "metadata": {
    "execution": {
     "iopub.execute_input": "2021-05-27T15:19:18.968500Z",
     "iopub.status.busy": "2021-05-27T15:19:18.967472Z",
     "iopub.status.idle": "2021-05-27T15:19:18.978930Z",
     "shell.execute_reply": "2021-05-27T15:19:18.979442Z",
     "shell.execute_reply.started": "2021-05-27T15:15:04.389990Z"
    },
    "papermill": {
     "duration": 0.050764,
     "end_time": "2021-05-27T15:19:18.979692",
     "exception": false,
     "start_time": "2021-05-27T15:19:18.928928",
     "status": "completed"
    },
    "tags": []
   },
   "outputs": [
    {
     "name": "stdout",
     "output_type": "stream",
     "text": [
      "nb011\n",
      "nb011_20210527_151918\n"
     ]
    }
   ],
   "source": [
    "# 試験ID生成\n",
    "trial_prefix = 'nb011'  # ←手動で指定 \n",
    "dttm_now = datetime.now().strftime('%Y%m%d_%H%M%S')\n",
    "trial_id = f'{trial_prefix}_{dttm_now}'\n",
    "\n",
    "print(trial_prefix)\n",
    "print(trial_id)"
   ]
  },
  {
   "cell_type": "code",
   "execution_count": 3,
   "metadata": {
    "execution": {
     "iopub.execute_input": "2021-05-27T15:19:19.050065Z",
     "iopub.status.busy": "2021-05-27T15:19:19.049007Z",
     "iopub.status.idle": "2021-05-27T15:19:19.054247Z",
     "shell.execute_reply": "2021-05-27T15:19:19.054709Z",
     "shell.execute_reply.started": "2021-05-27T15:15:04.580001Z"
    },
    "papermill": {
     "duration": 0.04265,
     "end_time": "2021-05-27T15:19:19.054930",
     "exception": false,
     "start_time": "2021-05-27T15:19:19.012280",
     "status": "completed"
    },
    "tags": []
   },
   "outputs": [],
   "source": [
    "# アウトプットの出力先指定\n",
    "if 'kaggle_web_client' in sys.modules:  # kaggle環境\n",
    "    OUTPUT_DIR = Path(\".\")\n",
    "else:\n",
    "    OUTPUT_DIR = Path(f\"../03_outputs/{trial_prefix}\")\n",
    "    OUTPUT_DIR.mkdir(exist_ok=True, parents=True)"
   ]
  },
  {
   "cell_type": "code",
   "execution_count": 4,
   "metadata": {
    "execution": {
     "iopub.execute_input": "2021-05-27T15:19:19.124512Z",
     "iopub.status.busy": "2021-05-27T15:19:19.123437Z",
     "iopub.status.idle": "2021-05-27T15:19:19.128806Z",
     "shell.execute_reply": "2021-05-27T15:19:19.129314Z",
     "shell.execute_reply.started": "2021-05-27T15:15:04.761230Z"
    },
    "papermill": {
     "duration": 0.041815,
     "end_time": "2021-05-27T15:19:19.129521",
     "exception": false,
     "start_time": "2021-05-27T15:19:19.087706",
     "status": "completed"
    },
    "tags": []
   },
   "outputs": [],
   "source": [
    "# seed固定\n",
    "def set_seed(seed=2021):\n",
    "    random.seed(seed)\n",
    "    np.random.seed(seed)\n",
    "    os.environ[\"PYTHONHASHSEED\"] = str(seed)\n",
    "\n",
    "SEED = 2021\n",
    "set_seed(SEED)"
   ]
  },
  {
   "cell_type": "code",
   "execution_count": 5,
   "metadata": {
    "execution": {
     "iopub.execute_input": "2021-05-27T15:19:19.199198Z",
     "iopub.status.busy": "2021-05-27T15:19:19.198151Z",
     "iopub.status.idle": "2021-05-27T15:19:19.202835Z",
     "shell.execute_reply": "2021-05-27T15:19:19.203358Z",
     "shell.execute_reply.started": "2021-05-27T15:15:04.943657Z"
    },
    "papermill": {
     "duration": 0.041252,
     "end_time": "2021-05-27T15:19:19.203562",
     "exception": false,
     "start_time": "2021-05-27T15:19:19.162310",
     "status": "completed"
    },
    "tags": []
   },
   "outputs": [],
   "source": [
    "# インプットフォルダ指定\n",
    "if 'kaggle_web_client' in sys.modules:  # kaggle環境\n",
    "    DATA_DIR = '../input/commonlitreadabilityprize/'\n",
    "else:\n",
    "    DATA_DIR = '../00_input/commonlitreadabilityprize/'"
   ]
  },
  {
   "cell_type": "code",
   "execution_count": 6,
   "metadata": {
    "execution": {
     "iopub.execute_input": "2021-05-27T15:19:19.273069Z",
     "iopub.status.busy": "2021-05-27T15:19:19.272034Z",
     "iopub.status.idle": "2021-05-27T15:19:19.417972Z",
     "shell.execute_reply": "2021-05-27T15:19:19.417294Z",
     "shell.execute_reply.started": "2021-05-27T15:15:05.125634Z"
    },
    "papermill": {
     "duration": 0.181814,
     "end_time": "2021-05-27T15:19:19.418150",
     "exception": false,
     "start_time": "2021-05-27T15:19:19.236336",
     "status": "completed"
    },
    "tags": []
   },
   "outputs": [],
   "source": [
    "# read_data\n",
    "train_base = pd.read_csv(DATA_DIR + 'train.csv')\n",
    "test_base = pd.read_csv(DATA_DIR + 'test.csv')\n",
    "sample = pd.read_csv(DATA_DIR + 'sample_submission.csv')"
   ]
  },
  {
   "cell_type": "markdown",
   "metadata": {
    "papermill": {
     "duration": 0.031923,
     "end_time": "2021-05-27T15:19:19.482585",
     "exception": false,
     "start_time": "2021-05-27T15:19:19.450662",
     "status": "completed"
    },
    "tags": []
   },
   "source": [
    "## 特徴作成_共通処理"
   ]
  },
  {
   "cell_type": "code",
   "execution_count": 7,
   "metadata": {
    "execution": {
     "iopub.execute_input": "2021-05-27T15:19:19.553860Z",
     "iopub.status.busy": "2021-05-27T15:19:19.553115Z",
     "iopub.status.idle": "2021-05-27T15:19:19.556163Z",
     "shell.execute_reply": "2021-05-27T15:19:19.555515Z",
     "shell.execute_reply.started": "2021-05-27T15:15:05.516140Z"
    },
    "papermill": {
     "duration": 0.041345,
     "end_time": "2021-05-27T15:19:19.556313",
     "exception": false,
     "start_time": "2021-05-27T15:19:19.514968",
     "status": "completed"
    },
    "tags": []
   },
   "outputs": [],
   "source": [
    "# ベースとなる継承元のクラス\n",
    "class BaseBlock(object):\n",
    "    def fit(self, input_df, y=None):\n",
    "        return self.transform(input_df)\n",
    "    def transform(self, input_df):\n",
    "        raise NotImplementedError()"
   ]
  },
  {
   "cell_type": "markdown",
   "metadata": {
    "papermill": {
     "duration": 0.032163,
     "end_time": "2021-05-27T15:19:19.621458",
     "exception": false,
     "start_time": "2021-05-27T15:19:19.589295",
     "status": "completed"
    },
    "tags": []
   },
   "source": [
    "## テキスト特徴_共通処理"
   ]
  },
  {
   "cell_type": "code",
   "execution_count": 8,
   "metadata": {
    "execution": {
     "iopub.execute_input": "2021-05-27T15:19:19.692613Z",
     "iopub.status.busy": "2021-05-27T15:19:19.691933Z",
     "iopub.status.idle": "2021-05-27T15:19:19.694849Z",
     "shell.execute_reply": "2021-05-27T15:19:19.695295Z",
     "shell.execute_reply.started": "2021-05-27T15:15:05.888881Z"
    },
    "papermill": {
     "duration": 0.041288,
     "end_time": "2021-05-27T15:19:19.695646",
     "exception": false,
     "start_time": "2021-05-27T15:19:19.654358",
     "status": "completed"
    },
    "tags": []
   },
   "outputs": [],
   "source": [
    "# ローカルの場合、stopwordsをダウンロード\n",
    "import nltk\n",
    "if 'kaggle_web_client' in sys.modules:  # kaggle環境\n",
    "    pass\n",
    "else:\n",
    "    import nltk\n",
    "    nltk.download('stopwords')\n",
    "    os.listdir(os.path.expanduser('~/nltk_data/corpora/stopwords/'))"
   ]
  },
  {
   "cell_type": "code",
   "execution_count": 9,
   "metadata": {
    "execution": {
     "iopub.execute_input": "2021-05-27T15:19:19.771164Z",
     "iopub.status.busy": "2021-05-27T15:19:19.770437Z",
     "iopub.status.idle": "2021-05-27T15:19:19.781183Z",
     "shell.execute_reply": "2021-05-27T15:19:19.781714Z",
     "shell.execute_reply.started": "2021-05-27T15:15:06.112840Z"
    },
    "papermill": {
     "duration": 0.053998,
     "end_time": "2021-05-27T15:19:19.781925",
     "exception": false,
     "start_time": "2021-05-27T15:19:19.727927",
     "status": "completed"
    },
    "tags": []
   },
   "outputs": [],
   "source": [
    "# テキスト前処理\n",
    "# https://www.kaggle.com/alaasedeeq/commonlit-readability-eda\n",
    "\n",
    "#filtering the unwanted symbols, spaces, ....etc\n",
    "to_replace_by_space = re.compile('[/(){}\\[\\]|@,;]')\n",
    "punctuation = re.compile(f'([{string.punctuation}“”¨«»®´·º½¾¿¡§£₤‘’])')\n",
    "bad_symbols = re.compile('[^0-9a-z #+_]')\n",
    "stopwords = set(nltk.corpus.stopwords.words('english'))\n",
    "\n",
    "def text_prepare(text):\n",
    "    '''\n",
    "    text: a string\n",
    "    returna modified version of the string\n",
    "    '''\n",
    "    text = text.lower() # lowercase text\n",
    "    text = re.sub(punctuation, '',text)\n",
    "    text = re.sub(to_replace_by_space, \" \", text) # replace REPLACE_BY_SPACE_RE symbols by space in text\n",
    "    text = re.sub(bad_symbols, \"\", text)         # delete symbols which are in BAD_SYMBOLS_RE from text\n",
    "    text = \" \".join([word for word in text.split(\" \") if word not in stopwords]) # delete stopwords from text\n",
    "    text = re.sub(' +', ' ', text)\n",
    "    return text\n"
   ]
  },
  {
   "cell_type": "code",
   "execution_count": 10,
   "metadata": {
    "execution": {
     "iopub.execute_input": "2021-05-27T15:19:19.854533Z",
     "iopub.status.busy": "2021-05-27T15:19:19.853854Z",
     "iopub.status.idle": "2021-05-27T15:19:19.857404Z",
     "shell.execute_reply": "2021-05-27T15:19:19.856728Z",
     "shell.execute_reply.started": "2021-05-27T15:15:06.438934Z"
    },
    "papermill": {
     "duration": 0.04322,
     "end_time": "2021-05-27T15:19:19.857566",
     "exception": false,
     "start_time": "2021-05-27T15:19:19.814346",
     "status": "completed"
    },
    "tags": []
   },
   "outputs": [],
   "source": [
    "def text_normalization(s:pd.Series):\n",
    "    x = s.apply(text_prepare)\n",
    "    return x\n",
    "\n",
    "# Counterオブジェクトを取得\n",
    "def get_counter(text:str):\n",
    "    text_list = [wrd for wrd in text.split(\" \") if wrd not in ('', '\\n')]\n",
    "    counter = collections.Counter(text_list)\n",
    "    return counter"
   ]
  },
  {
   "cell_type": "markdown",
   "metadata": {
    "papermill": {
     "duration": 0.032152,
     "end_time": "2021-05-27T15:19:19.922574",
     "exception": false,
     "start_time": "2021-05-27T15:19:19.890422",
     "status": "completed"
    },
    "tags": []
   },
   "source": [
    "## テキスト特徴_fasttest"
   ]
  },
  {
   "cell_type": "code",
   "execution_count": 11,
   "metadata": {
    "execution": {
     "iopub.execute_input": "2021-05-27T15:20:25.959715Z",
     "iopub.status.busy": "2021-05-27T15:20:25.881194Z",
     "iopub.status.idle": "2021-05-27T15:20:25.966064Z",
     "shell.execute_reply": "2021-05-27T15:20:25.960550Z",
     "shell.execute_reply.started": "2021-05-27T15:15:07.089466Z"
    },
    "papermill": {
     "duration": 66.011916,
     "end_time": "2021-05-27T15:20:25.967247",
     "exception": false,
     "start_time": "2021-05-27T15:19:19.955331",
     "status": "completed"
    },
    "tags": []
   },
   "outputs": [
    {
     "name": "stderr",
     "output_type": "stream",
     "text": [
      "Warning : `load_model` does not return WordVectorModel or SupervisedModel any more, but a `FastText` object which is very similar.\n"
     ]
    }
   ],
   "source": [
    "if 'kaggle_web_client' in sys.modules:  # kaggle環境\n",
    "    ft_model = fasttext.load_model('../input/fasttext-pretrained-crawl-vector-en-bin/cc.en.300.bin')\n",
    "else:\n",
    "    ft_model = fasttext.load_model('../97_pre_trained/cc.en.300.bin')"
   ]
  },
  {
   "cell_type": "code",
   "execution_count": 12,
   "metadata": {
    "execution": {
     "iopub.execute_input": "2021-05-27T15:20:26.103512Z",
     "iopub.status.busy": "2021-05-27T15:20:26.102397Z",
     "iopub.status.idle": "2021-05-27T15:20:26.106621Z",
     "shell.execute_reply": "2021-05-27T15:20:26.105968Z",
     "shell.execute_reply.started": "2021-05-27T15:16:04.776824Z"
    },
    "papermill": {
     "duration": 0.0724,
     "end_time": "2021-05-27T15:20:26.106789",
     "exception": false,
     "start_time": "2021-05-27T15:20:26.034389",
     "status": "completed"
    },
    "tags": []
   },
   "outputs": [],
   "source": [
    "# 参考: https://zenn.dev/koukyo1994/articles/9b1da2482d8ba1\n",
    "class FasttextBlock(BaseBlock):\n",
    "    \"\"\"文書をfasttextのテキスト表現へ変換する block\"\"\"\n",
    "    def __init__(self, column: str, ft_model:fasttext.FastText._FastText):\n",
    "        \"\"\"\n",
    "        args:\n",
    "            column: str\n",
    "                変換対象のカラム名\n",
    "        \"\"\"\n",
    "        self.column = column\n",
    "        self.ft_model = ft_model\n",
    "\n",
    "    # 前処理\n",
    "    def preprocess(self, input_df):\n",
    "        x = text_normalization(input_df[self.column])\n",
    "        return x\n",
    "        \n",
    "    def fit(self, input_df, y=None):\n",
    "        return self.transform(input_df)\n",
    "\n",
    "    def transform(self, input_df):\n",
    "        text = self.preprocess(input_df)\n",
    "        feat = text.map(lambda x: ft_model.get_sentence_vector(x))\n",
    "        out_df = pd.DataFrame(np.stack(feat.values))\n",
    "\n",
    "        return out_df.add_prefix(f'fasttext_{self.column}_')"
   ]
  },
  {
   "cell_type": "markdown",
   "metadata": {
    "papermill": {
     "duration": 0.103178,
     "end_time": "2021-05-27T15:20:26.264872",
     "exception": false,
     "start_time": "2021-05-27T15:20:26.161694",
     "status": "completed"
    },
    "tags": []
   },
   "source": [
    "## テキスト特徴_統計量"
   ]
  },
  {
   "cell_type": "code",
   "execution_count": 13,
   "metadata": {
    "execution": {
     "iopub.execute_input": "2021-05-27T15:20:26.414410Z",
     "iopub.status.busy": "2021-05-27T15:20:26.407975Z",
     "iopub.status.idle": "2021-05-27T15:20:26.417737Z",
     "shell.execute_reply": "2021-05-27T15:20:26.418512Z",
     "shell.execute_reply.started": "2021-05-27T15:16:04.799559Z"
    },
    "papermill": {
     "duration": 0.080371,
     "end_time": "2021-05-27T15:20:26.418912",
     "exception": false,
     "start_time": "2021-05-27T15:20:26.338541",
     "status": "completed"
    },
    "tags": []
   },
   "outputs": [],
   "source": [
    "class TextDescriptionBlock(BaseBlock):\n",
    "    \"\"\"テキストに関する統計量を返す block\"\"\"\n",
    "    def __init__(self, column: str):\n",
    "        \"\"\"\n",
    "        args:\n",
    "            column: str\n",
    "                変換対象のカラム名\n",
    "        \"\"\"\n",
    "        self.column = column\n",
    "\n",
    "    # 前処理\n",
    "    def preprocess(self, input_df):\n",
    "        x = text_normalization(input_df[self.column])\n",
    "        return x\n",
    "        \n",
    "    def fit(self, input_df, y=None, n_components=50):\n",
    "        self.text = self.preprocess(input_df)\n",
    "        self.counters = self.text.map(get_counter)\n",
    "        return self.transform(input_df)\n",
    "\n",
    "    def transform(self, input_df):\n",
    "        _length = input_df[self.column].fillna('').map(lambda x: len(x) if x!='' else np.nan)\n",
    "        _wrd_cnt = self.counters.map(lambda x: sum(x.values()))\n",
    "        _wrd_nuniq = self.counters.map(lambda x: len(x))\n",
    "        _wrd_mean = self.counters.map(lambda x: np.mean(list(x.values())))\n",
    "        _wrd_max = self.counters.map(lambda x: np.max(list(x.values())))\n",
    "        \n",
    "        word_length = self.counters.map(lambda x: np.array([len(i) for i in x.keys()]))\n",
    "        word_length_desc = word_length.map(lambda x: pd.Series(x.ravel()).describe())\n",
    "        _word_length_desc_df = pd.DataFrame(word_length_desc.tolist()).iloc[:,1:]\n",
    "        _word_length_desc_df = _word_length_desc_df.add_prefix('word_length_')\n",
    "        \n",
    "        out_df = pd.concat([_length, _wrd_cnt, _wrd_nuniq, _wrd_mean, _wrd_max], axis=1)\n",
    "        out_df.columns = ['text_length', 'word_count', 'word_nunique', 'word_appearance_mean', 'word_appearance_max']\n",
    "        out_df = pd.concat([out_df, _word_length_desc_df], axis=1)\n",
    "        return out_df.add_suffix(f'_{self.column}')"
   ]
  },
  {
   "cell_type": "markdown",
   "metadata": {
    "papermill": {
     "duration": 0.043368,
     "end_time": "2021-05-27T15:20:26.502019",
     "exception": false,
     "start_time": "2021-05-27T15:20:26.458651",
     "status": "completed"
    },
    "tags": []
   },
   "source": [
    "## テキスト特徴_TF-IDF"
   ]
  },
  {
   "cell_type": "code",
   "execution_count": 14,
   "metadata": {
    "execution": {
     "iopub.execute_input": "2021-05-27T15:20:26.586971Z",
     "iopub.status.busy": "2021-05-27T15:20:26.580872Z",
     "iopub.status.idle": "2021-05-27T15:20:26.594428Z",
     "shell.execute_reply": "2021-05-27T15:20:26.595022Z",
     "shell.execute_reply.started": "2021-05-27T15:16:04.828559Z"
    },
    "papermill": {
     "duration": 0.053678,
     "end_time": "2021-05-27T15:20:26.595230",
     "exception": false,
     "start_time": "2021-05-27T15:20:26.541552",
     "status": "completed"
    },
    "tags": []
   },
   "outputs": [],
   "source": [
    "# 参考: https://www.guruguru.science/competitions/16/discussions/556029f7-484d-40d4-ad6a-9d86337487e2/\n",
    "\n",
    "class TfidfBlock(BaseBlock):\n",
    "    \"\"\"tfidf x SVD による圧縮を行なう block\"\"\"\n",
    "    def __init__(self, column: str, n_components=50, ngram_range=(1,1)):\n",
    "        \"\"\"\n",
    "        args:\n",
    "            column: str\n",
    "                変換対象のカラム名\n",
    "        \"\"\"\n",
    "        self.column = column\n",
    "        self.n_components=n_components\n",
    "        self.ngram_range=ngram_range\n",
    "\n",
    "    def preprocess(self, input_df):\n",
    "        x = text_normalization(input_df[self.column])\n",
    "        return x\n",
    "\n",
    "    def get_master(self, _master_df):\n",
    "        \"\"\"tdidfを計算するための全体集合を返す.\"\"\"\n",
    "        return _master_df\n",
    "\n",
    "    def fit(self, \n",
    "            input_df, \n",
    "            _master_df=None, \n",
    "            y=None\n",
    "           ):\n",
    "        master_df = input_df if _master_df is None else self.get_master(_master_df)\n",
    "        text = self.preprocess(master_df)\n",
    "        self.pileline_ = Pipeline([\n",
    "            ('tfidf', TfidfVectorizer(max_features=100000, ngram_range=self.ngram_range)),\n",
    "            ('svd', TruncatedSVD(n_components=self.n_components, random_state=SEED)),\n",
    "        ])\n",
    "\n",
    "        self.pileline_.fit(text)\n",
    "        return self.transform(input_df)\n",
    "\n",
    "    def transform(self, input_df):\n",
    "        text = self.preprocess(input_df)\n",
    "        z = self.pileline_.transform(text)\n",
    "\n",
    "        out_df = pd.DataFrame(z)\n",
    "        return out_df.add_prefix(f'{self.column}_tfidf_{\"_\".join([str(i) for i in self.ngram_range])}_')\n"
   ]
  },
  {
   "cell_type": "markdown",
   "metadata": {
    "papermill": {
     "duration": 0.048176,
     "end_time": "2021-05-27T15:20:26.712917",
     "exception": false,
     "start_time": "2021-05-27T15:20:26.664741",
     "status": "completed"
    },
    "tags": []
   },
   "source": [
    "## テキスト特徴_W2V(データセットから学習)"
   ]
  },
  {
   "cell_type": "code",
   "execution_count": 15,
   "metadata": {
    "execution": {
     "iopub.execute_input": "2021-05-27T15:20:26.822216Z",
     "iopub.status.busy": "2021-05-27T15:20:26.815876Z",
     "iopub.status.idle": "2021-05-27T15:20:26.824662Z",
     "shell.execute_reply": "2021-05-27T15:20:26.825440Z",
     "shell.execute_reply.started": "2021-05-27T15:16:04.859483Z"
    },
    "papermill": {
     "duration": 0.070922,
     "end_time": "2021-05-27T15:20:26.825708",
     "exception": false,
     "start_time": "2021-05-27T15:20:26.754786",
     "status": "completed"
    },
    "tags": []
   },
   "outputs": [],
   "source": [
    "# https://www.guruguru.science/competitions/16/discussions/2fafef06-5a26-4d33-b535-a94cc9549ac4/\n",
    "# https://www.guruguru.science/competitions/16/discussions/4a6f5f84-8491-4324-ba69-dec49dc648cd/\n",
    "\n",
    "def hashfxn(x):\n",
    "    return int(hashlib.md5(str(x).encode()).hexdigest(), 16)\n",
    "\n",
    "class W2VTrainBlock(BaseBlock):\n",
    "    \"\"\"Word2Vecを学習し、文書のベクトル表現を得るブロック。\n",
    "       学習済みモデルを使うパターンは、別に作成するものとする。\"\"\"\n",
    "    def __init__(self, \n",
    "                 column: str, \n",
    "                 model_size=50, \n",
    "                 min_count=1, \n",
    "                 window=5,\n",
    "                 n_iter=100\n",
    "                 ):\n",
    "        \"\"\"\n",
    "        args:\n",
    "            column: str\n",
    "                変換対象のカラム名\n",
    "        \"\"\"\n",
    "        self.column = column\n",
    "        self.model_size=model_size\n",
    "        self.min_count=min_count\n",
    "        self.window=window\n",
    "        self.n_iter=n_iter\n",
    "\n",
    "    def preprocess(self, input_df):\n",
    "        x = text_normalization(input_df[self.column])\n",
    "        return x\n",
    "\n",
    "    def get_master(self, _master_df):\n",
    "        \"\"\"Word2Vecを学習するための全体集合を返す.\"\"\"\n",
    "        return _master_df\n",
    "\n",
    "    def fit(self, \n",
    "            input_df, \n",
    "            _master_df=None\n",
    "           ):\n",
    "        master_df = input_df if _master_df is None else self.get_master(_master_df)\n",
    "        text = self.preprocess(master_df)\n",
    "        word_lists = text.map(lambda x: [i for i in x.split(' ') if i not in (' ')])\n",
    "        self.w2v_model = word2vec.Word2Vec(word_lists.values.tolist(),\n",
    "                                      vector_size=self.model_size,\n",
    "                                      min_count=self.min_count,\n",
    "                                      window=self.window,\n",
    "                                      seed=SEED,\n",
    "                                      workers=1,\n",
    "                                      hashfxn=hashfxn,\n",
    "                                      epochs=self.n_iter)\n",
    "\n",
    "        return self.transform(input_df)\n",
    "\n",
    "    def transform(self, input_df):\n",
    "        text = self.preprocess(input_df)\n",
    "        word_lists = text.map(lambda x: [i for i in x.split(' ') if i not in (' ')])\n",
    "\n",
    "        # 各文章ごとにそれぞれの単語をベクトル表現に直し、平均をとって文章ベクトルにする\n",
    "        sentence_vectors = word_lists.progress_apply(\n",
    "            lambda x: np.mean([self.w2v_model.wv[e] for e in x], axis=0))\n",
    "        sentence_vectors = np.vstack([x for x in sentence_vectors])\n",
    "        sentence_vector_df = pd.DataFrame(sentence_vectors,\n",
    "                                          columns=[f\"{self.column}_w2v_w{self.window}_{i}\"\n",
    "                                                   for i in range(self.model_size)])\n",
    "        \n",
    "        return sentence_vector_df\n"
   ]
  },
  {
   "cell_type": "markdown",
   "metadata": {
    "papermill": {
     "duration": 0.054983,
     "end_time": "2021-05-27T15:20:26.921862",
     "exception": false,
     "start_time": "2021-05-27T15:20:26.866879",
     "status": "completed"
    },
    "tags": []
   },
   "source": [
    "# make_feat"
   ]
  },
  {
   "cell_type": "code",
   "execution_count": 16,
   "metadata": {
    "execution": {
     "iopub.execute_input": "2021-05-27T15:20:27.076269Z",
     "iopub.status.busy": "2021-05-27T15:20:27.075240Z",
     "iopub.status.idle": "2021-05-27T15:20:27.136926Z",
     "shell.execute_reply": "2021-05-27T15:20:27.135907Z",
     "shell.execute_reply.started": "2021-05-27T15:16:04.888591Z"
    },
    "papermill": {
     "duration": 0.138899,
     "end_time": "2021-05-27T15:20:27.137110",
     "exception": false,
     "start_time": "2021-05-27T15:20:26.998211",
     "status": "completed"
    },
    "tags": []
   },
   "outputs": [],
   "source": [
    "# 初期化\n",
    "train_feat = pd.DataFrame()\n",
    "test_feat = pd.DataFrame()\n",
    "train_target = train_base['target'].copy()\n",
    "\n",
    "# tfidf作成用のdf作成\n",
    "whole_df = pd.concat([train_base[['id', 'excerpt']], test_base[['id', 'excerpt']]], axis='rows')"
   ]
  },
  {
   "cell_type": "code",
   "execution_count": 17,
   "metadata": {
    "execution": {
     "iopub.execute_input": "2021-05-27T15:20:27.227507Z",
     "iopub.status.busy": "2021-05-27T15:20:27.226813Z",
     "iopub.status.idle": "2021-05-27T15:20:27.229407Z",
     "shell.execute_reply": "2021-05-27T15:20:27.230941Z",
     "shell.execute_reply.started": "2021-05-27T15:16:04.953024Z"
    },
    "papermill": {
     "duration": 0.054244,
     "end_time": "2021-05-27T15:20:27.231323",
     "exception": false,
     "start_time": "2021-05-27T15:20:27.177079",
     "status": "completed"
    },
    "tags": []
   },
   "outputs": [],
   "source": [
    "# block初期化\n",
    "text_desc = TextDescriptionBlock('excerpt')\n",
    "\n",
    "tfidf_uni = TfidfBlock('excerpt', ngram_range=(1,1))\n",
    "tfidf_bi = TfidfBlock('excerpt', ngram_range=(2,2))\n",
    "tfidf_uni_bi = TfidfBlock('excerpt', ngram_range=(1,2))\n",
    "\n",
    "w2v_w3 = W2VTrainBlock('excerpt', window=3)\n",
    "w2v_w10 = W2VTrainBlock('excerpt', window=10)\n",
    "w2v_w100 = W2VTrainBlock('excerpt', window=100)\n",
    "\n",
    "fast = FasttextBlock('excerpt', ft_model)"
   ]
  },
  {
   "cell_type": "code",
   "execution_count": 18,
   "metadata": {
    "execution": {
     "iopub.execute_input": "2021-05-27T15:20:27.318158Z",
     "iopub.status.busy": "2021-05-27T15:20:27.317224Z",
     "iopub.status.idle": "2021-05-27T15:26:29.424893Z",
     "shell.execute_reply": "2021-05-27T15:26:29.425438Z"
    },
    "papermill": {
     "duration": 362.153733,
     "end_time": "2021-05-27T15:26:29.425783",
     "exception": false,
     "start_time": "2021-05-27T15:20:27.272050",
     "status": "completed"
    },
    "tags": []
   },
   "outputs": [
    {
     "name": "stderr",
     "output_type": "stream",
     "text": [
      "100%|██████████| 2834/2834 [00:00<00:00, 3290.58it/s]\n",
      "100%|██████████| 2834/2834 [00:00<00:00, 3064.62it/s]\n",
      "100%|██████████| 2834/2834 [00:00<00:00, 3317.52it/s]\n"
     ]
    }
   ],
   "source": [
    "# fit & trainの特徴作成\n",
    "# 単体で完結するもの\n",
    "train_feat = pd.concat([train_feat, text_desc.fit(train_base)], axis='columns')\n",
    "train_feat = pd.concat([train_feat, fast.fit(train_base)], axis='columns')\n",
    "\n",
    "# 対象dfとは別に、特徴作成用dfを指定するもの\n",
    "train_feat = pd.concat([train_feat, tfidf_uni.fit(train_base, whole_df)], axis='columns')\n",
    "train_feat = pd.concat([train_feat, tfidf_bi.fit(train_base, whole_df)], axis='columns')\n",
    "train_feat = pd.concat([train_feat, tfidf_uni_bi.fit(train_base, whole_df)], axis='columns')\n",
    "\n",
    "train_feat = pd.concat([train_feat, w2v_w3.fit(train_base, whole_df)], axis='columns')\n",
    "train_feat = pd.concat([train_feat, w2v_w10.fit(train_base, whole_df)], axis='columns')\n",
    "train_feat = pd.concat([train_feat, w2v_w100.fit(train_base, whole_df)], axis='columns')"
   ]
  },
  {
   "cell_type": "code",
   "execution_count": 19,
   "metadata": {
    "execution": {
     "iopub.execute_input": "2021-05-27T15:26:29.539240Z",
     "iopub.status.busy": "2021-05-27T15:26:29.520372Z",
     "iopub.status.idle": "2021-05-27T15:26:29.683687Z",
     "shell.execute_reply": "2021-05-27T15:26:29.683069Z"
    },
    "papermill": {
     "duration": 0.215075,
     "end_time": "2021-05-27T15:26:29.683855",
     "exception": false,
     "start_time": "2021-05-27T15:26:29.468780",
     "status": "completed"
    },
    "tags": []
   },
   "outputs": [
    {
     "name": "stderr",
     "output_type": "stream",
     "text": [
      "100%|██████████| 7/7 [00:00<00:00, 1472.50it/s]\n",
      "100%|██████████| 7/7 [00:00<00:00, 1282.94it/s]\n",
      "100%|██████████| 7/7 [00:00<00:00, 1517.55it/s]\n"
     ]
    }
   ],
   "source": [
    "# testの特徴作成\n",
    "# 単体で完結するもの\n",
    "test_feat = pd.concat([test_feat, text_desc.fit(test_base)], axis='columns')\n",
    "test_feat = pd.concat([test_feat, fast.fit(test_base)], axis='columns')\n",
    "\n",
    "# 対象dfとは別に、特徴作成用dfを指定するもの\n",
    "test_feat = pd.concat([test_feat, tfidf_uni.transform(test_base)], axis='columns')\n",
    "test_feat = pd.concat([test_feat, tfidf_bi.transform(test_base)], axis='columns')\n",
    "test_feat = pd.concat([test_feat, tfidf_uni_bi.transform(test_base)], axis='columns')\n",
    "\n",
    "test_feat = pd.concat([test_feat, w2v_w3.transform(test_base)], axis='columns')\n",
    "test_feat = pd.concat([test_feat, w2v_w10.transform(test_base)], axis='columns')\n",
    "test_feat = pd.concat([test_feat, w2v_w100.transform(test_base)], axis='columns')"
   ]
  },
  {
   "cell_type": "code",
   "execution_count": 20,
   "metadata": {
    "execution": {
     "iopub.execute_input": "2021-05-27T15:26:29.782996Z",
     "iopub.status.busy": "2021-05-27T15:26:29.781327Z",
     "iopub.status.idle": "2021-05-27T15:26:29.819081Z",
     "shell.execute_reply": "2021-05-27T15:26:29.819628Z"
    },
    "papermill": {
     "duration": 0.091405,
     "end_time": "2021-05-27T15:26:29.819837",
     "exception": false,
     "start_time": "2021-05-27T15:26:29.728432",
     "status": "completed"
    },
    "tags": []
   },
   "outputs": [
    {
     "name": "stdout",
     "output_type": "stream",
     "text": [
      "(2834, 612)\n"
     ]
    },
    {
     "data": {
      "text/html": [
       "<div>\n",
       "<style scoped>\n",
       "    .dataframe tbody tr th:only-of-type {\n",
       "        vertical-align: middle;\n",
       "    }\n",
       "\n",
       "    .dataframe tbody tr th {\n",
       "        vertical-align: top;\n",
       "    }\n",
       "\n",
       "    .dataframe thead th {\n",
       "        text-align: right;\n",
       "    }\n",
       "</style>\n",
       "<table border=\"1\" class=\"dataframe\">\n",
       "  <thead>\n",
       "    <tr style=\"text-align: right;\">\n",
       "      <th></th>\n",
       "      <th>text_length_excerpt</th>\n",
       "      <th>word_count_excerpt</th>\n",
       "      <th>word_nunique_excerpt</th>\n",
       "      <th>word_appearance_mean_excerpt</th>\n",
       "      <th>word_appearance_max_excerpt</th>\n",
       "      <th>word_length_mean_excerpt</th>\n",
       "      <th>word_length_std_excerpt</th>\n",
       "      <th>word_length_min_excerpt</th>\n",
       "      <th>word_length_25%_excerpt</th>\n",
       "      <th>word_length_50%_excerpt</th>\n",
       "      <th>...</th>\n",
       "      <th>excerpt_w2v_w100_40</th>\n",
       "      <th>excerpt_w2v_w100_41</th>\n",
       "      <th>excerpt_w2v_w100_42</th>\n",
       "      <th>excerpt_w2v_w100_43</th>\n",
       "      <th>excerpt_w2v_w100_44</th>\n",
       "      <th>excerpt_w2v_w100_45</th>\n",
       "      <th>excerpt_w2v_w100_46</th>\n",
       "      <th>excerpt_w2v_w100_47</th>\n",
       "      <th>excerpt_w2v_w100_48</th>\n",
       "      <th>excerpt_w2v_w100_49</th>\n",
       "    </tr>\n",
       "  </thead>\n",
       "  <tbody>\n",
       "    <tr>\n",
       "      <th>0</th>\n",
       "      <td>992</td>\n",
       "      <td>89</td>\n",
       "      <td>76</td>\n",
       "      <td>1.171053</td>\n",
       "      <td>4</td>\n",
       "      <td>6.381579</td>\n",
       "      <td>2.039393</td>\n",
       "      <td>3.0</td>\n",
       "      <td>5.0</td>\n",
       "      <td>6.0</td>\n",
       "      <td>...</td>\n",
       "      <td>-0.213633</td>\n",
       "      <td>-0.947954</td>\n",
       "      <td>-0.244628</td>\n",
       "      <td>-0.613770</td>\n",
       "      <td>0.520466</td>\n",
       "      <td>2.124578</td>\n",
       "      <td>-0.821619</td>\n",
       "      <td>-1.668452</td>\n",
       "      <td>-0.654921</td>\n",
       "      <td>-1.473546</td>\n",
       "    </tr>\n",
       "    <tr>\n",
       "      <th>1</th>\n",
       "      <td>937</td>\n",
       "      <td>85</td>\n",
       "      <td>75</td>\n",
       "      <td>1.133333</td>\n",
       "      <td>4</td>\n",
       "      <td>5.786667</td>\n",
       "      <td>2.225730</td>\n",
       "      <td>2.0</td>\n",
       "      <td>4.0</td>\n",
       "      <td>5.0</td>\n",
       "      <td>...</td>\n",
       "      <td>-0.793883</td>\n",
       "      <td>0.260095</td>\n",
       "      <td>-1.413045</td>\n",
       "      <td>0.590218</td>\n",
       "      <td>-1.222832</td>\n",
       "      <td>-1.022302</td>\n",
       "      <td>-0.105953</td>\n",
       "      <td>-1.523520</td>\n",
       "      <td>-1.115514</td>\n",
       "      <td>0.190240</td>\n",
       "    </tr>\n",
       "    <tr>\n",
       "      <th>2</th>\n",
       "      <td>908</td>\n",
       "      <td>83</td>\n",
       "      <td>74</td>\n",
       "      <td>1.121622</td>\n",
       "      <td>4</td>\n",
       "      <td>5.716216</td>\n",
       "      <td>2.205350</td>\n",
       "      <td>2.0</td>\n",
       "      <td>4.0</td>\n",
       "      <td>5.0</td>\n",
       "      <td>...</td>\n",
       "      <td>-1.807194</td>\n",
       "      <td>0.675470</td>\n",
       "      <td>0.137883</td>\n",
       "      <td>-0.413545</td>\n",
       "      <td>0.579564</td>\n",
       "      <td>-0.950784</td>\n",
       "      <td>1.383236</td>\n",
       "      <td>-0.144618</td>\n",
       "      <td>-1.624159</td>\n",
       "      <td>-0.667663</td>\n",
       "    </tr>\n",
       "    <tr>\n",
       "      <th>3</th>\n",
       "      <td>909</td>\n",
       "      <td>91</td>\n",
       "      <td>82</td>\n",
       "      <td>1.109756</td>\n",
       "      <td>2</td>\n",
       "      <td>5.548780</td>\n",
       "      <td>1.873483</td>\n",
       "      <td>3.0</td>\n",
       "      <td>4.0</td>\n",
       "      <td>5.0</td>\n",
       "      <td>...</td>\n",
       "      <td>0.437882</td>\n",
       "      <td>-1.889003</td>\n",
       "      <td>0.573963</td>\n",
       "      <td>-1.710328</td>\n",
       "      <td>-1.170265</td>\n",
       "      <td>1.027497</td>\n",
       "      <td>-1.043768</td>\n",
       "      <td>-0.553191</td>\n",
       "      <td>-0.675997</td>\n",
       "      <td>-0.337335</td>\n",
       "    </tr>\n",
       "    <tr>\n",
       "      <th>4</th>\n",
       "      <td>723</td>\n",
       "      <td>70</td>\n",
       "      <td>23</td>\n",
       "      <td>3.043478</td>\n",
       "      <td>12</td>\n",
       "      <td>4.956522</td>\n",
       "      <td>1.918291</td>\n",
       "      <td>3.0</td>\n",
       "      <td>4.0</td>\n",
       "      <td>5.0</td>\n",
       "      <td>...</td>\n",
       "      <td>-2.336066</td>\n",
       "      <td>-2.360359</td>\n",
       "      <td>-1.315974</td>\n",
       "      <td>-0.577261</td>\n",
       "      <td>-1.873832</td>\n",
       "      <td>-1.388939</td>\n",
       "      <td>0.218790</td>\n",
       "      <td>-2.945844</td>\n",
       "      <td>2.635510</td>\n",
       "      <td>-0.457167</td>\n",
       "    </tr>\n",
       "  </tbody>\n",
       "</table>\n",
       "<p>5 rows × 612 columns</p>\n",
       "</div>"
      ],
      "text/plain": [
       "   text_length_excerpt  word_count_excerpt  word_nunique_excerpt  \\\n",
       "0                  992                  89                    76   \n",
       "1                  937                  85                    75   \n",
       "2                  908                  83                    74   \n",
       "3                  909                  91                    82   \n",
       "4                  723                  70                    23   \n",
       "\n",
       "   word_appearance_mean_excerpt  word_appearance_max_excerpt  \\\n",
       "0                      1.171053                            4   \n",
       "1                      1.133333                            4   \n",
       "2                      1.121622                            4   \n",
       "3                      1.109756                            2   \n",
       "4                      3.043478                           12   \n",
       "\n",
       "   word_length_mean_excerpt  word_length_std_excerpt  word_length_min_excerpt  \\\n",
       "0                  6.381579                 2.039393                      3.0   \n",
       "1                  5.786667                 2.225730                      2.0   \n",
       "2                  5.716216                 2.205350                      2.0   \n",
       "3                  5.548780                 1.873483                      3.0   \n",
       "4                  4.956522                 1.918291                      3.0   \n",
       "\n",
       "   word_length_25%_excerpt  word_length_50%_excerpt  ...  excerpt_w2v_w100_40  \\\n",
       "0                      5.0                      6.0  ...            -0.213633   \n",
       "1                      4.0                      5.0  ...            -0.793883   \n",
       "2                      4.0                      5.0  ...            -1.807194   \n",
       "3                      4.0                      5.0  ...             0.437882   \n",
       "4                      4.0                      5.0  ...            -2.336066   \n",
       "\n",
       "   excerpt_w2v_w100_41  excerpt_w2v_w100_42  excerpt_w2v_w100_43  \\\n",
       "0            -0.947954            -0.244628            -0.613770   \n",
       "1             0.260095            -1.413045             0.590218   \n",
       "2             0.675470             0.137883            -0.413545   \n",
       "3            -1.889003             0.573963            -1.710328   \n",
       "4            -2.360359            -1.315974            -0.577261   \n",
       "\n",
       "   excerpt_w2v_w100_44  excerpt_w2v_w100_45  excerpt_w2v_w100_46  \\\n",
       "0             0.520466             2.124578            -0.821619   \n",
       "1            -1.222832            -1.022302            -0.105953   \n",
       "2             0.579564            -0.950784             1.383236   \n",
       "3            -1.170265             1.027497            -1.043768   \n",
       "4            -1.873832            -1.388939             0.218790   \n",
       "\n",
       "   excerpt_w2v_w100_47  excerpt_w2v_w100_48  excerpt_w2v_w100_49  \n",
       "0            -1.668452            -0.654921            -1.473546  \n",
       "1            -1.523520            -1.115514             0.190240  \n",
       "2            -0.144618            -1.624159            -0.667663  \n",
       "3            -0.553191            -0.675997            -0.337335  \n",
       "4            -2.945844             2.635510            -0.457167  \n",
       "\n",
       "[5 rows x 612 columns]"
      ]
     },
     "execution_count": 20,
     "metadata": {},
     "output_type": "execute_result"
    }
   ],
   "source": [
    "print(train_feat.shape)\n",
    "train_feat.head()"
   ]
  },
  {
   "cell_type": "code",
   "execution_count": 21,
   "metadata": {
    "execution": {
     "iopub.execute_input": "2021-05-27T15:26:29.927852Z",
     "iopub.status.busy": "2021-05-27T15:26:29.919099Z",
     "iopub.status.idle": "2021-05-27T15:26:29.951865Z",
     "shell.execute_reply": "2021-05-27T15:26:29.951275Z"
    },
    "papermill": {
     "duration": 0.085097,
     "end_time": "2021-05-27T15:26:29.952020",
     "exception": false,
     "start_time": "2021-05-27T15:26:29.866923",
     "status": "completed"
    },
    "tags": []
   },
   "outputs": [
    {
     "name": "stdout",
     "output_type": "stream",
     "text": [
      "(7, 612)\n"
     ]
    },
    {
     "data": {
      "text/html": [
       "<div>\n",
       "<style scoped>\n",
       "    .dataframe tbody tr th:only-of-type {\n",
       "        vertical-align: middle;\n",
       "    }\n",
       "\n",
       "    .dataframe tbody tr th {\n",
       "        vertical-align: top;\n",
       "    }\n",
       "\n",
       "    .dataframe thead th {\n",
       "        text-align: right;\n",
       "    }\n",
       "</style>\n",
       "<table border=\"1\" class=\"dataframe\">\n",
       "  <thead>\n",
       "    <tr style=\"text-align: right;\">\n",
       "      <th></th>\n",
       "      <th>text_length_excerpt</th>\n",
       "      <th>word_count_excerpt</th>\n",
       "      <th>word_nunique_excerpt</th>\n",
       "      <th>word_appearance_mean_excerpt</th>\n",
       "      <th>word_appearance_max_excerpt</th>\n",
       "      <th>word_length_mean_excerpt</th>\n",
       "      <th>word_length_std_excerpt</th>\n",
       "      <th>word_length_min_excerpt</th>\n",
       "      <th>word_length_25%_excerpt</th>\n",
       "      <th>word_length_50%_excerpt</th>\n",
       "      <th>...</th>\n",
       "      <th>excerpt_w2v_w100_40</th>\n",
       "      <th>excerpt_w2v_w100_41</th>\n",
       "      <th>excerpt_w2v_w100_42</th>\n",
       "      <th>excerpt_w2v_w100_43</th>\n",
       "      <th>excerpt_w2v_w100_44</th>\n",
       "      <th>excerpt_w2v_w100_45</th>\n",
       "      <th>excerpt_w2v_w100_46</th>\n",
       "      <th>excerpt_w2v_w100_47</th>\n",
       "      <th>excerpt_w2v_w100_48</th>\n",
       "      <th>excerpt_w2v_w100_49</th>\n",
       "    </tr>\n",
       "  </thead>\n",
       "  <tbody>\n",
       "    <tr>\n",
       "      <th>0</th>\n",
       "      <td>772</td>\n",
       "      <td>72</td>\n",
       "      <td>65</td>\n",
       "      <td>1.107692</td>\n",
       "      <td>3</td>\n",
       "      <td>5.892308</td>\n",
       "      <td>1.668861</td>\n",
       "      <td>2.0</td>\n",
       "      <td>5.0</td>\n",
       "      <td>6.0</td>\n",
       "      <td>...</td>\n",
       "      <td>-0.183172</td>\n",
       "      <td>1.297339</td>\n",
       "      <td>1.132513</td>\n",
       "      <td>-0.526277</td>\n",
       "      <td>1.118075</td>\n",
       "      <td>-0.255076</td>\n",
       "      <td>0.272906</td>\n",
       "      <td>-0.035040</td>\n",
       "      <td>-1.063254</td>\n",
       "      <td>-2.417068</td>\n",
       "    </tr>\n",
       "    <tr>\n",
       "      <th>1</th>\n",
       "      <td>967</td>\n",
       "      <td>94</td>\n",
       "      <td>72</td>\n",
       "      <td>1.305556</td>\n",
       "      <td>4</td>\n",
       "      <td>5.347222</td>\n",
       "      <td>1.785384</td>\n",
       "      <td>2.0</td>\n",
       "      <td>4.0</td>\n",
       "      <td>5.0</td>\n",
       "      <td>...</td>\n",
       "      <td>-0.496733</td>\n",
       "      <td>-0.455593</td>\n",
       "      <td>-1.485470</td>\n",
       "      <td>-0.837052</td>\n",
       "      <td>-0.883535</td>\n",
       "      <td>-0.024641</td>\n",
       "      <td>0.163358</td>\n",
       "      <td>-0.891837</td>\n",
       "      <td>-1.216260</td>\n",
       "      <td>2.078953</td>\n",
       "    </tr>\n",
       "    <tr>\n",
       "      <th>2</th>\n",
       "      <td>948</td>\n",
       "      <td>86</td>\n",
       "      <td>79</td>\n",
       "      <td>1.088608</td>\n",
       "      <td>2</td>\n",
       "      <td>5.721519</td>\n",
       "      <td>2.159871</td>\n",
       "      <td>2.0</td>\n",
       "      <td>4.0</td>\n",
       "      <td>6.0</td>\n",
       "      <td>...</td>\n",
       "      <td>-1.926693</td>\n",
       "      <td>0.117187</td>\n",
       "      <td>-0.579405</td>\n",
       "      <td>-0.652059</td>\n",
       "      <td>-1.887502</td>\n",
       "      <td>0.345656</td>\n",
       "      <td>0.388834</td>\n",
       "      <td>-0.362857</td>\n",
       "      <td>-0.598526</td>\n",
       "      <td>-1.015412</td>\n",
       "    </tr>\n",
       "    <tr>\n",
       "      <th>3</th>\n",
       "      <td>1144</td>\n",
       "      <td>112</td>\n",
       "      <td>73</td>\n",
       "      <td>1.534247</td>\n",
       "      <td>11</td>\n",
       "      <td>7.164384</td>\n",
       "      <td>2.309483</td>\n",
       "      <td>3.0</td>\n",
       "      <td>6.0</td>\n",
       "      <td>7.0</td>\n",
       "      <td>...</td>\n",
       "      <td>-1.879465</td>\n",
       "      <td>-0.045375</td>\n",
       "      <td>-0.217526</td>\n",
       "      <td>-1.757380</td>\n",
       "      <td>-0.799438</td>\n",
       "      <td>-1.972985</td>\n",
       "      <td>-0.570748</td>\n",
       "      <td>2.863896</td>\n",
       "      <td>-0.743020</td>\n",
       "      <td>-0.260218</td>\n",
       "    </tr>\n",
       "    <tr>\n",
       "      <th>4</th>\n",
       "      <td>1094</td>\n",
       "      <td>103</td>\n",
       "      <td>88</td>\n",
       "      <td>1.170455</td>\n",
       "      <td>7</td>\n",
       "      <td>6.931818</td>\n",
       "      <td>2.372231</td>\n",
       "      <td>2.0</td>\n",
       "      <td>5.0</td>\n",
       "      <td>7.0</td>\n",
       "      <td>...</td>\n",
       "      <td>1.393699</td>\n",
       "      <td>0.256351</td>\n",
       "      <td>-0.942764</td>\n",
       "      <td>2.979254</td>\n",
       "      <td>-0.810327</td>\n",
       "      <td>-0.875838</td>\n",
       "      <td>1.664090</td>\n",
       "      <td>0.792979</td>\n",
       "      <td>1.004389</td>\n",
       "      <td>1.064592</td>\n",
       "    </tr>\n",
       "  </tbody>\n",
       "</table>\n",
       "<p>5 rows × 612 columns</p>\n",
       "</div>"
      ],
      "text/plain": [
       "   text_length_excerpt  word_count_excerpt  word_nunique_excerpt  \\\n",
       "0                  772                  72                    65   \n",
       "1                  967                  94                    72   \n",
       "2                  948                  86                    79   \n",
       "3                 1144                 112                    73   \n",
       "4                 1094                 103                    88   \n",
       "\n",
       "   word_appearance_mean_excerpt  word_appearance_max_excerpt  \\\n",
       "0                      1.107692                            3   \n",
       "1                      1.305556                            4   \n",
       "2                      1.088608                            2   \n",
       "3                      1.534247                           11   \n",
       "4                      1.170455                            7   \n",
       "\n",
       "   word_length_mean_excerpt  word_length_std_excerpt  word_length_min_excerpt  \\\n",
       "0                  5.892308                 1.668861                      2.0   \n",
       "1                  5.347222                 1.785384                      2.0   \n",
       "2                  5.721519                 2.159871                      2.0   \n",
       "3                  7.164384                 2.309483                      3.0   \n",
       "4                  6.931818                 2.372231                      2.0   \n",
       "\n",
       "   word_length_25%_excerpt  word_length_50%_excerpt  ...  excerpt_w2v_w100_40  \\\n",
       "0                      5.0                      6.0  ...            -0.183172   \n",
       "1                      4.0                      5.0  ...            -0.496733   \n",
       "2                      4.0                      6.0  ...            -1.926693   \n",
       "3                      6.0                      7.0  ...            -1.879465   \n",
       "4                      5.0                      7.0  ...             1.393699   \n",
       "\n",
       "   excerpt_w2v_w100_41  excerpt_w2v_w100_42  excerpt_w2v_w100_43  \\\n",
       "0             1.297339             1.132513            -0.526277   \n",
       "1            -0.455593            -1.485470            -0.837052   \n",
       "2             0.117187            -0.579405            -0.652059   \n",
       "3            -0.045375            -0.217526            -1.757380   \n",
       "4             0.256351            -0.942764             2.979254   \n",
       "\n",
       "   excerpt_w2v_w100_44  excerpt_w2v_w100_45  excerpt_w2v_w100_46  \\\n",
       "0             1.118075            -0.255076             0.272906   \n",
       "1            -0.883535            -0.024641             0.163358   \n",
       "2            -1.887502             0.345656             0.388834   \n",
       "3            -0.799438            -1.972985            -0.570748   \n",
       "4            -0.810327            -0.875838             1.664090   \n",
       "\n",
       "   excerpt_w2v_w100_47  excerpt_w2v_w100_48  excerpt_w2v_w100_49  \n",
       "0            -0.035040            -1.063254            -2.417068  \n",
       "1            -0.891837            -1.216260             2.078953  \n",
       "2            -0.362857            -0.598526            -1.015412  \n",
       "3             2.863896            -0.743020            -0.260218  \n",
       "4             0.792979             1.004389             1.064592  \n",
       "\n",
       "[5 rows x 612 columns]"
      ]
     },
     "execution_count": 21,
     "metadata": {},
     "output_type": "execute_result"
    }
   ],
   "source": [
    "print(test_feat.shape)\n",
    "test_feat.head()"
   ]
  },
  {
   "cell_type": "code",
   "execution_count": 22,
   "metadata": {
    "execution": {
     "iopub.execute_input": "2021-05-27T15:26:30.054290Z",
     "iopub.status.busy": "2021-05-27T15:26:30.053375Z",
     "iopub.status.idle": "2021-05-27T15:26:30.057727Z",
     "shell.execute_reply": "2021-05-27T15:26:30.058635Z"
    },
    "papermill": {
     "duration": 0.058768,
     "end_time": "2021-05-27T15:26:30.058981",
     "exception": false,
     "start_time": "2021-05-27T15:26:30.000213",
     "status": "completed"
    },
    "tags": []
   },
   "outputs": [
    {
     "name": "stdout",
     "output_type": "stream",
     "text": [
      "(2834, 612)\n",
      "(7, 612)\n"
     ]
    }
   ],
   "source": [
    "print(train_feat.shape)\n",
    "print(test_feat.shape)"
   ]
  },
  {
   "cell_type": "markdown",
   "metadata": {
    "papermill": {
     "duration": 0.047515,
     "end_time": "2021-05-27T15:26:30.155624",
     "exception": false,
     "start_time": "2021-05-27T15:26:30.108109",
     "status": "completed"
    },
    "tags": []
   },
   "source": [
    "# train & predict"
   ]
  },
  {
   "cell_type": "code",
   "execution_count": 23,
   "metadata": {
    "execution": {
     "iopub.execute_input": "2021-05-27T15:26:30.258808Z",
     "iopub.status.busy": "2021-05-27T15:26:30.257750Z",
     "iopub.status.idle": "2021-05-27T15:26:30.260810Z",
     "shell.execute_reply": "2021-05-27T15:26:30.261293Z"
    },
    "papermill": {
     "duration": 0.058037,
     "end_time": "2021-05-27T15:26:30.261489",
     "exception": false,
     "start_time": "2021-05-27T15:26:30.203452",
     "status": "completed"
    },
    "tags": []
   },
   "outputs": [],
   "source": [
    "from sklearn.model_selection import KFold\n",
    "\n",
    "def kfold_cv(X, y, n_splits=5, random_state=0):\n",
    "    folds = KFold(n_splits=n_splits, random_state=0, shuffle=True)\n",
    "    return list(folds.split(X, y))"
   ]
  },
  {
   "cell_type": "code",
   "execution_count": 24,
   "metadata": {
    "execution": {
     "iopub.execute_input": "2021-05-27T15:26:30.363615Z",
     "iopub.status.busy": "2021-05-27T15:26:30.362796Z",
     "iopub.status.idle": "2021-05-27T15:26:30.367542Z",
     "shell.execute_reply": "2021-05-27T15:26:30.367001Z"
    },
    "papermill": {
     "duration": 0.057981,
     "end_time": "2021-05-27T15:26:30.367691",
     "exception": false,
     "start_time": "2021-05-27T15:26:30.309710",
     "status": "completed"
    },
    "tags": []
   },
   "outputs": [],
   "source": [
    "target = 'target'\n",
    "cv = kfold_cv(train_feat, train_target)"
   ]
  },
  {
   "cell_type": "code",
   "execution_count": 25,
   "metadata": {
    "execution": {
     "iopub.execute_input": "2021-05-27T15:26:30.471569Z",
     "iopub.status.busy": "2021-05-27T15:26:30.470679Z",
     "iopub.status.idle": "2021-05-27T15:26:30.473458Z",
     "shell.execute_reply": "2021-05-27T15:26:30.474002Z"
    },
    "papermill": {
     "duration": 0.058104,
     "end_time": "2021-05-27T15:26:30.474195",
     "exception": false,
     "start_time": "2021-05-27T15:26:30.416091",
     "status": "completed"
    },
    "tags": []
   },
   "outputs": [],
   "source": [
    "params = {\n",
    "    'objective': 'regression',\n",
    "    'metrics': 'rmse',\n",
    "    'seed': SEED\n",
    "}"
   ]
  },
  {
   "cell_type": "code",
   "execution_count": 26,
   "metadata": {
    "execution": {
     "iopub.execute_input": "2021-05-27T15:26:30.578282Z",
     "iopub.status.busy": "2021-05-27T15:26:30.577316Z",
     "iopub.status.idle": "2021-05-27T15:26:30.580457Z",
     "shell.execute_reply": "2021-05-27T15:26:30.579822Z"
    },
    "papermill": {
     "duration": 0.057427,
     "end_time": "2021-05-27T15:26:30.580607",
     "exception": false,
     "start_time": "2021-05-27T15:26:30.523180",
     "status": "completed"
    },
    "tags": []
   },
   "outputs": [],
   "source": [
    "from sklearn.metrics import mean_squared_error, mean_squared_log_error"
   ]
  },
  {
   "cell_type": "code",
   "execution_count": 27,
   "metadata": {
    "execution": {
     "iopub.execute_input": "2021-05-27T15:26:30.692999Z",
     "iopub.status.busy": "2021-05-27T15:26:30.692224Z",
     "iopub.status.idle": "2021-05-27T15:27:05.399533Z",
     "shell.execute_reply": "2021-05-27T15:27:05.400108Z"
    },
    "papermill": {
     "duration": 34.770833,
     "end_time": "2021-05-27T15:27:05.400332",
     "exception": false,
     "start_time": "2021-05-27T15:26:30.629499",
     "status": "completed"
    },
    "scrolled": true,
    "tags": []
   },
   "outputs": [
    {
     "name": "stdout",
     "output_type": "stream",
     "text": [
      "\n",
      "Fold 1\n",
      "[LightGBM] [Warning] Auto-choosing col-wise multi-threading, the overhead of testing was 0.016287 seconds.\n",
      "You can set `force_col_wise=true` to remove the overhead.\n",
      "[LightGBM] [Info] Total Bins 154228\n",
      "[LightGBM] [Info] Number of data points in the train set: 2267, number of used features: 612\n",
      "[LightGBM] [Info] Start training from score -0.961023\n",
      "Training until validation scores don't improve for 20 rounds\n",
      "[50]\ttraining's rmse: 0.272766\tvalid's rmse: 0.66615\n",
      "[100]\ttraining's rmse: 0.116925\tvalid's rmse: 0.661202\n",
      "Early stopping, best iteration is:\n",
      "[129]\ttraining's rmse: 0.07384\tvalid's rmse: 0.659882\n",
      "\n",
      "Fold 2\n",
      "[LightGBM] [Warning] Auto-choosing col-wise multi-threading, the overhead of testing was 0.016922 seconds.\n",
      "You can set `force_col_wise=true` to remove the overhead.\n",
      "[LightGBM] [Info] Total Bins 154229\n",
      "[LightGBM] [Info] Number of data points in the train set: 2267, number of used features: 612\n",
      "[LightGBM] [Info] Start training from score -0.946950\n",
      "Training until validation scores don't improve for 20 rounds\n",
      "[50]\ttraining's rmse: 0.267061\tvalid's rmse: 0.692673\n",
      "[100]\ttraining's rmse: 0.115502\tvalid's rmse: 0.687698\n",
      "[150]\ttraining's rmse: 0.053358\tvalid's rmse: 0.685712\n",
      "[200]\ttraining's rmse: 0.0267254\tvalid's rmse: 0.685307\n",
      "Early stopping, best iteration is:\n",
      "[180]\ttraining's rmse: 0.0346614\tvalid's rmse: 0.684986\n",
      "\n",
      "Fold 3\n",
      "[LightGBM] [Warning] Auto-choosing col-wise multi-threading, the overhead of testing was 0.017152 seconds.\n",
      "You can set `force_col_wise=true` to remove the overhead.\n",
      "[LightGBM] [Info] Total Bins 154232\n",
      "[LightGBM] [Info] Number of data points in the train set: 2267, number of used features: 612\n",
      "[LightGBM] [Info] Start training from score -0.970257\n",
      "Training until validation scores don't improve for 20 rounds\n",
      "[50]\ttraining's rmse: 0.270469\tvalid's rmse: 0.674035\n",
      "[100]\ttraining's rmse: 0.11498\tvalid's rmse: 0.664954\n",
      "Early stopping, best iteration is:\n",
      "[88]\ttraining's rmse: 0.139984\tvalid's rmse: 0.664152\n",
      "\n",
      "Fold 4\n",
      "[LightGBM] [Warning] Auto-choosing col-wise multi-threading, the overhead of testing was 0.016451 seconds.\n",
      "You can set `force_col_wise=true` to remove the overhead.\n",
      "[LightGBM] [Info] Total Bins 154232\n",
      "[LightGBM] [Info] Number of data points in the train set: 2267, number of used features: 612\n",
      "[LightGBM] [Info] Start training from score -0.954341\n",
      "Training until validation scores don't improve for 20 rounds\n",
      "[50]\ttraining's rmse: 0.267699\tvalid's rmse: 0.656286\n",
      "[100]\ttraining's rmse: 0.114453\tvalid's rmse: 0.651839\n",
      "[150]\ttraining's rmse: 0.0527647\tvalid's rmse: 0.651818\n",
      "Early stopping, best iteration is:\n",
      "[131]\ttraining's rmse: 0.0702726\tvalid's rmse: 0.651208\n",
      "\n",
      "Fold 5\n",
      "[LightGBM] [Warning] Auto-choosing col-wise multi-threading, the overhead of testing was 0.016152 seconds.\n",
      "You can set `force_col_wise=true` to remove the overhead.\n",
      "[LightGBM] [Info] Total Bins 154229\n",
      "[LightGBM] [Info] Number of data points in the train set: 2268, number of used features: 612\n",
      "[LightGBM] [Info] Start training from score -0.964019\n",
      "Training until validation scores don't improve for 20 rounds\n",
      "[50]\ttraining's rmse: 0.270156\tvalid's rmse: 0.647815\n",
      "[100]\ttraining's rmse: 0.116712\tvalid's rmse: 0.63934\n",
      "[150]\ttraining's rmse: 0.0536532\tvalid's rmse: 0.636549\n",
      "Early stopping, best iteration is:\n",
      "[135]\ttraining's rmse: 0.0672559\tvalid's rmse: 0.636032\n",
      "Mean RMSE: 0.6592520401987416, std: 0.016065579181271022, All RMSE: 0.6594558825363138\n"
     ]
    }
   ],
   "source": [
    "oof_preds = np.zeros(len(train_feat))\n",
    "test_preds = np.zeros(len(test_feat))\n",
    "\n",
    "importances = pd.DataFrame()\n",
    "scores = []\n",
    "models = []\n",
    "\n",
    "for i, (train_index, valid_index) in enumerate(cv):\n",
    "    print(f'\\nFold {i + 1}')\n",
    "    trn_x, trn_y = train_feat.iloc[train_index], train_target.iloc[train_index]\n",
    "    val_x, val_y = train_feat.iloc[valid_index], train_target.iloc[valid_index]\n",
    "    \n",
    "    #dtrain = lgb.Dataset(trn_x, trn_y, categorical_feature = ['LE_' + val_ for val_ in le_categories])\n",
    "    #dvalid = lgb.Dataset(val_x, val_y, categorical_feature = ['LE_' + val_ for val_ in le_categories])\n",
    "\n",
    "    dtrain = lgb.Dataset(trn_x, trn_y)\n",
    "    dvalid = lgb.Dataset(val_x, val_y)\n",
    "\n",
    "    model = lgb.train(\n",
    "        params,\n",
    "        train_set=dtrain,\n",
    "        num_boost_round=100000,\n",
    "        valid_sets=[dtrain, dvalid],\n",
    "        valid_names=['training', 'valid'],\n",
    "        early_stopping_rounds=20,\n",
    "        verbose_eval=50\n",
    "    )\n",
    "    \n",
    "    val_preds = model.predict(val_x)\n",
    "    oof_preds[valid_index] = val_preds\n",
    "    test_preds += model.predict(test_feat) / 5\n",
    "    \n",
    "    val_score = model.best_score['valid']['rmse']\n",
    "    scores.append(val_score)\n",
    "    models.append(model)\n",
    "    \n",
    "    imp_df = pd.DataFrame({\n",
    "        'feature': model.feature_name(),\n",
    "        'gain': model.feature_importance(importance_type='gain'),\n",
    "        'fold': i+1\n",
    "    })\n",
    "    \n",
    "    importances = pd.concat([importances, imp_df], axis=0)\n",
    "    \n",
    "mean_score = np.mean(scores)\n",
    "std_score  = np.std(scores)\n",
    "all_score  = np.sqrt(mean_squared_error(train_target, oof_preds))\n",
    "metrics_name = 'RMSE'\n",
    "print(f'Mean {metrics_name}: {mean_score}, std: {std_score}, All {metrics_name}: {all_score}')"
   ]
  },
  {
   "cell_type": "code",
   "execution_count": 28,
   "metadata": {
    "execution": {
     "iopub.execute_input": "2021-05-27T15:27:05.520679Z",
     "iopub.status.busy": "2021-05-27T15:27:05.519981Z",
     "iopub.status.idle": "2021-05-27T15:27:05.528122Z",
     "shell.execute_reply": "2021-05-27T15:27:05.527503Z"
    },
    "papermill": {
     "duration": 0.070617,
     "end_time": "2021-05-27T15:27:05.528274",
     "exception": false,
     "start_time": "2021-05-27T15:27:05.457657",
     "status": "completed"
    },
    "tags": []
   },
   "outputs": [],
   "source": [
    "sample['target'] = test_preds\n",
    "\n",
    "if 'kaggle_web_client' in sys.modules:  # kaggle環境\n",
    "    sample.to_csv('submission.csv',index=False)\n",
    "else:\n",
    "    sample.to_csv(OUTPUT_DIR/'submission.csv',index=False)"
   ]
  },
  {
   "cell_type": "code",
   "execution_count": 29,
   "metadata": {
    "execution": {
     "iopub.execute_input": "2021-05-27T15:27:05.650363Z",
     "iopub.status.busy": "2021-05-27T15:27:05.647843Z",
     "iopub.status.idle": "2021-05-27T15:27:05.656265Z",
     "shell.execute_reply": "2021-05-27T15:27:05.656691Z"
    },
    "papermill": {
     "duration": 0.072739,
     "end_time": "2021-05-27T15:27:05.656914",
     "exception": false,
     "start_time": "2021-05-27T15:27:05.584175",
     "status": "completed"
    },
    "tags": []
   },
   "outputs": [
    {
     "name": "stdout",
     "output_type": "stream",
     "text": [
      "(7, 2)\n"
     ]
    },
    {
     "data": {
      "text/html": [
       "<div>\n",
       "<style scoped>\n",
       "    .dataframe tbody tr th:only-of-type {\n",
       "        vertical-align: middle;\n",
       "    }\n",
       "\n",
       "    .dataframe tbody tr th {\n",
       "        vertical-align: top;\n",
       "    }\n",
       "\n",
       "    .dataframe thead th {\n",
       "        text-align: right;\n",
       "    }\n",
       "</style>\n",
       "<table border=\"1\" class=\"dataframe\">\n",
       "  <thead>\n",
       "    <tr style=\"text-align: right;\">\n",
       "      <th></th>\n",
       "      <th>id</th>\n",
       "      <th>target</th>\n",
       "    </tr>\n",
       "  </thead>\n",
       "  <tbody>\n",
       "    <tr>\n",
       "      <th>0</th>\n",
       "      <td>c0f722661</td>\n",
       "      <td>-1.347990</td>\n",
       "    </tr>\n",
       "    <tr>\n",
       "      <th>1</th>\n",
       "      <td>f0953f0a5</td>\n",
       "      <td>-0.481429</td>\n",
       "    </tr>\n",
       "    <tr>\n",
       "      <th>2</th>\n",
       "      <td>0df072751</td>\n",
       "      <td>-0.756566</td>\n",
       "    </tr>\n",
       "    <tr>\n",
       "      <th>3</th>\n",
       "      <td>04caf4e0c</td>\n",
       "      <td>-2.138527</td>\n",
       "    </tr>\n",
       "    <tr>\n",
       "      <th>4</th>\n",
       "      <td>0e63f8bea</td>\n",
       "      <td>-1.975919</td>\n",
       "    </tr>\n",
       "  </tbody>\n",
       "</table>\n",
       "</div>"
      ],
      "text/plain": [
       "          id    target\n",
       "0  c0f722661 -1.347990\n",
       "1  f0953f0a5 -0.481429\n",
       "2  0df072751 -0.756566\n",
       "3  04caf4e0c -2.138527\n",
       "4  0e63f8bea -1.975919"
      ]
     },
     "execution_count": 29,
     "metadata": {},
     "output_type": "execute_result"
    }
   ],
   "source": [
    "print(sample.shape)\n",
    "sample.head()"
   ]
  },
  {
   "cell_type": "code",
   "execution_count": 30,
   "metadata": {
    "execution": {
     "iopub.execute_input": "2021-05-27T15:27:05.776504Z",
     "iopub.status.busy": "2021-05-27T15:27:05.775843Z",
     "iopub.status.idle": "2021-05-27T15:27:05.779389Z",
     "shell.execute_reply": "2021-05-27T15:27:05.778733Z"
    },
    "papermill": {
     "duration": 0.066843,
     "end_time": "2021-05-27T15:27:05.779546",
     "exception": false,
     "start_time": "2021-05-27T15:27:05.712703",
     "status": "completed"
    },
    "tags": []
   },
   "outputs": [],
   "source": [
    "# importance(kaggle環境では描画しない)\n",
    "if 'kaggle_web_client' in sys.modules:  # kaggle環境\n",
    "    pass\n",
    "else:\n",
    "    plt.figure(figsize=(8, 10))\n",
    "    sns.barplot(x='gain', y='feature', data=importances.sort_values('gain', ascending=False));\n",
    "    plt.savefig(os.path.join(OUTPUT_DIR, 'feature_importance.png'))"
   ]
  },
  {
   "cell_type": "code",
   "execution_count": 31,
   "metadata": {
    "execution": {
     "iopub.execute_input": "2021-05-27T15:27:05.902054Z",
     "iopub.status.busy": "2021-05-27T15:27:05.901352Z",
     "iopub.status.idle": "2021-05-27T15:27:05.904646Z",
     "shell.execute_reply": "2021-05-27T15:27:05.904157Z"
    },
    "papermill": {
     "duration": 0.068626,
     "end_time": "2021-05-27T15:27:05.904831",
     "exception": false,
     "start_time": "2021-05-27T15:27:05.836205",
     "status": "completed"
    },
    "tags": []
   },
   "outputs": [],
   "source": [
    "# importance_boxen(kaggle環境では描画しない)\n",
    "# 参考: https://www.guruguru.science/competitions/13/discussions/d8f2d66a-aeee-4789-8b3d-d5935c26b1b7/\n",
    "\n",
    "if 'kaggle_web_client' in sys.modules:  # kaggle環境\n",
    "    pass\n",
    "else:\n",
    "    order = importances.groupby('feature')\\\n",
    "        .sum()[['gain']]\\\n",
    "        .sort_values('gain', ascending=False).index[:50]\n",
    "\n",
    "    fig, ax = plt.subplots(figsize=(max(6, len(order) * .4), 7))\n",
    "    sns.boxenplot(data=importances, x='feature', y='gain', order=order, ax=ax, palette='viridis')\n",
    "    ax.tick_params(axis='x', rotation=90)\n",
    "    ax.grid()\n",
    "    fig.tight_layout()\n",
    "    fig.savefig(os.path.join(OUTPUT_DIR, 'feature_importance_boxen.png'))"
   ]
  },
  {
   "cell_type": "code",
   "execution_count": 32,
   "metadata": {
    "execution": {
     "iopub.execute_input": "2021-05-27T15:27:06.025176Z",
     "iopub.status.busy": "2021-05-27T15:27:06.024479Z",
     "iopub.status.idle": "2021-05-27T15:27:14.344295Z",
     "shell.execute_reply": "2021-05-27T15:27:14.343624Z"
    },
    "papermill": {
     "duration": 8.382999,
     "end_time": "2021-05-27T15:27:14.344457",
     "exception": false,
     "start_time": "2021-05-27T15:27:05.961458",
     "status": "completed"
    },
    "tags": []
   },
   "outputs": [],
   "source": [
    "# SHAP(kaggle環境では描画しない)\n",
    "# 参考その1: https://github.com/slundberg/shap/issues/337\n",
    "# 参考その2: https://github.com/slundberg/shap/issues/630\n",
    "import shap\n",
    "\n",
    "if 'kaggle_web_client' in sys.modules:  # kaggle環境\n",
    "    pass\n",
    "else:\n",
    "    shap_values = []\n",
    "    for model_ in models:\n",
    "        explainer = shap.TreeExplainer(model_)\n",
    "        shap_values.append(explainer.shap_values(train_feat))\n",
    "\n",
    "    shap_mean = np.mean(shap_values, axis=0)"
   ]
  },
  {
   "cell_type": "code",
   "execution_count": 33,
   "metadata": {
    "execution": {
     "iopub.execute_input": "2021-05-27T15:27:14.466949Z",
     "iopub.status.busy": "2021-05-27T15:27:14.466038Z",
     "iopub.status.idle": "2021-05-27T15:27:14.469186Z",
     "shell.execute_reply": "2021-05-27T15:27:14.468639Z"
    },
    "papermill": {
     "duration": 0.067925,
     "end_time": "2021-05-27T15:27:14.469331",
     "exception": false,
     "start_time": "2021-05-27T15:27:14.401406",
     "status": "completed"
    },
    "tags": []
   },
   "outputs": [],
   "source": [
    "# SHAP_summary_plot\n",
    "# 参考_画像の出力について: https://github.com/slundberg/shap/issues/153\n",
    "if 'kaggle_web_client' in sys.modules:  # kaggle環境\n",
    "    pass\n",
    "else:\n",
    "    shap.summary_plot(shap_mean, train_feat, show=False)\n",
    "    plt.subplots_adjust(left=0.4, right=1.0)  # 保存画像のラベルが欠けるのを防ぐ\n",
    "    plt.savefig(os.path.join(OUTPUT_DIR, 'shap_summary_plot.png'))"
   ]
  },
  {
   "cell_type": "raw",
   "metadata": {
    "papermill": {
     "duration": 0.055269,
     "end_time": "2021-05-27T15:27:14.581222",
     "exception": false,
     "start_time": "2021-05-27T15:27:14.525953",
     "status": "completed"
    },
    "tags": []
   },
   "source": [
    "# SHAP_dependence_plot\n",
    "if 'kaggle_web_client' in sys.modules:  # kaggle環境\n",
    "    pass\n",
    "else:\n",
    "    for col_ in train_feat.columns:\n",
    "        shap.dependence_plot(col_, shap_mean, train_feat)"
   ]
  },
  {
   "cell_type": "code",
   "execution_count": 34,
   "metadata": {
    "execution": {
     "iopub.execute_input": "2021-05-27T15:27:14.703402Z",
     "iopub.status.busy": "2021-05-27T15:27:14.702477Z",
     "iopub.status.idle": "2021-05-27T15:27:14.705856Z",
     "shell.execute_reply": "2021-05-27T15:27:14.705198Z"
    },
    "papermill": {
     "duration": 0.067955,
     "end_time": "2021-05-27T15:27:14.706016",
     "exception": false,
     "start_time": "2021-05-27T15:27:14.638061",
     "status": "completed"
    },
    "tags": []
   },
   "outputs": [],
   "source": [
    "# 分布(train_vs_oof)\n",
    "if 'kaggle_web_client' in sys.modules:  # kaggle環境\n",
    "    pass\n",
    "else:\n",
    "    fig, ax = plt.subplots(figsize=(8, 8))\n",
    "    sns.distplot(train_target, label='Train', ax=ax, color='C1')\n",
    "    sns.distplot(oof_preds, label='Out Of Fold', ax=ax, color='C2')\n",
    "    ax.legend()\n",
    "    ax.grid()\n",
    "    plt.savefig(os.path.join(OUTPUT_DIR, 'train_vs_oof.png'))"
   ]
  },
  {
   "cell_type": "code",
   "execution_count": null,
   "metadata": {
    "papermill": {
     "duration": 0.058698,
     "end_time": "2021-05-27T15:27:14.822102",
     "exception": false,
     "start_time": "2021-05-27T15:27:14.763404",
     "status": "completed"
    },
    "tags": []
   },
   "outputs": [],
   "source": []
  },
  {
   "cell_type": "code",
   "execution_count": null,
   "metadata": {
    "papermill": {
     "duration": 0.056759,
     "end_time": "2021-05-27T15:27:14.936425",
     "exception": false,
     "start_time": "2021-05-27T15:27:14.879666",
     "status": "completed"
    },
    "tags": []
   },
   "outputs": [],
   "source": []
  }
 ],
 "metadata": {
  "kernelspec": {
   "display_name": "Python 3",
   "language": "python",
   "name": "python3"
  },
  "language_info": {
   "codemirror_mode": {
    "name": "ipython",
    "version": 3
   },
   "file_extension": ".py",
   "mimetype": "text/x-python",
   "name": "python",
   "nbconvert_exporter": "python",
   "pygments_lexer": "ipython3",
   "version": "3.8.0"
  },
  "papermill": {
   "default_parameters": {},
   "duration": 489.20856,
   "end_time": "2021-05-27T15:27:17.916356",
   "environment_variables": {},
   "exception": null,
   "input_path": "__notebook__.ipynb",
   "output_path": "__notebook__.ipynb",
   "parameters": {},
   "start_time": "2021-05-27T15:19:08.707796",
   "version": "2.3.2"
  }
 },
 "nbformat": 4,
 "nbformat_minor": 5
}
