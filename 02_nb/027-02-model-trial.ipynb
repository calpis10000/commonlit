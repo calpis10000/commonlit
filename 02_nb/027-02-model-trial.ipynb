{
 "cells": [
  {
   "cell_type": "code",
   "execution_count": 1,
   "id": "nutritional-salad",
   "metadata": {
    "execution": {
     "iopub.execute_input": "2021-06-12T04:12:29.913847Z",
     "iopub.status.busy": "2021-06-12T04:12:29.912338Z",
     "iopub.status.idle": "2021-06-12T04:12:35.921400Z",
     "shell.execute_reply": "2021-06-12T04:12:35.920393Z",
     "shell.execute_reply.started": "2021-06-12T03:58:47.997154Z"
    },
    "papermill": {
     "duration": 6.051579,
     "end_time": "2021-06-12T04:12:35.921582",
     "exception": false,
     "start_time": "2021-06-12T04:12:29.870003",
     "status": "completed"
    },
    "tags": []
   },
   "outputs": [
    {
     "data": {
      "text/html": [
       "<style type='text/css'>\n",
       ".datatable table.frame { margin-bottom: 0; }\n",
       ".datatable table.frame thead { border-bottom: none; }\n",
       ".datatable table.frame tr.coltypes td {  color: #FFFFFF;  line-height: 6px;  padding: 0 0.5em;}\n",
       ".datatable .bool    { background: #DDDD99; }\n",
       ".datatable .object  { background: #565656; }\n",
       ".datatable .int     { background: #5D9E5D; }\n",
       ".datatable .float   { background: #4040CC; }\n",
       ".datatable .str     { background: #CC4040; }\n",
       ".datatable .row_index {  background: var(--jp-border-color3);  border-right: 1px solid var(--jp-border-color0);  color: var(--jp-ui-font-color3);  font-size: 9px;}\n",
       ".datatable .frame tr.coltypes .row_index {  background: var(--jp-border-color0);}\n",
       ".datatable th:nth-child(2) { padding-left: 12px; }\n",
       ".datatable .hellipsis {  color: var(--jp-cell-editor-border-color);}\n",
       ".datatable .vellipsis {  background: var(--jp-layout-color0);  color: var(--jp-cell-editor-border-color);}\n",
       ".datatable .na {  color: var(--jp-cell-editor-border-color);  font-size: 80%;}\n",
       ".datatable .footer { font-size: 9px; }\n",
       ".datatable .frame_dimensions {  background: var(--jp-border-color3);  border-top: 1px solid var(--jp-border-color0);  color: var(--jp-ui-font-color3);  display: inline-block;  opacity: 0.6;  padding: 1px 10px 1px 5px;}\n",
       "</style>\n"
      ],
      "text/plain": [
       "<IPython.core.display.HTML object>"
      ]
     },
     "metadata": {},
     "output_type": "display_data"
    }
   ],
   "source": [
    "# basic\n",
    "import os\n",
    "import gc\n",
    "import sys\n",
    "import yaml\n",
    "import warnings\n",
    "import random\n",
    "from pathlib import Path\n",
    "from glob import glob\n",
    "from tqdm import tqdm_notebook as tqdm\n",
    "import hashlib\n",
    "import pickle\n",
    "warnings.filterwarnings('ignore')\n",
    "\n",
    "# usual\n",
    "import numpy as np\n",
    "import pandas as pd\n",
    "from datetime import datetime\n",
    "from datetime import timedelta\n",
    "\n",
    "# preprocess\n",
    "from fasttext import load_model\n",
    "from sklearn.feature_extraction.text import TfidfVectorizer, CountVectorizer\n",
    "from sklearn.decomposition import TruncatedSVD\n",
    "from sklearn.pipeline import Pipeline\n",
    "#import texthero as hero\n",
    "import nltk\n",
    "import collections\n",
    "from gensim.models import word2vec, KeyedVectors\n",
    "import cv2\n",
    "import string\n",
    "import re\n",
    "import fasttext\n",
    "\n",
    "# LightGBM\n",
    "import lightgbm as lgb\n",
    "#import optuna.integration.lightgbm as lgb  # チューニング用\n",
    "\n",
    "# visualization\n",
    "import matplotlib.pyplot as plt\n",
    "import matplotlib.dates as mdates\n",
    "import seaborn as sns\n",
    "from pandas_profiling import ProfileReport  # profile report を作る用\n",
    "\n",
    "# preprocessing\n",
    "from sklearn.preprocessing import LabelEncoder\n",
    "\n",
    "# plot settings\n",
    "plt.rcParams[\"patch.force_edgecolor\"] = False\n",
    "plt.rcParams['font.family'] = 'sans_serif'\n",
    "sns.set(style=\"whitegrid\",  palette=\"muted\", color_codes=True, rc={'grid.linestyle': '--'})\n",
    "red = sns.xkcd_rgb[\"light red\"]\n",
    "green = sns.xkcd_rgb[\"medium green\"]\n",
    "blue = sns.xkcd_rgb[\"denim blue\"]\n",
    "\n",
    "# plot extentions\n",
    "#import japanize_matplotlib\n",
    "from matplotlib_venn import venn2\n",
    "\n",
    "import torch\n",
    "import transformers\n",
    "\n",
    "from transformers import BertTokenizer\n",
    "from tqdm import tqdm\n",
    "tqdm.pandas()"
   ]
  },
  {
   "cell_type": "code",
   "execution_count": 2,
   "id": "lasting-partition",
   "metadata": {
    "execution": {
     "iopub.execute_input": "2021-06-12T04:12:36.001242Z",
     "iopub.status.busy": "2021-06-12T04:12:35.999765Z",
     "iopub.status.idle": "2021-06-12T04:12:36.003646Z",
     "shell.execute_reply": "2021-06-12T04:12:36.003200Z",
     "shell.execute_reply.started": "2021-06-12T03:58:54.317242Z"
    },
    "papermill": {
     "duration": 0.044898,
     "end_time": "2021-06-12T04:12:36.003748",
     "exception": false,
     "start_time": "2021-06-12T04:12:35.958850",
     "status": "completed"
    },
    "tags": []
   },
   "outputs": [
    {
     "name": "stdout",
     "output_type": "stream",
     "text": [
      "nb027-02\n",
      "nb027-02_20210612_041235\n"
     ]
    }
   ],
   "source": [
    "# 試験ID生成\n",
    "trial_prefix = 'nb027-02'  # ←手動で指定 \n",
    "dttm_now = datetime.now().strftime('%Y%m%d_%H%M%S')\n",
    "trial_id = f'{trial_prefix}_{dttm_now}'\n",
    "\n",
    "print(trial_prefix)\n",
    "print(trial_id)"
   ]
  },
  {
   "cell_type": "code",
   "execution_count": 3,
   "id": "fifty-hughes",
   "metadata": {
    "execution": {
     "iopub.execute_input": "2021-06-12T04:12:36.080559Z",
     "iopub.status.busy": "2021-06-12T04:12:36.080029Z",
     "iopub.status.idle": "2021-06-12T04:12:36.083842Z",
     "shell.execute_reply": "2021-06-12T04:12:36.083390Z",
     "shell.execute_reply.started": "2021-06-12T03:58:54.326797Z"
    },
    "papermill": {
     "duration": 0.043839,
     "end_time": "2021-06-12T04:12:36.083942",
     "exception": false,
     "start_time": "2021-06-12T04:12:36.040103",
     "status": "completed"
    },
    "tags": []
   },
   "outputs": [],
   "source": [
    "# アウトプットの出力先指定\n",
    "if 'kaggle_web_client' in sys.modules:  # kaggle環境\n",
    "    OUTPUT_DIR = Path(\".\")\n",
    "else:\n",
    "    OUTPUT_DIR = Path(f\"../03_outputs/{trial_prefix}\")\n",
    "    OUTPUT_DIR.mkdir(exist_ok=True, parents=True)"
   ]
  },
  {
   "cell_type": "code",
   "execution_count": 4,
   "id": "portable-sailing",
   "metadata": {
    "execution": {
     "iopub.execute_input": "2021-06-12T04:12:36.161913Z",
     "iopub.status.busy": "2021-06-12T04:12:36.160659Z",
     "iopub.status.idle": "2021-06-12T04:12:36.162908Z",
     "shell.execute_reply": "2021-06-12T04:12:36.163326Z",
     "shell.execute_reply.started": "2021-06-12T03:58:54.335863Z"
    },
    "papermill": {
     "duration": 0.042944,
     "end_time": "2021-06-12T04:12:36.163441",
     "exception": false,
     "start_time": "2021-06-12T04:12:36.120497",
     "status": "completed"
    },
    "tags": []
   },
   "outputs": [],
   "source": [
    "# seed固定\n",
    "def set_seed(seed=2021):\n",
    "    random.seed(seed)\n",
    "    np.random.seed(seed)\n",
    "    os.environ[\"PYTHONHASHSEED\"] = str(seed)\n",
    "\n",
    "SEED = 2021\n",
    "set_seed(SEED)"
   ]
  },
  {
   "cell_type": "code",
   "execution_count": 5,
   "id": "exceptional-national",
   "metadata": {
    "execution": {
     "iopub.execute_input": "2021-06-12T04:12:36.241156Z",
     "iopub.status.busy": "2021-06-12T04:12:36.240437Z",
     "iopub.status.idle": "2021-06-12T04:12:36.242986Z",
     "shell.execute_reply": "2021-06-12T04:12:36.242601Z",
     "shell.execute_reply.started": "2021-06-12T03:58:54.347547Z"
    },
    "papermill": {
     "duration": 0.042234,
     "end_time": "2021-06-12T04:12:36.243086",
     "exception": false,
     "start_time": "2021-06-12T04:12:36.200852",
     "status": "completed"
    },
    "tags": []
   },
   "outputs": [],
   "source": [
    "# インプットフォルダ指定\n",
    "if 'kaggle_web_client' in sys.modules:  # kaggle環境\n",
    "    DATA_DIR = '../input/commonlitreadabilityprize/'\n",
    "else:\n",
    "    DATA_DIR = '../00_input/commonlitreadabilityprize/'"
   ]
  },
  {
   "cell_type": "code",
   "execution_count": 6,
   "id": "solved-exhibition",
   "metadata": {
    "execution": {
     "iopub.execute_input": "2021-06-12T04:12:36.321530Z",
     "iopub.status.busy": "2021-06-12T04:12:36.321030Z",
     "iopub.status.idle": "2021-06-12T04:12:36.400582Z",
     "shell.execute_reply": "2021-06-12T04:12:36.400130Z",
     "shell.execute_reply.started": "2021-06-12T03:58:54.359159Z"
    },
    "papermill": {
     "duration": 0.120829,
     "end_time": "2021-06-12T04:12:36.400695",
     "exception": false,
     "start_time": "2021-06-12T04:12:36.279866",
     "status": "completed"
    },
    "tags": []
   },
   "outputs": [],
   "source": [
    "# read_data\n",
    "train_base = pd.read_csv(DATA_DIR + 'train.csv')\n",
    "test_base = pd.read_csv(DATA_DIR + 'test.csv')\n",
    "sample = pd.read_csv(DATA_DIR + 'sample_submission.csv')"
   ]
  },
  {
   "cell_type": "markdown",
   "id": "corporate-petroleum",
   "metadata": {
    "papermill": {
     "duration": 0.036408,
     "end_time": "2021-06-12T04:12:36.473580",
     "exception": false,
     "start_time": "2021-06-12T04:12:36.437172",
     "status": "completed"
    },
    "tags": []
   },
   "source": [
    "## 特徴作成_共通処理"
   ]
  },
  {
   "cell_type": "code",
   "execution_count": 7,
   "id": "acknowledged-honey",
   "metadata": {
    "execution": {
     "iopub.execute_input": "2021-06-12T04:12:36.552189Z",
     "iopub.status.busy": "2021-06-12T04:12:36.551457Z",
     "iopub.status.idle": "2021-06-12T04:12:36.553679Z",
     "shell.execute_reply": "2021-06-12T04:12:36.554142Z",
     "shell.execute_reply.started": "2021-06-12T03:58:54.444094Z"
    },
    "papermill": {
     "duration": 0.043267,
     "end_time": "2021-06-12T04:12:36.554272",
     "exception": false,
     "start_time": "2021-06-12T04:12:36.511005",
     "status": "completed"
    },
    "tags": []
   },
   "outputs": [],
   "source": [
    "# ベースとなる継承元のクラス\n",
    "class BaseBlock(object):\n",
    "    def fit(self, input_df, y=None):\n",
    "        return self.transform(input_df)\n",
    "    def transform(self, input_df):\n",
    "        raise NotImplementedError()"
   ]
  },
  {
   "cell_type": "markdown",
   "id": "confused-taxation",
   "metadata": {
    "papermill": {
     "duration": 0.036407,
     "end_time": "2021-06-12T04:12:36.626866",
     "exception": false,
     "start_time": "2021-06-12T04:12:36.590459",
     "status": "completed"
    },
    "tags": []
   },
   "source": [
    "## テキスト特徴_共通処理"
   ]
  },
  {
   "cell_type": "code",
   "execution_count": 8,
   "id": "competitive-mainland",
   "metadata": {
    "execution": {
     "iopub.execute_input": "2021-06-12T04:12:36.704381Z",
     "iopub.status.busy": "2021-06-12T04:12:36.703653Z",
     "iopub.status.idle": "2021-06-12T04:12:36.705827Z",
     "shell.execute_reply": "2021-06-12T04:12:36.706278Z",
     "shell.execute_reply.started": "2021-06-12T03:58:54.453578Z"
    },
    "papermill": {
     "duration": 0.043001,
     "end_time": "2021-06-12T04:12:36.706394",
     "exception": false,
     "start_time": "2021-06-12T04:12:36.663393",
     "status": "completed"
    },
    "tags": []
   },
   "outputs": [],
   "source": [
    "# ローカルの場合、stopwordsをダウンロード\n",
    "import nltk\n",
    "if 'kaggle_web_client' in sys.modules:  # kaggle環境\n",
    "    pass\n",
    "else:\n",
    "    import nltk\n",
    "    nltk.download('stopwords')\n",
    "    nltk.download('averaged_perceptron_tagger')\n",
    "    os.listdir(os.path.expanduser('~/nltk_data/corpora/stopwords/'))"
   ]
  },
  {
   "cell_type": "code",
   "execution_count": 9,
   "id": "widespread-disney",
   "metadata": {
    "execution": {
     "iopub.execute_input": "2021-06-12T04:12:36.787322Z",
     "iopub.status.busy": "2021-06-12T04:12:36.786723Z",
     "iopub.status.idle": "2021-06-12T04:12:36.803871Z",
     "shell.execute_reply": "2021-06-12T04:12:36.803486Z",
     "shell.execute_reply.started": "2021-06-12T03:58:54.463959Z"
    },
    "papermill": {
     "duration": 0.061229,
     "end_time": "2021-06-12T04:12:36.803981",
     "exception": false,
     "start_time": "2021-06-12T04:12:36.742752",
     "status": "completed"
    },
    "tags": []
   },
   "outputs": [],
   "source": [
    "# テキスト前処理\n",
    "# https://www.kaggle.com/alaasedeeq/commonlit-readability-eda\n",
    "\n",
    "#filtering the unwanted symbols, spaces, ....etc\n",
    "to_replace_by_space = re.compile('[/(){}\\[\\]|@,;]')\n",
    "punctuation = re.compile(f'([{string.punctuation}“”¨«»®´·º½¾¿¡§£₤‘’])')\n",
    "bad_symbols = re.compile('[^0-9a-z #+_]')\n",
    "stopwords = set(nltk.corpus.stopwords.words('english'))\n",
    "\n",
    "def text_prepare(text):\n",
    "    '''\n",
    "    text: a string\n",
    "    returna modified version of the string\n",
    "    '''\n",
    "    text = text.lower() # lowercase text\n",
    "    text = re.sub(punctuation, '',text)\n",
    "    text = re.sub(to_replace_by_space, \" \", text) # replace REPLACE_BY_SPACE_RE symbols by space in text\n",
    "    text = re.sub(bad_symbols, \"\", text)         # delete symbols which are in BAD_SYMBOLS_RE from text\n",
    "    text = \" \".join([word for word in text.split(\" \") if word not in stopwords]) # delete stopwords from text\n",
    "    text = re.sub(' +', ' ', text)\n",
    "    return text\n"
   ]
  },
  {
   "cell_type": "code",
   "execution_count": 10,
   "id": "unavailable-freedom",
   "metadata": {
    "execution": {
     "iopub.execute_input": "2021-06-12T04:12:36.881436Z",
     "iopub.status.busy": "2021-06-12T04:12:36.880715Z",
     "iopub.status.idle": "2021-06-12T04:12:36.883306Z",
     "shell.execute_reply": "2021-06-12T04:12:36.882801Z",
     "shell.execute_reply.started": "2021-06-12T03:58:54.488880Z"
    },
    "papermill": {
     "duration": 0.042912,
     "end_time": "2021-06-12T04:12:36.883404",
     "exception": false,
     "start_time": "2021-06-12T04:12:36.840492",
     "status": "completed"
    },
    "tags": []
   },
   "outputs": [],
   "source": [
    "def text_normalization(s:pd.Series):\n",
    "    x = s.apply(text_prepare)\n",
    "    return x\n",
    "\n",
    "# Counterオブジェクトを取得\n",
    "def get_counter(text:str):\n",
    "    text_list = [wrd for wrd in text.split(\" \") if wrd not in ('', '\\n')]\n",
    "    counter = collections.Counter(text_list)\n",
    "    return counter"
   ]
  },
  {
   "cell_type": "markdown",
   "id": "orange-header",
   "metadata": {
    "papermill": {
     "duration": 0.037032,
     "end_time": "2021-06-12T04:12:36.956794",
     "exception": false,
     "start_time": "2021-06-12T04:12:36.919762",
     "status": "completed"
    },
    "tags": []
   },
   "source": [
    "## 前処理_品詞変換"
   ]
  },
  {
   "cell_type": "code",
   "execution_count": 11,
   "id": "optical-dimension",
   "metadata": {
    "execution": {
     "iopub.execute_input": "2021-06-12T04:12:37.036093Z",
     "iopub.status.busy": "2021-06-12T04:12:37.034922Z",
     "iopub.status.idle": "2021-06-12T04:12:37.037194Z",
     "shell.execute_reply": "2021-06-12T04:12:37.037593Z",
     "shell.execute_reply.started": "2021-06-12T03:58:54.496682Z"
    },
    "papermill": {
     "duration": 0.044646,
     "end_time": "2021-06-12T04:12:37.037712",
     "exception": false,
     "start_time": "2021-06-12T04:12:36.993066",
     "status": "completed"
    },
    "tags": []
   },
   "outputs": [],
   "source": [
    "# テキスト情報を品詞に変換\n",
    "def get_pos_tag(text:str):\n",
    "    text_list = [wrd for wrd in text.split(\" \") if wrd not in ('', '\\n')]\n",
    "    pos_tag = [i[1] for i in nltk.pos_tag(text_list)]\n",
    "    return pos_tag\n",
    "\n",
    "def get_pos_tag_to_text(text:str):\n",
    "    text_list = [wrd for wrd in text.split(\" \") if wrd not in ('', '\\n')]\n",
    "    pos_tag = [i[1] for i in nltk.pos_tag(text_list)]\n",
    "    return \" \".join(pos_tag)"
   ]
  },
  {
   "cell_type": "markdown",
   "id": "electoral-dodge",
   "metadata": {
    "papermill": {
     "duration": 0.038386,
     "end_time": "2021-06-12T04:12:37.112346",
     "exception": false,
     "start_time": "2021-06-12T04:12:37.073960",
     "status": "completed"
    },
    "tags": []
   },
   "source": [
    "## テキスト特徴_シンプルなTF-IDF"
   ]
  },
  {
   "cell_type": "code",
   "execution_count": 12,
   "id": "charitable-mobile",
   "metadata": {
    "execution": {
     "iopub.execute_input": "2021-06-12T04:12:37.211973Z",
     "iopub.status.busy": "2021-06-12T04:12:37.210152Z",
     "iopub.status.idle": "2021-06-12T04:12:37.212755Z",
     "shell.execute_reply": "2021-06-12T04:12:37.213206Z",
     "shell.execute_reply.started": "2021-06-12T03:58:54.509295Z"
    },
    "papermill": {
     "duration": 0.05767,
     "end_time": "2021-06-12T04:12:37.213368",
     "exception": false,
     "start_time": "2021-06-12T04:12:37.155698",
     "status": "completed"
    },
    "tags": []
   },
   "outputs": [],
   "source": [
    "# 参考: https://www.guruguru.science/competitions/16/discussions/556029f7-484d-40d4-ad6a-9d86337487e2/\n",
    "\n",
    "class TfidfSimpleBlock(BaseBlock):\n",
    "    \"\"\"シンプルなTF-IDF特徴を作成する block\"\"\"\n",
    "    def __init__(self, column: str, max_features=50, ngram_range=(1,1), use_idf=True):\n",
    "        \"\"\"\n",
    "        args:\n",
    "            column: str\n",
    "                変換対象のカラム名\n",
    "        \"\"\"\n",
    "        self.column = column\n",
    "        self.max_features=max_features\n",
    "        self.ngram_range=ngram_range\n",
    "        self.use_idf=use_idf\n",
    "\n",
    "    def preprocess(self, input_df):\n",
    "        x = text_normalization(input_df[self.column])\n",
    "        return x\n",
    "\n",
    "    def get_master(self, _master_df):\n",
    "        \"\"\"tdidfを計算するための全体集合を返す.\"\"\"\n",
    "        return _master_df\n",
    "\n",
    "    def fit(self, \n",
    "            input_df, \n",
    "            _master_df=None, \n",
    "            y=None\n",
    "           ):\n",
    "        master_df = input_df if _master_df is None else self.get_master(_master_df)\n",
    "        text = self.preprocess(master_df)\n",
    "        self.vectorizer_ = TfidfVectorizer(max_features=self.max_features\n",
    "                                      ,ngram_range=self.ngram_range\n",
    "                                      ,use_idf=self.use_idf)\n",
    "\n",
    "        self.vectorizer_.fit(text)\n",
    "        self.prefix = 'tfidf' if self.use_idf == True else 'tf'\n",
    "        return self.transform(input_df)\n",
    "\n",
    "    def transform(self, input_df):\n",
    "        text = self.preprocess(input_df)\n",
    "        z = self.vectorizer_.transform(text)\n",
    "\n",
    "        out_df = pd.DataFrame(z.toarray())\n",
    "        out_df.columns = self.vectorizer_.get_feature_names()\n",
    "        return out_df.add_prefix(f'{self.prefix}_')\n"
   ]
  },
  {
   "cell_type": "markdown",
   "id": "afraid-mattress",
   "metadata": {
    "papermill": {
     "duration": 0.042255,
     "end_time": "2021-06-12T04:12:37.298884",
     "exception": false,
     "start_time": "2021-06-12T04:12:37.256629",
     "status": "completed"
    },
    "tags": []
   },
   "source": [
    "## テキスト特徴_学習済みモデル（gemsim経由）"
   ]
  },
  {
   "cell_type": "code",
   "execution_count": 13,
   "id": "presidential-third",
   "metadata": {
    "execution": {
     "iopub.execute_input": "2021-06-12T04:12:37.389525Z",
     "iopub.status.busy": "2021-06-12T04:12:37.388811Z",
     "iopub.status.idle": "2021-06-12T04:12:37.391595Z",
     "shell.execute_reply": "2021-06-12T04:12:37.391184Z",
     "shell.execute_reply.started": "2021-06-12T03:58:54.523991Z"
    },
    "papermill": {
     "duration": 0.055099,
     "end_time": "2021-06-12T04:12:37.391700",
     "exception": false,
     "start_time": "2021-06-12T04:12:37.336601",
     "status": "completed"
    },
    "tags": []
   },
   "outputs": [],
   "source": [
    "# 参考: https://zenn.dev/koukyo1994/articles/9b1da2482d8ba1\n",
    "# 参考: https://github.com/yagays/swem\n",
    "\n",
    "class GensimPreTrainedBlock(BaseBlock):\n",
    "    \"\"\"\n",
    "    文書をgemsim経由で学習済みモデルのベクトル表現へ変換するblock\n",
    "    モデルは別途入手し、インスタンス作成時に指定する。\n",
    "    モデル名は手動で入力する想定（デフォルトではgensim_pretrained で入る）\n",
    "    \"\"\"\n",
    "    def __init__(self,\n",
    "                 column: str,\n",
    "                 model:KeyedVectors,\n",
    "                 model_name='gensim_pretrained',\n",
    "                 swem='aver'):\n",
    "        \"\"\"\n",
    "        args:\n",
    "            column: str\n",
    "                変換対象のカラム名\n",
    "        \"\"\"\n",
    "        self.column = column\n",
    "        self.model = model\n",
    "        self.model_name = model_name\n",
    "        self.swem = swem # TODO:例外処理['aver', 'max', 'concat', 'hier']\n",
    "\n",
    "    def fit(self, input_df, y=None):\n",
    "        return self.transform(input_df)\n",
    "\n",
    "    def transform(self, input_df):\n",
    "        text = self.preprocess(input_df)\n",
    "        \n",
    "        if self.swem == 'aver':\n",
    "            feat = text.map(lambda x: self.average_pooling(x))\n",
    "        elif self.swem == 'max': \n",
    "            feat = text.map(lambda x: self.max_pooling(x))\n",
    "        elif self.swem == 'concat': \n",
    "            feat = text.map(lambda x: self.concat_average_max_pooling(x))\n",
    "        elif self.swem == 'hier': \n",
    "            feat = text.map(lambda x: self.hierarchical_pooling(x, n=3))\n",
    "            \n",
    "        out_df = pd.DataFrame(np.stack(feat.values))\n",
    "\n",
    "        return out_df.add_prefix(f'{self.model_name}_{self.column}_{self.swem}')\n",
    "    \n",
    "    # 前処理\n",
    "    def preprocess(self, input_df):\n",
    "        x = text_normalization(input_df[self.column])\n",
    "        return x\n",
    "    \n",
    "    # 文書ベクトルの取得\n",
    "    def get_sentence_vector(self, x: str):\n",
    "        ndim = self.model.vector_size\n",
    "        embeddings = [\n",
    "            self.model[word]\n",
    "            if word in self.model\n",
    "            else np.zeros(ndim)\n",
    "            for word in x.split()\n",
    "        ]\n",
    "\n",
    "        if len(embeddings) == 0:\n",
    "            return np.zeros(ndim, dtype=np.float32)\n",
    "        else:\n",
    "            return embeddings\n",
    "    \n",
    "    # SWEMの各処理\n",
    "    def average_pooling(self, text):\n",
    "        word_embeddings = self.get_sentence_vector(text)\n",
    "        return np.mean(word_embeddings, axis=0)\n",
    "\n",
    "    def max_pooling(self, text):\n",
    "        word_embeddings = self.get_sentence_vector(text)\n",
    "        return np.max(word_embeddings, axis=0)\n",
    "\n",
    "    def concat_average_max_pooling(self, text):\n",
    "        word_embeddings = self.get_sentence_vector(text)\n",
    "        return np.r_[np.mean(word_embeddings, axis=0), np.max(word_embeddings, axis=0)]\n",
    "\n",
    "    def hierarchical_pooling(self, text, n):\n",
    "        word_embeddings = self.get_sentence_vector(text)\n",
    "\n",
    "        text_len = len(word_embeddings) # TODO: これで合ってるか要確認\n",
    "        if n > text_len:\n",
    "            raise ValueError(f\"window size must be less than text length / window_size:{n} text_length:{text_len}\")\n",
    "        window_average_pooling_vec = [np.mean(word_embeddings[i:i + n], axis=0) for i in range(text_len - n + 1)]\n",
    "\n",
    "        return np.max(window_average_pooling_vec, axis=0)    \n",
    "            \n"
   ]
  },
  {
   "cell_type": "markdown",
   "id": "disturbed-satisfaction",
   "metadata": {
    "papermill": {
     "duration": 0.036269,
     "end_time": "2021-06-12T04:12:37.464408",
     "exception": false,
     "start_time": "2021-06-12T04:12:37.428139",
     "status": "completed"
    },
    "tags": []
   },
   "source": [
    "## テキスト特徴_fasttest"
   ]
  },
  {
   "cell_type": "code",
   "execution_count": 14,
   "id": "warming-attack",
   "metadata": {
    "execution": {
     "iopub.execute_input": "2021-06-12T04:12:37.544587Z",
     "iopub.status.busy": "2021-06-12T04:12:37.543892Z",
     "iopub.status.idle": "2021-06-12T04:12:37.546113Z",
     "shell.execute_reply": "2021-06-12T04:12:37.546590Z",
     "shell.execute_reply.started": "2021-06-12T03:58:54.542659Z"
    },
    "papermill": {
     "duration": 0.045006,
     "end_time": "2021-06-12T04:12:37.546708",
     "exception": false,
     "start_time": "2021-06-12T04:12:37.501702",
     "status": "completed"
    },
    "tags": []
   },
   "outputs": [],
   "source": [
    "# 参考: https://zenn.dev/koukyo1994/articles/9b1da2482d8ba1\n",
    "class FasttextBlock(BaseBlock):\n",
    "    \"\"\"文書をfasttextのテキスト表現へ変換する block\"\"\"\n",
    "    def __init__(self, column: str, ft_model:fasttext.FastText._FastText):\n",
    "        \"\"\"\n",
    "        args:\n",
    "            column: str\n",
    "                変換対象のカラム名\n",
    "        \"\"\"\n",
    "        self.column = column\n",
    "        self.ft_model = ft_model\n",
    "\n",
    "    # 前処理\n",
    "    def preprocess(self, input_df):\n",
    "        x = text_normalization(input_df[self.column])\n",
    "        return x\n",
    "        \n",
    "    def fit(self, input_df, y=None):\n",
    "        return self.transform(input_df)\n",
    "\n",
    "    def transform(self, input_df):\n",
    "        text = self.preprocess(input_df)\n",
    "        feat = text.map(lambda x: ft_model.get_sentence_vector(x))\n",
    "        out_df = pd.DataFrame(np.stack(feat.values))\n",
    "\n",
    "        return out_df.add_prefix(f'fasttext_{self.column}_')"
   ]
  },
  {
   "cell_type": "markdown",
   "id": "cloudy-release",
   "metadata": {
    "papermill": {
     "duration": 0.036498,
     "end_time": "2021-06-12T04:12:37.619495",
     "exception": false,
     "start_time": "2021-06-12T04:12:37.582997",
     "status": "completed"
    },
    "tags": []
   },
   "source": [
    "## テキスト特徴_統計量"
   ]
  },
  {
   "cell_type": "code",
   "execution_count": 15,
   "id": "vocational-mapping",
   "metadata": {
    "execution": {
     "iopub.execute_input": "2021-06-12T04:12:37.702720Z",
     "iopub.status.busy": "2021-06-12T04:12:37.702022Z",
     "iopub.status.idle": "2021-06-12T04:12:37.704715Z",
     "shell.execute_reply": "2021-06-12T04:12:37.704201Z",
     "shell.execute_reply.started": "2021-06-12T03:58:54.552424Z"
    },
    "papermill": {
     "duration": 0.049015,
     "end_time": "2021-06-12T04:12:37.704812",
     "exception": false,
     "start_time": "2021-06-12T04:12:37.655797",
     "status": "completed"
    },
    "tags": []
   },
   "outputs": [],
   "source": [
    "class TextDescriptionBlock(BaseBlock):\n",
    "    \"\"\"テキストに関する統計量を返す block\"\"\"\n",
    "    def __init__(self, column: str):\n",
    "        \"\"\"\n",
    "        args:\n",
    "            column: str\n",
    "                変換対象のカラム名\n",
    "        \"\"\"\n",
    "        self.column = column\n",
    "\n",
    "    # 前処理\n",
    "    def preprocess(self, input_df):\n",
    "        x = text_normalization(input_df[self.column])\n",
    "        return x\n",
    "        \n",
    "    def fit(self, input_df, y=None, n_components=50):\n",
    "        self.text = self.preprocess(input_df)\n",
    "        self.counters = self.text.map(get_counter)\n",
    "        return self.transform(input_df)\n",
    "\n",
    "    def transform(self, input_df):\n",
    "        _length = input_df[self.column].fillna('').map(lambda x: len(x) if x!='' else np.nan)\n",
    "        _wrd_cnt = self.counters.map(lambda x: sum(x.values()))\n",
    "        _wrd_nuniq = self.counters.map(lambda x: len(x))\n",
    "        _wrd_mean = self.counters.map(lambda x: np.mean(list(x.values())))\n",
    "        _wrd_max = self.counters.map(lambda x: np.max(list(x.values())))\n",
    "        \n",
    "        word_length = self.counters.map(lambda x: np.array([len(i) for i in x.keys()]))\n",
    "        word_length_desc = word_length.map(lambda x: pd.Series(x.ravel()).describe())\n",
    "        _word_length_desc_df = pd.DataFrame(word_length_desc.tolist()).iloc[:,1:]\n",
    "        _word_length_desc_df = _word_length_desc_df.add_prefix('word_length_')\n",
    "        \n",
    "        out_df = pd.concat([_length, _wrd_cnt, _wrd_nuniq, _wrd_mean, _wrd_max], axis=1)\n",
    "        out_df.columns = ['text_length', 'word_count', 'word_nunique', 'word_appearance_mean', 'word_appearance_max']\n",
    "        out_df = pd.concat([out_df, _word_length_desc_df], axis=1)\n",
    "        return out_df.add_suffix(f'_{self.column}')"
   ]
  },
  {
   "cell_type": "markdown",
   "id": "welsh-demonstration",
   "metadata": {
    "papermill": {
     "duration": 0.03615,
     "end_time": "2021-06-12T04:12:37.777053",
     "exception": false,
     "start_time": "2021-06-12T04:12:37.740903",
     "status": "completed"
    },
    "tags": []
   },
   "source": [
    "## テキスト特徴_CountVectorizer"
   ]
  },
  {
   "cell_type": "code",
   "execution_count": 16,
   "id": "caring-sunday",
   "metadata": {
    "execution": {
     "iopub.execute_input": "2021-06-12T04:12:37.867210Z",
     "iopub.status.busy": "2021-06-12T04:12:37.866345Z",
     "iopub.status.idle": "2021-06-12T04:12:37.868699Z",
     "shell.execute_reply": "2021-06-12T04:12:37.869125Z",
     "shell.execute_reply.started": "2021-06-12T03:58:54.567330Z"
    },
    "papermill": {
     "duration": 0.052501,
     "end_time": "2021-06-12T04:12:37.869270",
     "exception": false,
     "start_time": "2021-06-12T04:12:37.816769",
     "status": "completed"
    },
    "tags": []
   },
   "outputs": [],
   "source": [
    "class CountVectorizerBlock(BaseBlock):\n",
    "    \"\"\"CountVectorizer x SVD による圧縮を行なう block\"\"\"\n",
    "    def __init__(self, column: str, n_components=50, ngram_range=(1,1)):\n",
    "        \"\"\"\n",
    "        args:\n",
    "            column: str\n",
    "                変換対象のカラム名\n",
    "        \"\"\"\n",
    "        self.column = column\n",
    "        self.n_components=n_components\n",
    "        self.ngram_range=ngram_range\n",
    "\n",
    "    def preprocess(self, input_df):\n",
    "        x = text_normalization(input_df[self.column])\n",
    "        return x\n",
    "\n",
    "    def get_master(self, _master_df):\n",
    "        \"\"\"tdidfを計算するための全体集合を返す.\"\"\"\n",
    "        return _master_df\n",
    "\n",
    "    def fit(self, \n",
    "            input_df, \n",
    "            _master_df=None, \n",
    "            y=None\n",
    "           ):\n",
    "        master_df = input_df if _master_df is None else self.get_master(_master_df)\n",
    "        text = self.preprocess(master_df)\n",
    "        self.pileline_ = Pipeline([\n",
    "            ('tfidf', CountVectorizer(ngram_range=self.ngram_range)),\n",
    "            ('svd', TruncatedSVD(n_components=self.n_components, random_state=SEED)),\n",
    "        ])\n",
    "\n",
    "        self.pileline_.fit(text)\n",
    "        return self.transform(input_df)\n",
    "\n",
    "    def transform(self, input_df):\n",
    "        text = self.preprocess(input_df)\n",
    "        z = self.pileline_.transform(text)\n",
    "\n",
    "        out_df = pd.DataFrame(z)\n",
    "        return out_df.add_prefix(f'countvect_{self.column}_{\"_\".join([str(i) for i in self.ngram_range])}_')\n"
   ]
  },
  {
   "cell_type": "markdown",
   "id": "swiss-desktop",
   "metadata": {
    "papermill": {
     "duration": 0.039945,
     "end_time": "2021-06-12T04:12:37.946997",
     "exception": false,
     "start_time": "2021-06-12T04:12:37.907052",
     "status": "completed"
    },
    "tags": []
   },
   "source": [
    "## テキスト特徴_TF-IDF"
   ]
  },
  {
   "cell_type": "code",
   "execution_count": 17,
   "id": "electric-cycle",
   "metadata": {
    "execution": {
     "iopub.execute_input": "2021-06-12T04:12:38.037813Z",
     "iopub.status.busy": "2021-06-12T04:12:38.037088Z",
     "iopub.status.idle": "2021-06-12T04:12:38.040613Z",
     "shell.execute_reply": "2021-06-12T04:12:38.040151Z",
     "shell.execute_reply.started": "2021-06-12T03:58:54.580180Z"
    },
    "papermill": {
     "duration": 0.051996,
     "end_time": "2021-06-12T04:12:38.040718",
     "exception": false,
     "start_time": "2021-06-12T04:12:37.988722",
     "status": "completed"
    },
    "tags": []
   },
   "outputs": [],
   "source": [
    "# 参考: https://www.guruguru.science/competitions/16/discussions/556029f7-484d-40d4-ad6a-9d86337487e2/\n",
    "\n",
    "class TfidfBlock(BaseBlock):\n",
    "    \"\"\"tfidf x SVD による圧縮を行なう block\"\"\"\n",
    "    def __init__(self, column: str, n_components=50, ngram_range=(1,1)):\n",
    "        \"\"\"\n",
    "        args:\n",
    "            column: str\n",
    "                変換対象のカラム名\n",
    "        \"\"\"\n",
    "        self.column = column\n",
    "        self.n_components=n_components\n",
    "        self.ngram_range=ngram_range\n",
    "\n",
    "    def preprocess(self, input_df):\n",
    "        x = text_normalization(input_df[self.column])\n",
    "        return x\n",
    "\n",
    "    def get_master(self, _master_df):\n",
    "        \"\"\"tdidfを計算するための全体集合を返す.\"\"\"\n",
    "        return _master_df\n",
    "\n",
    "    def fit(self, \n",
    "            input_df, \n",
    "            _master_df=None, \n",
    "            y=None\n",
    "           ):\n",
    "        master_df = input_df if _master_df is None else self.get_master(_master_df)\n",
    "        text = self.preprocess(master_df)\n",
    "        self.pileline_ = Pipeline([\n",
    "            ('tfidf', TfidfVectorizer(max_features=100000, ngram_range=self.ngram_range)),\n",
    "            ('svd', TruncatedSVD(n_components=self.n_components, random_state=SEED)),\n",
    "        ])\n",
    "\n",
    "        self.pileline_.fit(text)\n",
    "        return self.transform(input_df)\n",
    "\n",
    "    def transform(self, input_df):\n",
    "        text = self.preprocess(input_df)\n",
    "        z = self.pileline_.transform(text)\n",
    "\n",
    "        out_df = pd.DataFrame(z)\n",
    "        return out_df.add_prefix(f'tfidf_{self.column}_{\"_\".join([str(i) for i in self.ngram_range])}_')\n"
   ]
  },
  {
   "cell_type": "markdown",
   "id": "female-budapest",
   "metadata": {
    "papermill": {
     "duration": 0.038549,
     "end_time": "2021-06-12T04:12:38.120283",
     "exception": false,
     "start_time": "2021-06-12T04:12:38.081734",
     "status": "completed"
    },
    "tags": []
   },
   "source": [
    "## テキスト特徴_W2V(データセットから学習)"
   ]
  },
  {
   "cell_type": "code",
   "execution_count": 18,
   "id": "billion-theology",
   "metadata": {
    "execution": {
     "iopub.execute_input": "2021-06-12T04:12:38.205701Z",
     "iopub.status.busy": "2021-06-12T04:12:38.201520Z",
     "iopub.status.idle": "2021-06-12T04:12:38.207999Z",
     "shell.execute_reply": "2021-06-12T04:12:38.207612Z",
     "shell.execute_reply.started": "2021-06-12T03:58:54.592857Z"
    },
    "papermill": {
     "duration": 0.050697,
     "end_time": "2021-06-12T04:12:38.208101",
     "exception": false,
     "start_time": "2021-06-12T04:12:38.157404",
     "status": "completed"
    },
    "tags": []
   },
   "outputs": [],
   "source": [
    "# https://www.guruguru.science/competitions/16/discussions/2fafef06-5a26-4d33-b535-a94cc9549ac4/\n",
    "# https://www.guruguru.science/competitions/16/discussions/4a6f5f84-8491-4324-ba69-dec49dc648cd/\n",
    "\n",
    "def hashfxn(x):\n",
    "    return int(hashlib.md5(str(x).encode()).hexdigest(), 16)\n",
    "\n",
    "class W2VTrainBlock(BaseBlock):\n",
    "    \"\"\"Word2Vecを学習し、文書のベクトル表現を得るブロック。\n",
    "       学習済みモデルを使うパターンは、別に作成するものとする。\"\"\"\n",
    "    def __init__(self, \n",
    "                 column: str, \n",
    "                 model_size=50, \n",
    "                 min_count=1, \n",
    "                 window=5,\n",
    "                 n_iter=100\n",
    "                 ):\n",
    "        \"\"\"\n",
    "        args:\n",
    "            column: str\n",
    "                変換対象のカラム名\n",
    "        \"\"\"\n",
    "        self.column = column\n",
    "        self.model_size=model_size\n",
    "        self.min_count=min_count\n",
    "        self.window=window\n",
    "        self.n_iter=n_iter\n",
    "\n",
    "    def preprocess(self, input_df):\n",
    "        x = text_normalization(input_df[self.column])\n",
    "        return x\n",
    "\n",
    "    def get_master(self, _master_df):\n",
    "        \"\"\"Word2Vecを学習するための全体集合を返す.\"\"\"\n",
    "        return _master_df\n",
    "\n",
    "    def fit(self, \n",
    "            input_df, \n",
    "            _master_df=None\n",
    "           ):\n",
    "        master_df = input_df if _master_df is None else self.get_master(_master_df)\n",
    "        text = self.preprocess(master_df)\n",
    "        word_lists = text.map(lambda x: [i for i in x.split(' ') if i not in (' ')])\n",
    "        self.w2v_model = word2vec.Word2Vec(word_lists.values.tolist(),\n",
    "                                      vector_size=self.model_size,\n",
    "                                      min_count=self.min_count,\n",
    "                                      window=self.window,\n",
    "                                      seed=SEED,\n",
    "                                      workers=1,\n",
    "                                      hashfxn=hashfxn,\n",
    "                                      epochs=self.n_iter)\n",
    "\n",
    "        return self.transform(input_df)\n",
    "\n",
    "    def transform(self, input_df):\n",
    "        text = self.preprocess(input_df)\n",
    "        word_lists = text.map(lambda x: [i for i in x.split(' ') if i not in (' ')])\n",
    "\n",
    "        # 各文章ごとにそれぞれの単語をベクトル表現に直し、平均をとって文章ベクトルにする\n",
    "        sentence_vectors = word_lists.progress_apply(\n",
    "            lambda x: np.mean([self.w2v_model.wv[e] for e in x], axis=0))\n",
    "        sentence_vectors = np.vstack([x for x in sentence_vectors])\n",
    "        sentence_vector_df = pd.DataFrame(sentence_vectors,\n",
    "                                          columns=[f\"w2v_{self.column}_w{self.window}_{i}\"\n",
    "                                                   for i in range(self.model_size)])\n",
    "        \n",
    "        return sentence_vector_df\n"
   ]
  },
  {
   "cell_type": "code",
   "execution_count": 19,
   "id": "biological-analyst",
   "metadata": {
    "execution": {
     "iopub.execute_input": "2021-06-12T04:12:38.290545Z",
     "iopub.status.busy": "2021-06-12T04:12:38.289826Z",
     "iopub.status.idle": "2021-06-12T04:12:38.293457Z",
     "shell.execute_reply": "2021-06-12T04:12:38.293036Z",
     "shell.execute_reply.started": "2021-06-12T03:58:54.608818Z"
    },
    "papermill": {
     "duration": 0.049208,
     "end_time": "2021-06-12T04:12:38.293556",
     "exception": false,
     "start_time": "2021-06-12T04:12:38.244348",
     "status": "completed"
    },
    "tags": []
   },
   "outputs": [],
   "source": [
    "# 記事からclassをコピペ。コード理解のために、コメント入れたり改造したりする。\n",
    "class BertSequenceVectorizer:\n",
    "    def __init__(self):\n",
    "        self.device = 'cuda' if torch.cuda.is_available() else 'cpu' # cudaが無いならcpuを使えばいいじゃない\n",
    "        self.model_name = '../input/huggingface-bert-variants/bert-base-cased/bert-base-cased/' # 学習済みモデルの名前を指定\n",
    "        self.tokenizer = BertTokenizer.from_pretrained(self.model_name) # 指定したmodel_nameでtokenizerを作成\n",
    "        self.bert_model = transformers.BertModel.from_pretrained(self.model_name) # 指定したmodel_nameで学習済みmodelを作成\n",
    "        self.bert_model = self.bert_model.to(self.device)\n",
    "        self.max_len = 176\n",
    "\n",
    "    def get_imp(self, sentence : str) -> np.array:\n",
    "        inp = self.tokenizer.encode(sentence)\n",
    "        len_inp = len(inp)\n",
    "        return [inp, len_inp]\n",
    "\n",
    "    def vectorize(self, sentence : str) -> np.array:\n",
    "        inp = self.tokenizer.encode(sentence)\n",
    "        len_inp = len(inp)\n",
    "\n",
    "        if len_inp >= self.max_len:\n",
    "            inputs = inp[:self.max_len]\n",
    "            masks = [1] * self.max_len\n",
    "        else:\n",
    "            inputs = inp + [0] * (self.max_len - len_inp)\n",
    "            masks = [1] * len_inp + [0] * (self.max_len - len_inp)\n",
    "\n",
    "        inputs_tensor = torch.tensor([inputs], dtype=torch.long).to(self.device)\n",
    "        masks_tensor = torch.tensor([masks], dtype=torch.long).to(self.device)\n",
    "\n",
    "        bert_out = self.bert_model(inputs_tensor, masks_tensor)\n",
    "        seq_out, pooled_out = bert_out['last_hidden_state'], bert_out['pooler_output']\n",
    "\n",
    "        if torch.cuda.is_available():    \n",
    "            return seq_out[0][0].cpu().detach().numpy() # 0番目は [CLS] token, 768 dim の文章特徴量\n",
    "        else:\n",
    "            return seq_out[0][0].detach().numpy()\n"
   ]
  },
  {
   "cell_type": "markdown",
   "id": "polar-avenue",
   "metadata": {
    "papermill": {
     "duration": 0.036164,
     "end_time": "2021-06-12T04:12:38.365751",
     "exception": false,
     "start_time": "2021-06-12T04:12:38.329587",
     "status": "completed"
    },
    "tags": []
   },
   "source": [
    "# make_feat"
   ]
  },
  {
   "cell_type": "code",
   "execution_count": 20,
   "id": "atomic-organic",
   "metadata": {
    "execution": {
     "iopub.execute_input": "2021-06-12T04:12:38.479003Z",
     "iopub.status.busy": "2021-06-12T04:12:38.478514Z",
     "iopub.status.idle": "2021-06-12T04:12:52.604278Z",
     "shell.execute_reply": "2021-06-12T04:12:52.603818Z",
     "shell.execute_reply.started": "2021-06-12T03:58:54.622196Z"
    },
    "papermill": {
     "duration": 14.202381,
     "end_time": "2021-06-12T04:12:52.604412",
     "exception": false,
     "start_time": "2021-06-12T04:12:38.402031",
     "status": "completed"
    },
    "tags": []
   },
   "outputs": [],
   "source": [
    "BSV = BertSequenceVectorizer()"
   ]
  },
  {
   "cell_type": "code",
   "execution_count": 21,
   "id": "protective-wheat",
   "metadata": {
    "execution": {
     "iopub.execute_input": "2021-06-12T04:12:52.688345Z",
     "iopub.status.busy": "2021-06-12T04:12:52.687482Z",
     "iopub.status.idle": "2021-06-12T04:13:46.717613Z",
     "shell.execute_reply": "2021-06-12T04:13:46.718232Z",
     "shell.execute_reply.started": "2021-06-12T03:59:07.198191Z"
    },
    "papermill": {
     "duration": 54.076423,
     "end_time": "2021-06-12T04:13:46.718484",
     "exception": false,
     "start_time": "2021-06-12T04:12:52.642061",
     "status": "completed"
    },
    "tags": []
   },
   "outputs": [
    {
     "name": "stderr",
     "output_type": "stream",
     "text": [
      "100%|██████████| 2834/2834 [00:53<00:00, 52.62it/s]\n",
      "100%|██████████| 7/7 [00:00<00:00, 51.33it/s]\n"
     ]
    }
   ],
   "source": [
    "text_bert_out = train_base['excerpt'].progress_apply(lambda x: BSV.vectorize(x))\n",
    "text_bert_test = test_base['excerpt'].progress_apply(lambda x: BSV.vectorize(x))\n",
    "\n",
    "df_bert_train = pd.DataFrame(np.stack(text_bert_out)).add_prefix('bert_pretrained_')\n",
    "df_bert_test = pd.DataFrame(np.stack(text_bert_test)).add_prefix('bert_pretrained_')"
   ]
  },
  {
   "cell_type": "code",
   "execution_count": 22,
   "id": "designed-spoke",
   "metadata": {
    "execution": {
     "iopub.execute_input": "2021-06-12T04:13:47.050300Z",
     "iopub.status.busy": "2021-06-12T04:13:47.049470Z",
     "iopub.status.idle": "2021-06-12T04:13:47.053134Z",
     "shell.execute_reply": "2021-06-12T04:13:47.052718Z",
     "shell.execute_reply.started": "2021-06-12T04:00:00.926520Z"
    },
    "papermill": {
     "duration": 0.173573,
     "end_time": "2021-06-12T04:13:47.053264",
     "exception": false,
     "start_time": "2021-06-12T04:13:46.879691",
     "status": "completed"
    },
    "tags": []
   },
   "outputs": [],
   "source": [
    "# 初期化\n",
    "train_feat = pd.DataFrame()\n",
    "test_feat = pd.DataFrame()\n",
    "train_target = train_base['target'].copy()\n",
    "\n",
    "# tfidf作成用のdf作成\n",
    "whole_df = pd.concat([train_base[['id', 'excerpt']], test_base[['id', 'excerpt']]], axis='rows')"
   ]
  },
  {
   "cell_type": "raw",
   "id": "functional-contrary",
   "metadata": {
    "papermill": {
     "duration": 0.158097,
     "end_time": "2021-06-12T04:13:47.370085",
     "exception": false,
     "start_time": "2021-06-12T04:13:47.211988",
     "status": "completed"
    },
    "tags": []
   },
   "source": [
    "# ローカル初回のみ実行\n",
    "from gensim import downloader\n",
    "gen_twi_model = downloader.load('glove-twitter-200')\n",
    "gen_ggl_model = downloader.load('word2vec-google-news-300')"
   ]
  },
  {
   "cell_type": "code",
   "execution_count": 23,
   "id": "municipal-jacob",
   "metadata": {
    "execution": {
     "iopub.execute_input": "2021-06-12T04:14:32.890596Z",
     "iopub.status.busy": "2021-06-12T04:14:32.647089Z",
     "iopub.status.idle": "2021-06-12T04:17:40.020655Z",
     "shell.execute_reply": "2021-06-12T04:17:40.020111Z",
     "shell.execute_reply.started": "2021-06-12T04:00:00.942801Z"
    },
    "papermill": {
     "duration": 232.489126,
     "end_time": "2021-06-12T04:17:40.020806",
     "exception": false,
     "start_time": "2021-06-12T04:13:47.531680",
     "status": "completed"
    },
    "tags": []
   },
   "outputs": [
    {
     "name": "stderr",
     "output_type": "stream",
     "text": [
      "Warning : `load_model` does not return WordVectorModel or SupervisedModel any more, but a `FastText` object which is very similar.\n"
     ]
    }
   ],
   "source": [
    "# モデル入手\n",
    "if 'kaggle_web_client' in sys.modules:  # kaggle環境\n",
    "    fast_path = '../input/fasttext-pretrained-crawl-vector-en-bin/cc.en.300.bin'\n",
    "    gen_glv_wiki_path = '../input/stanfords-glove-pretrained-word-vectors/glove.6B.300d.txt'\n",
    "    gen_glv_twi_path = '../input/glovetwitter27b-in-gensim-kv-format/glove.twitter.27B.200d.kv'\n",
    "    gen_ggl_path = '../input/gensim-google-data/GoogleNews-vectors-negative300.bin'\n",
    "\n",
    "    ft_model = fasttext.load_model(fast_path)\n",
    "    gen_glv_wiki_model = KeyedVectors.load_word2vec_format(gen_glv_wiki_path, binary=False)\n",
    "    #gen_glv_twi_model = KeyedVectors.load(gen_glv_twi_path)\n",
    "    #gen_ggl_model = KeyedVectors.load_word2vec_format(gen_ggl_path, binary=True)\n",
    "    \n",
    "else: # ローカルまたは自前のクラウド環境を想定\n",
    "    fast_path = '../97_pre_trained/cc.en.300.bin'\n",
    "    gen_glv_wiki_path = '~/gensim-data/glove-wiki-gigaword-300/glove-wiki-gigaword-300'\n",
    "    gen_glv_twi_path = '~/gensim-data/glove-twitter-200/glove-twitter-200.gz'\n",
    "    gen_ggl_path = '~/gensim-data/word2vec-google-news-300/word2vec-google-news-300.gz'\n",
    "\n",
    "    ft_model = fasttext.load_model('../97_pre_trained/cc.en.300.bin')\n",
    "    gen_glv_wiki_model = KeyedVectors.load_word2vec_format(gen_glv_wiki_path, binary=False)\n",
    "    #gen_glv_twi_model = KeyedVectors.load_word2vec_format(gen_glv_twi_path, binary=False)\n",
    "    #gen_ggl_model = KeyedVectors.load_word2vec_format(gen_ggl_path, binary=True)"
   ]
  },
  {
   "cell_type": "raw",
   "id": "intimate-wisdom",
   "metadata": {
    "papermill": {
     "duration": 0.156663,
     "end_time": "2021-06-12T04:17:40.339140",
     "exception": false,
     "start_time": "2021-06-12T04:17:40.182477",
     "status": "completed"
    },
    "tags": []
   },
   "source": [
    "# テキスト前処理\n",
    "# 品詞変換カラムの作成\n",
    "train_base['excerpt_pos'] = train_base['excerpt'].progress_map(get_pos_tag_to_text)\n",
    "test_base['excerpt_pos'] = test_base['excerpt'].progress_map(get_pos_tag_to_text)\n",
    "whole_df['excerpt_pos'] = whole_df['excerpt'].progress_map(get_pos_tag_to_text)"
   ]
  },
  {
   "cell_type": "code",
   "execution_count": 24,
   "id": "sitting-korea",
   "metadata": {
    "execution": {
     "iopub.execute_input": "2021-06-12T04:17:40.657679Z",
     "iopub.status.busy": "2021-06-12T04:17:40.656906Z",
     "iopub.status.idle": "2021-06-12T04:17:40.659671Z",
     "shell.execute_reply": "2021-06-12T04:17:40.659204Z",
     "shell.execute_reply.started": "2021-06-12T04:03:59.370305Z"
    },
    "papermill": {
     "duration": 0.164086,
     "end_time": "2021-06-12T04:17:40.659779",
     "exception": false,
     "start_time": "2021-06-12T04:17:40.495693",
     "status": "completed"
    },
    "tags": []
   },
   "outputs": [],
   "source": [
    "# block初期化\n",
    "gen_glv_wiki_aver = GensimPreTrainedBlock('excerpt'\n",
    "                                     ,gen_glv_wiki_model\n",
    "                                     ,model_name='glove_wiki_giga300'\n",
    "                                     ,swem='aver')"
   ]
  },
  {
   "cell_type": "code",
   "execution_count": 25,
   "id": "fuzzy-pricing",
   "metadata": {
    "execution": {
     "iopub.execute_input": "2021-06-12T04:17:40.979042Z",
     "iopub.status.busy": "2021-06-12T04:17:40.978233Z",
     "iopub.status.idle": "2021-06-12T04:17:40.981006Z",
     "shell.execute_reply": "2021-06-12T04:17:40.980591Z",
     "shell.execute_reply.started": "2021-06-12T04:03:59.377255Z"
    },
    "papermill": {
     "duration": 0.164211,
     "end_time": "2021-06-12T04:17:40.981110",
     "exception": false,
     "start_time": "2021-06-12T04:17:40.816899",
     "status": "completed"
    },
    "tags": []
   },
   "outputs": [],
   "source": [
    "# block初期化\n",
    "text_desc = TextDescriptionBlock('excerpt')\n",
    "fast = FasttextBlock('excerpt', ft_model)\n",
    "\n",
    "tfidf_uni = TfidfBlock('excerpt', ngram_range=(1,1))\n",
    "tfidf_bi = TfidfBlock('excerpt', ngram_range=(2,2))\n",
    "tfidf_uni_bi = TfidfBlock('excerpt', ngram_range=(1,2))\n",
    "\n",
    "w2v_w3 = W2VTrainBlock('excerpt', window=3)\n",
    "w2v_w10 = W2VTrainBlock('excerpt', window=10)\n",
    "w2v_w100 = W2VTrainBlock('excerpt', window=100)\n",
    "\n"
   ]
  },
  {
   "cell_type": "code",
   "execution_count": 26,
   "id": "brutal-stream",
   "metadata": {
    "execution": {
     "iopub.execute_input": "2021-06-12T04:17:41.494417Z",
     "iopub.status.busy": "2021-06-12T04:17:41.493608Z",
     "iopub.status.idle": "2021-06-12T04:21:50.207586Z",
     "shell.execute_reply": "2021-06-12T04:21:50.208177Z",
     "shell.execute_reply.started": "2021-06-12T04:03:59.393882Z"
    },
    "papermill": {
     "duration": 248.98597,
     "end_time": "2021-06-12T04:21:50.208418",
     "exception": false,
     "start_time": "2021-06-12T04:17:41.222448",
     "status": "completed"
    },
    "tags": []
   },
   "outputs": [
    {
     "name": "stderr",
     "output_type": "stream",
     "text": [
      "100%|██████████| 2834/2834 [00:00<00:00, 3823.96it/s]\n",
      "100%|██████████| 2834/2834 [00:00<00:00, 3828.18it/s]\n",
      "100%|██████████| 2834/2834 [00:00<00:00, 3812.57it/s]\n"
     ]
    }
   ],
   "source": [
    "# fit & trainの特徴作成\n",
    "train_feat = pd.concat([train_feat, gen_glv_wiki_aver.fit(train_base)], axis='columns')\n",
    "train_feat = pd.concat([train_feat, df_bert_train], axis='columns')\n",
    "\n",
    "# 単体で完結するもの\n",
    "train_feat = pd.concat([train_feat, text_desc.fit(train_base)], axis='columns')\n",
    "train_feat = pd.concat([train_feat, fast.fit(train_base)], axis='columns')\n",
    "\n",
    "# 対象dfとは別に、特徴作成用dfを指定するもの\n",
    "train_feat = pd.concat([train_feat, tfidf_uni.fit(train_base, whole_df)], axis='columns')\n",
    "train_feat = pd.concat([train_feat, tfidf_bi.fit(train_base, whole_df)], axis='columns')\n",
    "train_feat = pd.concat([train_feat, tfidf_uni_bi.fit(train_base, whole_df)], axis='columns')\n",
    "\n",
    "train_feat = pd.concat([train_feat, w2v_w3.fit(train_base, whole_df)], axis='columns')\n",
    "train_feat = pd.concat([train_feat, w2v_w10.fit(train_base, whole_df)], axis='columns')\n",
    "train_feat = pd.concat([train_feat, w2v_w100.fit(train_base, whole_df)], axis='columns')"
   ]
  },
  {
   "cell_type": "code",
   "execution_count": 27,
   "id": "minute-absolute",
   "metadata": {
    "execution": {
     "iopub.execute_input": "2021-06-12T04:21:50.550719Z",
     "iopub.status.busy": "2021-06-12T04:21:50.549796Z",
     "iopub.status.idle": "2021-06-12T04:21:50.662755Z",
     "shell.execute_reply": "2021-06-12T04:21:50.663356Z",
     "shell.execute_reply.started": "2021-06-12T04:08:03.998534Z"
    },
    "papermill": {
     "duration": 0.288639,
     "end_time": "2021-06-12T04:21:50.663542",
     "exception": false,
     "start_time": "2021-06-12T04:21:50.374903",
     "status": "completed"
    },
    "tags": []
   },
   "outputs": [
    {
     "name": "stderr",
     "output_type": "stream",
     "text": [
      "100%|██████████| 7/7 [00:00<00:00, 2001.10it/s]\n",
      "100%|██████████| 7/7 [00:00<00:00, 1983.93it/s]\n",
      "100%|██████████| 7/7 [00:00<00:00, 2326.84it/s]\n"
     ]
    }
   ],
   "source": [
    "# testの特徴作成\n",
    "test_feat = pd.concat([test_feat, gen_glv_wiki_aver.fit(test_base)], axis='columns')\n",
    "test_feat = pd.concat([test_feat, df_bert_test], axis='columns')\n",
    "\n",
    "# 単体で完結するもの\n",
    "test_feat = pd.concat([test_feat, text_desc.fit(test_base)], axis='columns')\n",
    "test_feat = pd.concat([test_feat, fast.fit(test_base)], axis='columns')\n",
    "\n",
    "# 対象dfとは別に、特徴作成用dfを指定するもの\n",
    "test_feat = pd.concat([test_feat, tfidf_uni.transform(test_base)], axis='columns')\n",
    "test_feat = pd.concat([test_feat, tfidf_bi.transform(test_base)], axis='columns')\n",
    "test_feat = pd.concat([test_feat, tfidf_uni_bi.transform(test_base)], axis='columns')\n",
    "\n",
    "test_feat = pd.concat([test_feat, w2v_w3.transform(test_base)], axis='columns')\n",
    "test_feat = pd.concat([test_feat, w2v_w10.transform(test_base)], axis='columns')\n",
    "test_feat = pd.concat([test_feat, w2v_w100.transform(test_base)], axis='columns')"
   ]
  },
  {
   "cell_type": "code",
   "execution_count": 28,
   "id": "defined-indie",
   "metadata": {
    "execution": {
     "iopub.execute_input": "2021-06-12T04:21:51.006004Z",
     "iopub.status.busy": "2021-06-12T04:21:51.005256Z",
     "iopub.status.idle": "2021-06-12T04:21:51.032273Z",
     "shell.execute_reply": "2021-06-12T04:21:51.033488Z",
     "shell.execute_reply.started": "2021-06-12T04:08:04.198383Z"
    },
    "papermill": {
     "duration": 0.201742,
     "end_time": "2021-06-12T04:21:51.033721",
     "exception": false,
     "start_time": "2021-06-12T04:21:50.831979",
     "status": "completed"
    },
    "tags": []
   },
   "outputs": [
    {
     "name": "stdout",
     "output_type": "stream",
     "text": [
      "(2834, 1680)\n"
     ]
    },
    {
     "data": {
      "text/html": [
       "<div>\n",
       "<style scoped>\n",
       "    .dataframe tbody tr th:only-of-type {\n",
       "        vertical-align: middle;\n",
       "    }\n",
       "\n",
       "    .dataframe tbody tr th {\n",
       "        vertical-align: top;\n",
       "    }\n",
       "\n",
       "    .dataframe thead th {\n",
       "        text-align: right;\n",
       "    }\n",
       "</style>\n",
       "<table border=\"1\" class=\"dataframe\">\n",
       "  <thead>\n",
       "    <tr style=\"text-align: right;\">\n",
       "      <th></th>\n",
       "      <th>glove_wiki_giga300_excerpt_aver0</th>\n",
       "      <th>glove_wiki_giga300_excerpt_aver1</th>\n",
       "      <th>glove_wiki_giga300_excerpt_aver2</th>\n",
       "      <th>glove_wiki_giga300_excerpt_aver3</th>\n",
       "      <th>glove_wiki_giga300_excerpt_aver4</th>\n",
       "      <th>glove_wiki_giga300_excerpt_aver5</th>\n",
       "      <th>glove_wiki_giga300_excerpt_aver6</th>\n",
       "      <th>glove_wiki_giga300_excerpt_aver7</th>\n",
       "      <th>glove_wiki_giga300_excerpt_aver8</th>\n",
       "      <th>glove_wiki_giga300_excerpt_aver9</th>\n",
       "      <th>...</th>\n",
       "      <th>w2v_excerpt_w100_40</th>\n",
       "      <th>w2v_excerpt_w100_41</th>\n",
       "      <th>w2v_excerpt_w100_42</th>\n",
       "      <th>w2v_excerpt_w100_43</th>\n",
       "      <th>w2v_excerpt_w100_44</th>\n",
       "      <th>w2v_excerpt_w100_45</th>\n",
       "      <th>w2v_excerpt_w100_46</th>\n",
       "      <th>w2v_excerpt_w100_47</th>\n",
       "      <th>w2v_excerpt_w100_48</th>\n",
       "      <th>w2v_excerpt_w100_49</th>\n",
       "    </tr>\n",
       "  </thead>\n",
       "  <tbody>\n",
       "    <tr>\n",
       "      <th>0</th>\n",
       "      <td>-0.132493</td>\n",
       "      <td>0.068383</td>\n",
       "      <td>-0.048596</td>\n",
       "      <td>-0.161134</td>\n",
       "      <td>-0.101473</td>\n",
       "      <td>0.079182</td>\n",
       "      <td>-0.041147</td>\n",
       "      <td>0.010564</td>\n",
       "      <td>0.018888</td>\n",
       "      <td>-0.752718</td>\n",
       "      <td>...</td>\n",
       "      <td>-0.213633</td>\n",
       "      <td>-0.947954</td>\n",
       "      <td>-0.244628</td>\n",
       "      <td>-0.613770</td>\n",
       "      <td>0.520466</td>\n",
       "      <td>2.124578</td>\n",
       "      <td>-0.821619</td>\n",
       "      <td>-1.668452</td>\n",
       "      <td>-0.654921</td>\n",
       "      <td>-1.473546</td>\n",
       "    </tr>\n",
       "    <tr>\n",
       "      <th>1</th>\n",
       "      <td>-0.077150</td>\n",
       "      <td>-0.018101</td>\n",
       "      <td>-0.086769</td>\n",
       "      <td>-0.086145</td>\n",
       "      <td>0.007795</td>\n",
       "      <td>-0.039690</td>\n",
       "      <td>-0.015103</td>\n",
       "      <td>-0.042072</td>\n",
       "      <td>-0.017759</td>\n",
       "      <td>-0.787286</td>\n",
       "      <td>...</td>\n",
       "      <td>-0.793883</td>\n",
       "      <td>0.260095</td>\n",
       "      <td>-1.413045</td>\n",
       "      <td>0.590218</td>\n",
       "      <td>-1.222832</td>\n",
       "      <td>-1.022302</td>\n",
       "      <td>-0.105953</td>\n",
       "      <td>-1.523520</td>\n",
       "      <td>-1.115514</td>\n",
       "      <td>0.190240</td>\n",
       "    </tr>\n",
       "    <tr>\n",
       "      <th>2</th>\n",
       "      <td>-0.066146</td>\n",
       "      <td>0.057035</td>\n",
       "      <td>-0.041531</td>\n",
       "      <td>0.012919</td>\n",
       "      <td>-0.061829</td>\n",
       "      <td>-0.003759</td>\n",
       "      <td>-0.046216</td>\n",
       "      <td>0.004215</td>\n",
       "      <td>-0.046633</td>\n",
       "      <td>-0.660977</td>\n",
       "      <td>...</td>\n",
       "      <td>-1.807194</td>\n",
       "      <td>0.675470</td>\n",
       "      <td>0.137883</td>\n",
       "      <td>-0.413545</td>\n",
       "      <td>0.579564</td>\n",
       "      <td>-0.950784</td>\n",
       "      <td>1.383236</td>\n",
       "      <td>-0.144618</td>\n",
       "      <td>-1.624159</td>\n",
       "      <td>-0.667663</td>\n",
       "    </tr>\n",
       "    <tr>\n",
       "      <th>3</th>\n",
       "      <td>-0.126935</td>\n",
       "      <td>-0.050144</td>\n",
       "      <td>0.009921</td>\n",
       "      <td>-0.140457</td>\n",
       "      <td>0.028346</td>\n",
       "      <td>0.072201</td>\n",
       "      <td>0.001486</td>\n",
       "      <td>0.045136</td>\n",
       "      <td>0.084098</td>\n",
       "      <td>-0.513308</td>\n",
       "      <td>...</td>\n",
       "      <td>0.437882</td>\n",
       "      <td>-1.889003</td>\n",
       "      <td>0.573963</td>\n",
       "      <td>-1.710328</td>\n",
       "      <td>-1.170265</td>\n",
       "      <td>1.027497</td>\n",
       "      <td>-1.043768</td>\n",
       "      <td>-0.553191</td>\n",
       "      <td>-0.675997</td>\n",
       "      <td>-0.337335</td>\n",
       "    </tr>\n",
       "    <tr>\n",
       "      <th>4</th>\n",
       "      <td>-0.088530</td>\n",
       "      <td>-0.015162</td>\n",
       "      <td>-0.114838</td>\n",
       "      <td>-0.152095</td>\n",
       "      <td>0.121770</td>\n",
       "      <td>0.126901</td>\n",
       "      <td>0.077093</td>\n",
       "      <td>0.182776</td>\n",
       "      <td>0.143334</td>\n",
       "      <td>-0.963848</td>\n",
       "      <td>...</td>\n",
       "      <td>-2.336066</td>\n",
       "      <td>-2.360359</td>\n",
       "      <td>-1.315974</td>\n",
       "      <td>-0.577261</td>\n",
       "      <td>-1.873832</td>\n",
       "      <td>-1.388939</td>\n",
       "      <td>0.218790</td>\n",
       "      <td>-2.945844</td>\n",
       "      <td>2.635510</td>\n",
       "      <td>-0.457167</td>\n",
       "    </tr>\n",
       "  </tbody>\n",
       "</table>\n",
       "<p>5 rows × 1680 columns</p>\n",
       "</div>"
      ],
      "text/plain": [
       "   glove_wiki_giga300_excerpt_aver0  glove_wiki_giga300_excerpt_aver1  \\\n",
       "0                         -0.132493                          0.068383   \n",
       "1                         -0.077150                         -0.018101   \n",
       "2                         -0.066146                          0.057035   \n",
       "3                         -0.126935                         -0.050144   \n",
       "4                         -0.088530                         -0.015162   \n",
       "\n",
       "   glove_wiki_giga300_excerpt_aver2  glove_wiki_giga300_excerpt_aver3  \\\n",
       "0                         -0.048596                         -0.161134   \n",
       "1                         -0.086769                         -0.086145   \n",
       "2                         -0.041531                          0.012919   \n",
       "3                          0.009921                         -0.140457   \n",
       "4                         -0.114838                         -0.152095   \n",
       "\n",
       "   glove_wiki_giga300_excerpt_aver4  glove_wiki_giga300_excerpt_aver5  \\\n",
       "0                         -0.101473                          0.079182   \n",
       "1                          0.007795                         -0.039690   \n",
       "2                         -0.061829                         -0.003759   \n",
       "3                          0.028346                          0.072201   \n",
       "4                          0.121770                          0.126901   \n",
       "\n",
       "   glove_wiki_giga300_excerpt_aver6  glove_wiki_giga300_excerpt_aver7  \\\n",
       "0                         -0.041147                          0.010564   \n",
       "1                         -0.015103                         -0.042072   \n",
       "2                         -0.046216                          0.004215   \n",
       "3                          0.001486                          0.045136   \n",
       "4                          0.077093                          0.182776   \n",
       "\n",
       "   glove_wiki_giga300_excerpt_aver8  glove_wiki_giga300_excerpt_aver9  ...  \\\n",
       "0                          0.018888                         -0.752718  ...   \n",
       "1                         -0.017759                         -0.787286  ...   \n",
       "2                         -0.046633                         -0.660977  ...   \n",
       "3                          0.084098                         -0.513308  ...   \n",
       "4                          0.143334                         -0.963848  ...   \n",
       "\n",
       "   w2v_excerpt_w100_40  w2v_excerpt_w100_41  w2v_excerpt_w100_42  \\\n",
       "0            -0.213633            -0.947954            -0.244628   \n",
       "1            -0.793883             0.260095            -1.413045   \n",
       "2            -1.807194             0.675470             0.137883   \n",
       "3             0.437882            -1.889003             0.573963   \n",
       "4            -2.336066            -2.360359            -1.315974   \n",
       "\n",
       "   w2v_excerpt_w100_43  w2v_excerpt_w100_44  w2v_excerpt_w100_45  \\\n",
       "0            -0.613770             0.520466             2.124578   \n",
       "1             0.590218            -1.222832            -1.022302   \n",
       "2            -0.413545             0.579564            -0.950784   \n",
       "3            -1.710328            -1.170265             1.027497   \n",
       "4            -0.577261            -1.873832            -1.388939   \n",
       "\n",
       "   w2v_excerpt_w100_46  w2v_excerpt_w100_47  w2v_excerpt_w100_48  \\\n",
       "0            -0.821619            -1.668452            -0.654921   \n",
       "1            -0.105953            -1.523520            -1.115514   \n",
       "2             1.383236            -0.144618            -1.624159   \n",
       "3            -1.043768            -0.553191            -0.675997   \n",
       "4             0.218790            -2.945844             2.635510   \n",
       "\n",
       "   w2v_excerpt_w100_49  \n",
       "0            -1.473546  \n",
       "1             0.190240  \n",
       "2            -0.667663  \n",
       "3            -0.337335  \n",
       "4            -0.457167  \n",
       "\n",
       "[5 rows x 1680 columns]"
      ]
     },
     "execution_count": 28,
     "metadata": {},
     "output_type": "execute_result"
    }
   ],
   "source": [
    "print(train_feat.shape)\n",
    "train_feat.head()"
   ]
  },
  {
   "cell_type": "code",
   "execution_count": 29,
   "id": "sharing-keyboard",
   "metadata": {
    "execution": {
     "iopub.execute_input": "2021-06-12T04:21:51.392285Z",
     "iopub.status.busy": "2021-06-12T04:21:51.391512Z",
     "iopub.status.idle": "2021-06-12T04:21:51.413565Z",
     "shell.execute_reply": "2021-06-12T04:21:51.413108Z",
     "shell.execute_reply.started": "2021-06-12T04:08:04.247574Z"
    },
    "papermill": {
     "duration": 0.195153,
     "end_time": "2021-06-12T04:21:51.413677",
     "exception": false,
     "start_time": "2021-06-12T04:21:51.218524",
     "status": "completed"
    },
    "tags": []
   },
   "outputs": [
    {
     "name": "stdout",
     "output_type": "stream",
     "text": [
      "(7, 1680)\n"
     ]
    },
    {
     "data": {
      "text/html": [
       "<div>\n",
       "<style scoped>\n",
       "    .dataframe tbody tr th:only-of-type {\n",
       "        vertical-align: middle;\n",
       "    }\n",
       "\n",
       "    .dataframe tbody tr th {\n",
       "        vertical-align: top;\n",
       "    }\n",
       "\n",
       "    .dataframe thead th {\n",
       "        text-align: right;\n",
       "    }\n",
       "</style>\n",
       "<table border=\"1\" class=\"dataframe\">\n",
       "  <thead>\n",
       "    <tr style=\"text-align: right;\">\n",
       "      <th></th>\n",
       "      <th>glove_wiki_giga300_excerpt_aver0</th>\n",
       "      <th>glove_wiki_giga300_excerpt_aver1</th>\n",
       "      <th>glove_wiki_giga300_excerpt_aver2</th>\n",
       "      <th>glove_wiki_giga300_excerpt_aver3</th>\n",
       "      <th>glove_wiki_giga300_excerpt_aver4</th>\n",
       "      <th>glove_wiki_giga300_excerpt_aver5</th>\n",
       "      <th>glove_wiki_giga300_excerpt_aver6</th>\n",
       "      <th>glove_wiki_giga300_excerpt_aver7</th>\n",
       "      <th>glove_wiki_giga300_excerpt_aver8</th>\n",
       "      <th>glove_wiki_giga300_excerpt_aver9</th>\n",
       "      <th>...</th>\n",
       "      <th>w2v_excerpt_w100_40</th>\n",
       "      <th>w2v_excerpt_w100_41</th>\n",
       "      <th>w2v_excerpt_w100_42</th>\n",
       "      <th>w2v_excerpt_w100_43</th>\n",
       "      <th>w2v_excerpt_w100_44</th>\n",
       "      <th>w2v_excerpt_w100_45</th>\n",
       "      <th>w2v_excerpt_w100_46</th>\n",
       "      <th>w2v_excerpt_w100_47</th>\n",
       "      <th>w2v_excerpt_w100_48</th>\n",
       "      <th>w2v_excerpt_w100_49</th>\n",
       "    </tr>\n",
       "  </thead>\n",
       "  <tbody>\n",
       "    <tr>\n",
       "      <th>0</th>\n",
       "      <td>-0.078179</td>\n",
       "      <td>-0.073587</td>\n",
       "      <td>-0.035312</td>\n",
       "      <td>-0.099673</td>\n",
       "      <td>-0.049428</td>\n",
       "      <td>-0.043395</td>\n",
       "      <td>0.017952</td>\n",
       "      <td>0.095954</td>\n",
       "      <td>0.043515</td>\n",
       "      <td>-1.248539</td>\n",
       "      <td>...</td>\n",
       "      <td>-0.183172</td>\n",
       "      <td>1.297339</td>\n",
       "      <td>1.132513</td>\n",
       "      <td>-0.526277</td>\n",
       "      <td>1.118075</td>\n",
       "      <td>-0.255076</td>\n",
       "      <td>0.272906</td>\n",
       "      <td>-0.035040</td>\n",
       "      <td>-1.063254</td>\n",
       "      <td>-2.417068</td>\n",
       "    </tr>\n",
       "    <tr>\n",
       "      <th>1</th>\n",
       "      <td>-0.120849</td>\n",
       "      <td>0.108297</td>\n",
       "      <td>-0.061911</td>\n",
       "      <td>-0.038419</td>\n",
       "      <td>0.052452</td>\n",
       "      <td>-0.036205</td>\n",
       "      <td>0.069263</td>\n",
       "      <td>0.010547</td>\n",
       "      <td>0.004923</td>\n",
       "      <td>-0.998682</td>\n",
       "      <td>...</td>\n",
       "      <td>-0.496733</td>\n",
       "      <td>-0.455593</td>\n",
       "      <td>-1.485470</td>\n",
       "      <td>-0.837052</td>\n",
       "      <td>-0.883535</td>\n",
       "      <td>-0.024641</td>\n",
       "      <td>0.163358</td>\n",
       "      <td>-0.891837</td>\n",
       "      <td>-1.216260</td>\n",
       "      <td>2.078953</td>\n",
       "    </tr>\n",
       "    <tr>\n",
       "      <th>2</th>\n",
       "      <td>-0.168833</td>\n",
       "      <td>-0.021294</td>\n",
       "      <td>0.025423</td>\n",
       "      <td>-0.128907</td>\n",
       "      <td>-0.046154</td>\n",
       "      <td>0.008616</td>\n",
       "      <td>-0.089749</td>\n",
       "      <td>-0.083027</td>\n",
       "      <td>-0.001132</td>\n",
       "      <td>-0.637801</td>\n",
       "      <td>...</td>\n",
       "      <td>-1.926693</td>\n",
       "      <td>0.117187</td>\n",
       "      <td>-0.579405</td>\n",
       "      <td>-0.652059</td>\n",
       "      <td>-1.887502</td>\n",
       "      <td>0.345656</td>\n",
       "      <td>0.388834</td>\n",
       "      <td>-0.362857</td>\n",
       "      <td>-0.598526</td>\n",
       "      <td>-1.015412</td>\n",
       "    </tr>\n",
       "    <tr>\n",
       "      <th>3</th>\n",
       "      <td>-0.233050</td>\n",
       "      <td>0.207927</td>\n",
       "      <td>-0.140284</td>\n",
       "      <td>-0.187197</td>\n",
       "      <td>-0.082320</td>\n",
       "      <td>0.138931</td>\n",
       "      <td>-0.034752</td>\n",
       "      <td>-0.035099</td>\n",
       "      <td>0.194923</td>\n",
       "      <td>-1.146375</td>\n",
       "      <td>...</td>\n",
       "      <td>-1.879465</td>\n",
       "      <td>-0.045375</td>\n",
       "      <td>-0.217526</td>\n",
       "      <td>-1.757380</td>\n",
       "      <td>-0.799438</td>\n",
       "      <td>-1.972985</td>\n",
       "      <td>-0.570748</td>\n",
       "      <td>2.863896</td>\n",
       "      <td>-0.743020</td>\n",
       "      <td>-0.260218</td>\n",
       "    </tr>\n",
       "    <tr>\n",
       "      <th>4</th>\n",
       "      <td>-0.069997</td>\n",
       "      <td>0.028082</td>\n",
       "      <td>0.099395</td>\n",
       "      <td>-0.183581</td>\n",
       "      <td>0.018904</td>\n",
       "      <td>-0.038261</td>\n",
       "      <td>0.014868</td>\n",
       "      <td>0.044082</td>\n",
       "      <td>0.103041</td>\n",
       "      <td>-1.229965</td>\n",
       "      <td>...</td>\n",
       "      <td>1.393699</td>\n",
       "      <td>0.256351</td>\n",
       "      <td>-0.942764</td>\n",
       "      <td>2.979254</td>\n",
       "      <td>-0.810327</td>\n",
       "      <td>-0.875838</td>\n",
       "      <td>1.664090</td>\n",
       "      <td>0.792979</td>\n",
       "      <td>1.004389</td>\n",
       "      <td>1.064592</td>\n",
       "    </tr>\n",
       "  </tbody>\n",
       "</table>\n",
       "<p>5 rows × 1680 columns</p>\n",
       "</div>"
      ],
      "text/plain": [
       "   glove_wiki_giga300_excerpt_aver0  glove_wiki_giga300_excerpt_aver1  \\\n",
       "0                         -0.078179                         -0.073587   \n",
       "1                         -0.120849                          0.108297   \n",
       "2                         -0.168833                         -0.021294   \n",
       "3                         -0.233050                          0.207927   \n",
       "4                         -0.069997                          0.028082   \n",
       "\n",
       "   glove_wiki_giga300_excerpt_aver2  glove_wiki_giga300_excerpt_aver3  \\\n",
       "0                         -0.035312                         -0.099673   \n",
       "1                         -0.061911                         -0.038419   \n",
       "2                          0.025423                         -0.128907   \n",
       "3                         -0.140284                         -0.187197   \n",
       "4                          0.099395                         -0.183581   \n",
       "\n",
       "   glove_wiki_giga300_excerpt_aver4  glove_wiki_giga300_excerpt_aver5  \\\n",
       "0                         -0.049428                         -0.043395   \n",
       "1                          0.052452                         -0.036205   \n",
       "2                         -0.046154                          0.008616   \n",
       "3                         -0.082320                          0.138931   \n",
       "4                          0.018904                         -0.038261   \n",
       "\n",
       "   glove_wiki_giga300_excerpt_aver6  glove_wiki_giga300_excerpt_aver7  \\\n",
       "0                          0.017952                          0.095954   \n",
       "1                          0.069263                          0.010547   \n",
       "2                         -0.089749                         -0.083027   \n",
       "3                         -0.034752                         -0.035099   \n",
       "4                          0.014868                          0.044082   \n",
       "\n",
       "   glove_wiki_giga300_excerpt_aver8  glove_wiki_giga300_excerpt_aver9  ...  \\\n",
       "0                          0.043515                         -1.248539  ...   \n",
       "1                          0.004923                         -0.998682  ...   \n",
       "2                         -0.001132                         -0.637801  ...   \n",
       "3                          0.194923                         -1.146375  ...   \n",
       "4                          0.103041                         -1.229965  ...   \n",
       "\n",
       "   w2v_excerpt_w100_40  w2v_excerpt_w100_41  w2v_excerpt_w100_42  \\\n",
       "0            -0.183172             1.297339             1.132513   \n",
       "1            -0.496733            -0.455593            -1.485470   \n",
       "2            -1.926693             0.117187            -0.579405   \n",
       "3            -1.879465            -0.045375            -0.217526   \n",
       "4             1.393699             0.256351            -0.942764   \n",
       "\n",
       "   w2v_excerpt_w100_43  w2v_excerpt_w100_44  w2v_excerpt_w100_45  \\\n",
       "0            -0.526277             1.118075            -0.255076   \n",
       "1            -0.837052            -0.883535            -0.024641   \n",
       "2            -0.652059            -1.887502             0.345656   \n",
       "3            -1.757380            -0.799438            -1.972985   \n",
       "4             2.979254            -0.810327            -0.875838   \n",
       "\n",
       "   w2v_excerpt_w100_46  w2v_excerpt_w100_47  w2v_excerpt_w100_48  \\\n",
       "0             0.272906            -0.035040            -1.063254   \n",
       "1             0.163358            -0.891837            -1.216260   \n",
       "2             0.388834            -0.362857            -0.598526   \n",
       "3            -0.570748             2.863896            -0.743020   \n",
       "4             1.664090             0.792979             1.004389   \n",
       "\n",
       "   w2v_excerpt_w100_49  \n",
       "0            -2.417068  \n",
       "1             2.078953  \n",
       "2            -1.015412  \n",
       "3            -0.260218  \n",
       "4             1.064592  \n",
       "\n",
       "[5 rows x 1680 columns]"
      ]
     },
     "execution_count": 29,
     "metadata": {},
     "output_type": "execute_result"
    }
   ],
   "source": [
    "print(test_feat.shape)\n",
    "test_feat.head()"
   ]
  },
  {
   "cell_type": "code",
   "execution_count": 30,
   "id": "duplicate-return",
   "metadata": {
    "execution": {
     "iopub.execute_input": "2021-06-12T04:21:51.791092Z",
     "iopub.status.busy": "2021-06-12T04:21:51.790524Z",
     "iopub.status.idle": "2021-06-12T04:21:51.794754Z",
     "shell.execute_reply": "2021-06-12T04:21:51.794123Z",
     "shell.execute_reply.started": "2021-06-12T04:08:04.298253Z"
    },
    "papermill": {
     "duration": 0.213303,
     "end_time": "2021-06-12T04:21:51.794920",
     "exception": false,
     "start_time": "2021-06-12T04:21:51.581617",
     "status": "completed"
    },
    "tags": []
   },
   "outputs": [
    {
     "name": "stdout",
     "output_type": "stream",
     "text": [
      "(2834, 1680)\n",
      "(7, 1680)\n"
     ]
    }
   ],
   "source": [
    "print(train_feat.shape)\n",
    "print(test_feat.shape)"
   ]
  },
  {
   "cell_type": "markdown",
   "id": "concerned-baltimore",
   "metadata": {
    "papermill": {
     "duration": 0.169598,
     "end_time": "2021-06-12T04:21:52.135361",
     "exception": false,
     "start_time": "2021-06-12T04:21:51.965763",
     "status": "completed"
    },
    "tags": []
   },
   "source": [
    "# train & predict"
   ]
  },
  {
   "cell_type": "code",
   "execution_count": 31,
   "id": "necessary-webmaster",
   "metadata": {
    "execution": {
     "iopub.execute_input": "2021-06-12T04:21:52.479536Z",
     "iopub.status.busy": "2021-06-12T04:21:52.478692Z",
     "iopub.status.idle": "2021-06-12T04:21:52.481180Z",
     "shell.execute_reply": "2021-06-12T04:21:52.480791Z",
     "shell.execute_reply.started": "2021-06-12T04:08:04.312112Z"
    },
    "papermill": {
     "duration": 0.175368,
     "end_time": "2021-06-12T04:21:52.481305",
     "exception": false,
     "start_time": "2021-06-12T04:21:52.305937",
     "status": "completed"
    },
    "tags": []
   },
   "outputs": [],
   "source": [
    "from sklearn.model_selection import KFold\n",
    "\n",
    "def kfold_cv(X, y, n_splits=5, random_state=0):\n",
    "    folds = KFold(n_splits=n_splits, random_state=0, shuffle=True)\n",
    "    return list(folds.split(X, y))"
   ]
  },
  {
   "cell_type": "code",
   "execution_count": 32,
   "id": "upper-softball",
   "metadata": {
    "execution": {
     "iopub.execute_input": "2021-06-12T04:21:52.821713Z",
     "iopub.status.busy": "2021-06-12T04:21:52.820912Z",
     "iopub.status.idle": "2021-06-12T04:21:52.824590Z",
     "shell.execute_reply": "2021-06-12T04:21:52.824998Z",
     "shell.execute_reply.started": "2021-06-12T04:08:04.325160Z"
    },
    "papermill": {
     "duration": 0.176101,
     "end_time": "2021-06-12T04:21:52.825126",
     "exception": false,
     "start_time": "2021-06-12T04:21:52.649025",
     "status": "completed"
    },
    "tags": []
   },
   "outputs": [],
   "source": [
    "target = 'target'\n",
    "cv = kfold_cv(train_feat, train_target)"
   ]
  },
  {
   "cell_type": "code",
   "execution_count": 33,
   "id": "ecological-canada",
   "metadata": {
    "execution": {
     "iopub.execute_input": "2021-06-12T04:21:53.173277Z",
     "iopub.status.busy": "2021-06-12T04:21:53.172511Z",
     "iopub.status.idle": "2021-06-12T04:21:53.174732Z",
     "shell.execute_reply": "2021-06-12T04:21:53.175096Z",
     "shell.execute_reply.started": "2021-06-12T04:08:04.340383Z"
    },
    "papermill": {
     "duration": 0.176348,
     "end_time": "2021-06-12T04:21:53.175239",
     "exception": false,
     "start_time": "2021-06-12T04:21:52.998891",
     "status": "completed"
    },
    "tags": []
   },
   "outputs": [],
   "source": [
    "params = {\n",
    "    'objective': 'regression',\n",
    "    'metrics': 'rmse',\n",
    "    'seed': SEED\n",
    "}"
   ]
  },
  {
   "cell_type": "code",
   "execution_count": 34,
   "id": "stable-arena",
   "metadata": {
    "execution": {
     "iopub.execute_input": "2021-06-12T04:21:53.515901Z",
     "iopub.status.busy": "2021-06-12T04:21:53.515136Z",
     "iopub.status.idle": "2021-06-12T04:21:53.517331Z",
     "shell.execute_reply": "2021-06-12T04:21:53.517745Z",
     "shell.execute_reply.started": "2021-06-12T04:08:04.353291Z"
    },
    "papermill": {
     "duration": 0.173937,
     "end_time": "2021-06-12T04:21:53.517873",
     "exception": false,
     "start_time": "2021-06-12T04:21:53.343936",
     "status": "completed"
    },
    "tags": []
   },
   "outputs": [],
   "source": [
    "from sklearn.metrics import mean_squared_error, mean_squared_log_error"
   ]
  },
  {
   "cell_type": "code",
   "execution_count": 35,
   "id": "emerging-electronics",
   "metadata": {
    "execution": {
     "iopub.execute_input": "2021-06-12T04:21:53.869476Z",
     "iopub.status.busy": "2021-06-12T04:21:53.868058Z",
     "iopub.status.idle": "2021-06-12T04:24:29.472828Z",
     "shell.execute_reply": "2021-06-12T04:24:29.472384Z",
     "shell.execute_reply.started": "2021-06-12T04:08:04.363595Z"
    },
    "papermill": {
     "duration": 155.785956,
     "end_time": "2021-06-12T04:24:29.472958",
     "exception": false,
     "start_time": "2021-06-12T04:21:53.687002",
     "status": "completed"
    },
    "scrolled": true,
    "tags": []
   },
   "outputs": [
    {
     "name": "stdout",
     "output_type": "stream",
     "text": [
      "\n",
      "Fold 1\n",
      "[LightGBM] [Warning] Auto-choosing col-wise multi-threading, the overhead of testing was 0.047664 seconds.\n",
      "You can set `force_col_wise=true` to remove the overhead.\n",
      "[LightGBM] [Info] Total Bins 426568\n",
      "[LightGBM] [Info] Number of data points in the train set: 2267, number of used features: 1680\n",
      "[LightGBM] [Info] Start training from score -0.961023\n",
      "Training until validation scores don't improve for 20 rounds\n",
      "[50]\ttraining's rmse: 0.22492\tvalid's rmse: 0.630172\n",
      "[100]\ttraining's rmse: 0.0849433\tvalid's rmse: 0.622747\n",
      "[150]\ttraining's rmse: 0.033939\tvalid's rmse: 0.62113\n",
      "Early stopping, best iteration is:\n",
      "[139]\ttraining's rmse: 0.0416226\tvalid's rmse: 0.620881\n",
      "\n",
      "Fold 2\n",
      "[LightGBM] [Warning] Auto-choosing col-wise multi-threading, the overhead of testing was 0.044301 seconds.\n",
      "You can set `force_col_wise=true` to remove the overhead.\n",
      "[LightGBM] [Info] Total Bins 426569\n",
      "[LightGBM] [Info] Number of data points in the train set: 2267, number of used features: 1680\n",
      "[LightGBM] [Info] Start training from score -0.946950\n",
      "Training until validation scores don't improve for 20 rounds\n",
      "[50]\ttraining's rmse: 0.225219\tvalid's rmse: 0.633445\n",
      "[100]\ttraining's rmse: 0.0844089\tvalid's rmse: 0.629256\n",
      "Early stopping, best iteration is:\n",
      "[113]\ttraining's rmse: 0.0660143\tvalid's rmse: 0.628383\n",
      "\n",
      "Fold 3\n",
      "[LightGBM] [Warning] Auto-choosing col-wise multi-threading, the overhead of testing was 0.048404 seconds.\n",
      "You can set `force_col_wise=true` to remove the overhead.\n",
      "[LightGBM] [Info] Total Bins 426572\n",
      "[LightGBM] [Info] Number of data points in the train set: 2267, number of used features: 1680\n",
      "[LightGBM] [Info] Start training from score -0.970257\n",
      "Training until validation scores don't improve for 20 rounds\n",
      "[50]\ttraining's rmse: 0.226697\tvalid's rmse: 0.629957\n",
      "[100]\ttraining's rmse: 0.0844012\tvalid's rmse: 0.622319\n",
      "[150]\ttraining's rmse: 0.033942\tvalid's rmse: 0.61966\n",
      "Early stopping, best iteration is:\n",
      "[170]\ttraining's rmse: 0.0237596\tvalid's rmse: 0.61942\n",
      "\n",
      "Fold 4\n",
      "[LightGBM] [Warning] Auto-choosing col-wise multi-threading, the overhead of testing was 0.045883 seconds.\n",
      "You can set `force_col_wise=true` to remove the overhead.\n",
      "[LightGBM] [Info] Total Bins 426572\n",
      "[LightGBM] [Info] Number of data points in the train set: 2267, number of used features: 1680\n",
      "[LightGBM] [Info] Start training from score -0.954341\n",
      "Training until validation scores don't improve for 20 rounds\n",
      "[50]\ttraining's rmse: 0.224885\tvalid's rmse: 0.629761\n",
      "[100]\ttraining's rmse: 0.0857675\tvalid's rmse: 0.623483\n",
      "Early stopping, best iteration is:\n",
      "[95]\ttraining's rmse: 0.0939602\tvalid's rmse: 0.622828\n",
      "\n",
      "Fold 5\n",
      "[LightGBM] [Warning] Auto-choosing col-wise multi-threading, the overhead of testing was 0.046304 seconds.\n",
      "You can set `force_col_wise=true` to remove the overhead.\n",
      "[LightGBM] [Info] Total Bins 426569\n",
      "[LightGBM] [Info] Number of data points in the train set: 2268, number of used features: 1680\n",
      "[LightGBM] [Info] Start training from score -0.964019\n",
      "Training until validation scores don't improve for 20 rounds\n",
      "[50]\ttraining's rmse: 0.227885\tvalid's rmse: 0.618468\n",
      "[100]\ttraining's rmse: 0.0866435\tvalid's rmse: 0.614184\n",
      "Early stopping, best iteration is:\n",
      "[101]\ttraining's rmse: 0.0850775\tvalid's rmse: 0.614129\n",
      "Mean RMSE: 0.6211281066582666, std: 0.004636338725284511, All RMSE: 0.6211478729076583\n"
     ]
    }
   ],
   "source": [
    "oof_preds = np.zeros(len(train_feat))\n",
    "test_preds = np.zeros(len(test_feat))\n",
    "\n",
    "importances = pd.DataFrame()\n",
    "scores = []\n",
    "models = []\n",
    "\n",
    "for i, (train_index, valid_index) in enumerate(cv):\n",
    "    print(f'\\nFold {i + 1}')\n",
    "    trn_x, trn_y = train_feat.iloc[train_index], train_target.iloc[train_index]\n",
    "    val_x, val_y = train_feat.iloc[valid_index], train_target.iloc[valid_index]\n",
    "    \n",
    "    #dtrain = lgb.Dataset(trn_x, trn_y, categorical_feature = ['LE_' + val_ for val_ in le_categories])\n",
    "    #dvalid = lgb.Dataset(val_x, val_y, categorical_feature = ['LE_' + val_ for val_ in le_categories])\n",
    "\n",
    "    dtrain = lgb.Dataset(trn_x, trn_y)\n",
    "    dvalid = lgb.Dataset(val_x, val_y)\n",
    "\n",
    "    model = lgb.train(\n",
    "        params,\n",
    "        train_set=dtrain,\n",
    "        num_boost_round=100000,\n",
    "        valid_sets=[dtrain, dvalid],\n",
    "        valid_names=['training', 'valid'],\n",
    "        early_stopping_rounds=20,\n",
    "        verbose_eval=50\n",
    "    )\n",
    "    \n",
    "    val_preds = model.predict(val_x)\n",
    "    oof_preds[valid_index] = val_preds\n",
    "    test_preds += model.predict(test_feat) / 5\n",
    "    \n",
    "    val_score = model.best_score['valid']['rmse']\n",
    "    scores.append(val_score)\n",
    "    models.append(model)\n",
    "    \n",
    "    imp_df = pd.DataFrame({\n",
    "        'feature': model.feature_name(),\n",
    "        'gain': model.feature_importance(importance_type='gain'),\n",
    "        'fold': i+1\n",
    "    })\n",
    "    \n",
    "    importances = pd.concat([importances, imp_df], axis=0)\n",
    "    \n",
    "mean_score = np.mean(scores)\n",
    "std_score  = np.std(scores)\n",
    "all_score  = np.sqrt(mean_squared_error(train_target, oof_preds))\n",
    "metrics_name = 'RMSE'\n",
    "print(f'Mean {metrics_name}: {mean_score}, std: {std_score}, All {metrics_name}: {all_score}')"
   ]
  },
  {
   "cell_type": "code",
   "execution_count": 36,
   "id": "actual-central",
   "metadata": {
    "execution": {
     "iopub.execute_input": "2021-06-12T04:24:29.833922Z",
     "iopub.status.busy": "2021-06-12T04:24:29.833388Z",
     "iopub.status.idle": "2021-06-12T04:24:29.845472Z",
     "shell.execute_reply": "2021-06-12T04:24:29.844981Z",
     "shell.execute_reply.started": "2021-06-12T04:10:44.984893Z"
    },
    "papermill": {
     "duration": 0.193544,
     "end_time": "2021-06-12T04:24:29.845584",
     "exception": false,
     "start_time": "2021-06-12T04:24:29.652040",
     "status": "completed"
    },
    "tags": []
   },
   "outputs": [],
   "source": [
    "sample['target'] = test_preds\n",
    "\n",
    "if 'kaggle_web_client' in sys.modules:  # kaggle環境\n",
    "    sample.to_csv('submission.csv',index=False)\n",
    "else:\n",
    "    sample.to_csv(OUTPUT_DIR/'submission.csv',index=False)"
   ]
  },
  {
   "cell_type": "code",
   "execution_count": 37,
   "id": "short-poultry",
   "metadata": {
    "execution": {
     "iopub.execute_input": "2021-06-12T04:24:30.226192Z",
     "iopub.status.busy": "2021-06-12T04:24:30.225247Z",
     "iopub.status.idle": "2021-06-12T04:24:30.229608Z",
     "shell.execute_reply": "2021-06-12T04:24:30.230068Z",
     "shell.execute_reply.started": "2021-06-12T04:10:45.003545Z"
    },
    "papermill": {
     "duration": 0.193637,
     "end_time": "2021-06-12T04:24:30.230220",
     "exception": false,
     "start_time": "2021-06-12T04:24:30.036583",
     "status": "completed"
    },
    "tags": []
   },
   "outputs": [
    {
     "name": "stdout",
     "output_type": "stream",
     "text": [
      "(7, 2)\n"
     ]
    },
    {
     "data": {
      "text/html": [
       "<div>\n",
       "<style scoped>\n",
       "    .dataframe tbody tr th:only-of-type {\n",
       "        vertical-align: middle;\n",
       "    }\n",
       "\n",
       "    .dataframe tbody tr th {\n",
       "        vertical-align: top;\n",
       "    }\n",
       "\n",
       "    .dataframe thead th {\n",
       "        text-align: right;\n",
       "    }\n",
       "</style>\n",
       "<table border=\"1\" class=\"dataframe\">\n",
       "  <thead>\n",
       "    <tr style=\"text-align: right;\">\n",
       "      <th></th>\n",
       "      <th>id</th>\n",
       "      <th>target</th>\n",
       "    </tr>\n",
       "  </thead>\n",
       "  <tbody>\n",
       "    <tr>\n",
       "      <th>0</th>\n",
       "      <td>c0f722661</td>\n",
       "      <td>-0.767918</td>\n",
       "    </tr>\n",
       "    <tr>\n",
       "      <th>1</th>\n",
       "      <td>f0953f0a5</td>\n",
       "      <td>-0.177112</td>\n",
       "    </tr>\n",
       "    <tr>\n",
       "      <th>2</th>\n",
       "      <td>0df072751</td>\n",
       "      <td>-0.593134</td>\n",
       "    </tr>\n",
       "    <tr>\n",
       "      <th>3</th>\n",
       "      <td>04caf4e0c</td>\n",
       "      <td>-1.958051</td>\n",
       "    </tr>\n",
       "    <tr>\n",
       "      <th>4</th>\n",
       "      <td>0e63f8bea</td>\n",
       "      <td>-2.093243</td>\n",
       "    </tr>\n",
       "  </tbody>\n",
       "</table>\n",
       "</div>"
      ],
      "text/plain": [
       "          id    target\n",
       "0  c0f722661 -0.767918\n",
       "1  f0953f0a5 -0.177112\n",
       "2  0df072751 -0.593134\n",
       "3  04caf4e0c -1.958051\n",
       "4  0e63f8bea -2.093243"
      ]
     },
     "execution_count": 37,
     "metadata": {},
     "output_type": "execute_result"
    }
   ],
   "source": [
    "print(sample.shape)\n",
    "sample.head()"
   ]
  },
  {
   "cell_type": "code",
   "execution_count": 38,
   "id": "floppy-placement",
   "metadata": {
    "execution": {
     "iopub.execute_input": "2021-06-12T04:24:30.598601Z",
     "iopub.status.busy": "2021-06-12T04:24:30.598064Z",
     "iopub.status.idle": "2021-06-12T04:24:30.601867Z",
     "shell.execute_reply": "2021-06-12T04:24:30.601456Z",
     "shell.execute_reply.started": "2021-06-12T04:10:45.016022Z"
    },
    "papermill": {
     "duration": 0.185202,
     "end_time": "2021-06-12T04:24:30.601993",
     "exception": false,
     "start_time": "2021-06-12T04:24:30.416791",
     "status": "completed"
    },
    "tags": []
   },
   "outputs": [],
   "source": [
    "# importance(kaggle環境では描画しない)\n",
    "if 'kaggle_web_client' in sys.modules:  # kaggle環境\n",
    "    pass\n",
    "else:\n",
    "    plt.figure(figsize=(8, 10))\n",
    "    sns.barplot(x='gain', y='feature', data=importances.sort_values('gain', ascending=False));\n",
    "    plt.savefig(os.path.join(OUTPUT_DIR, 'feature_importance.png'))"
   ]
  },
  {
   "cell_type": "code",
   "execution_count": 39,
   "id": "empty-verification",
   "metadata": {
    "execution": {
     "iopub.execute_input": "2021-06-12T04:24:30.962680Z",
     "iopub.status.busy": "2021-06-12T04:24:30.962084Z",
     "iopub.status.idle": "2021-06-12T04:24:30.964876Z",
     "shell.execute_reply": "2021-06-12T04:24:30.965253Z",
     "shell.execute_reply.started": "2021-06-12T04:10:45.024909Z"
    },
    "papermill": {
     "duration": 0.185856,
     "end_time": "2021-06-12T04:24:30.965386",
     "exception": false,
     "start_time": "2021-06-12T04:24:30.779530",
     "status": "completed"
    },
    "tags": []
   },
   "outputs": [],
   "source": [
    "# importance_boxen(kaggle環境では描画しない)\n",
    "# 参考: https://www.guruguru.science/competitions/13/discussions/d8f2d66a-aeee-4789-8b3d-d5935c26b1b7/\n",
    "\n",
    "if 'kaggle_web_client' in sys.modules:  # kaggle環境\n",
    "    pass\n",
    "else:\n",
    "    order = importances.groupby('feature')\\\n",
    "        .sum()[['gain']]\\\n",
    "        .sort_values('gain', ascending=False).index[:50]\n",
    "\n",
    "    fig, ax = plt.subplots(figsize=(max(6, len(order) * .4), 7))\n",
    "    sns.boxenplot(data=importances, x='feature', y='gain', order=order, ax=ax, palette='viridis')\n",
    "    ax.tick_params(axis='x', rotation=90)\n",
    "    ax.grid()\n",
    "    fig.tight_layout()\n",
    "    fig.savefig(os.path.join(OUTPUT_DIR, 'feature_importance_boxen.png'))"
   ]
  },
  {
   "cell_type": "code",
   "execution_count": 40,
   "id": "binary-harrison",
   "metadata": {
    "execution": {
     "iopub.execute_input": "2021-06-12T04:24:31.336910Z",
     "iopub.status.busy": "2021-06-12T04:24:31.336397Z",
     "iopub.status.idle": "2021-06-12T04:24:36.838368Z",
     "shell.execute_reply": "2021-06-12T04:24:36.837758Z"
    },
    "papermill": {
     "duration": 5.683926,
     "end_time": "2021-06-12T04:24:36.838503",
     "exception": false,
     "start_time": "2021-06-12T04:24:31.154577",
     "status": "completed"
    },
    "tags": []
   },
   "outputs": [],
   "source": [
    "# SHAP(kaggle環境では描画しない)\n",
    "# 参考その1: https://github.com/slundberg/shap/issues/337\n",
    "# 参考その2: https://github.com/slundberg/shap/issues/630\n",
    "import shap\n",
    "\n",
    "if 'kaggle_web_client' in sys.modules:  # kaggle環境\n",
    "    pass\n",
    "else:\n",
    "    shap_values = []\n",
    "    for model_ in models:\n",
    "        explainer = shap.TreeExplainer(model_)\n",
    "        shap_values.append(explainer.shap_values(train_feat))\n",
    "\n",
    "    shap_mean = np.mean(shap_values, axis=0)"
   ]
  },
  {
   "cell_type": "code",
   "execution_count": 41,
   "id": "detected-portuguese",
   "metadata": {
    "execution": {
     "iopub.execute_input": "2021-06-12T04:24:37.204515Z",
     "iopub.status.busy": "2021-06-12T04:24:37.203775Z",
     "iopub.status.idle": "2021-06-12T04:24:37.206595Z",
     "shell.execute_reply": "2021-06-12T04:24:37.206158Z"
    },
    "papermill": {
     "duration": 0.187683,
     "end_time": "2021-06-12T04:24:37.206699",
     "exception": false,
     "start_time": "2021-06-12T04:24:37.019016",
     "status": "completed"
    },
    "tags": []
   },
   "outputs": [],
   "source": [
    "# SHAP_summary_plot\n",
    "# 参考_画像の出力について: https://github.com/slundberg/shap/issues/153\n",
    "if 'kaggle_web_client' in sys.modules:  # kaggle環境\n",
    "    pass\n",
    "else:\n",
    "    shap.summary_plot(shap_mean, train_feat, show=False)\n",
    "    plt.subplots_adjust(left=0.4, right=1.0)  # 保存画像のラベルが欠けるのを防ぐ\n",
    "    plt.savefig(os.path.join(OUTPUT_DIR, 'shap_summary_plot.png'))"
   ]
  },
  {
   "cell_type": "raw",
   "id": "restricted-notice",
   "metadata": {
    "papermill": {
     "duration": 0.175852,
     "end_time": "2021-06-12T04:24:37.559054",
     "exception": false,
     "start_time": "2021-06-12T04:24:37.383202",
     "status": "completed"
    },
    "tags": []
   },
   "source": [
    "# SHAP_dependence_plot\n",
    "if 'kaggle_web_client' in sys.modules:  # kaggle環境\n",
    "    pass\n",
    "else:\n",
    "    for col_ in train_feat.columns:\n",
    "        shap.dependence_plot(col_, shap_mean, train_feat)"
   ]
  },
  {
   "cell_type": "code",
   "execution_count": 42,
   "id": "circular-barrier",
   "metadata": {
    "execution": {
     "iopub.execute_input": "2021-06-12T04:24:37.919194Z",
     "iopub.status.busy": "2021-06-12T04:24:37.918415Z",
     "iopub.status.idle": "2021-06-12T04:24:37.921079Z",
     "shell.execute_reply": "2021-06-12T04:24:37.920663Z"
    },
    "papermill": {
     "duration": 0.185561,
     "end_time": "2021-06-12T04:24:37.921192",
     "exception": false,
     "start_time": "2021-06-12T04:24:37.735631",
     "status": "completed"
    },
    "tags": []
   },
   "outputs": [],
   "source": [
    "# 分布(train_vs_oof)\n",
    "if 'kaggle_web_client' in sys.modules:  # kaggle環境\n",
    "    pass\n",
    "else:\n",
    "    fig, ax = plt.subplots(figsize=(8, 8))\n",
    "    sns.distplot(train_target, label='Train', ax=ax, color='C1')\n",
    "    sns.distplot(oof_preds, label='Out Of Fold', ax=ax, color='C2')\n",
    "    ax.legend()\n",
    "    ax.grid()\n",
    "    plt.savefig(os.path.join(OUTPUT_DIR, 'train_vs_oof.png'))"
   ]
  },
  {
   "cell_type": "code",
   "execution_count": null,
   "id": "governmental-above",
   "metadata": {
    "papermill": {
     "duration": 0.177838,
     "end_time": "2021-06-12T04:24:38.279392",
     "exception": false,
     "start_time": "2021-06-12T04:24:38.101554",
     "status": "completed"
    },
    "tags": []
   },
   "outputs": [],
   "source": []
  },
  {
   "cell_type": "code",
   "execution_count": null,
   "id": "third-holmes",
   "metadata": {
    "papermill": {
     "duration": 0.176226,
     "end_time": "2021-06-12T04:24:38.632110",
     "exception": false,
     "start_time": "2021-06-12T04:24:38.455884",
     "status": "completed"
    },
    "tags": []
   },
   "outputs": [],
   "source": []
  },
  {
   "cell_type": "code",
   "execution_count": null,
   "id": "facial-party",
   "metadata": {
    "papermill": {
     "duration": 0.17703,
     "end_time": "2021-06-12T04:24:38.985900",
     "exception": false,
     "start_time": "2021-06-12T04:24:38.808870",
     "status": "completed"
    },
    "tags": []
   },
   "outputs": [],
   "source": []
  },
  {
   "cell_type": "code",
   "execution_count": null,
   "id": "spoken-atlas",
   "metadata": {
    "papermill": {
     "duration": 0.291273,
     "end_time": "2021-06-12T04:24:39.542938",
     "exception": false,
     "start_time": "2021-06-12T04:24:39.251665",
     "status": "completed"
    },
    "tags": []
   },
   "outputs": [],
   "source": []
  }
 ],
 "metadata": {
  "kernelspec": {
   "display_name": "Python 3",
   "language": "python",
   "name": "python3"
  },
  "language_info": {
   "codemirror_mode": {
    "name": "ipython",
    "version": 3
   },
   "file_extension": ".py",
   "mimetype": "text/x-python",
   "name": "python",
   "nbconvert_exporter": "python",
   "pygments_lexer": "ipython3",
   "version": "3.7.10"
  },
  "papermill": {
   "default_parameters": {},
   "duration": 739.992704,
   "end_time": "2021-06-12T04:24:42.758595",
   "environment_variables": {},
   "exception": null,
   "input_path": "__notebook__.ipynb",
   "output_path": "__notebook__.ipynb",
   "parameters": {},
   "start_time": "2021-06-12T04:12:22.765891",
   "version": "2.3.3"
  }
 },
 "nbformat": 4,
 "nbformat_minor": 5
}
